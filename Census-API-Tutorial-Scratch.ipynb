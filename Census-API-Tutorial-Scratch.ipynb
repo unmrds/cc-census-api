{
 "cells": [
  {
   "cell_type": "markdown",
   "metadata": {},
   "source": [
    "# Census APIs\n",
    "\n",
    "Request a key at <https://api.census.gov/data/key_signup.html>\n",
    "\n",
    "An email will be sent to the addres you provide. The email will include a link to activate the key. It may take a few minutes before the key can be activated."
   ]
  },
  {
   "cell_type": "code",
   "execution_count": 1,
   "metadata": {},
   "outputs": [],
   "source": [
    "# Load API key\n",
    "\n",
    "# Note the file with the API key is not in the GitHub repo.\n",
    "# Keys need to be read from a local directory\n",
    "with open(\"jwCensusApi\", \"r\") as i:\n",
    "    key = i.read()"
   ]
  },
  {
   "cell_type": "code",
   "execution_count": 2,
   "metadata": {},
   "outputs": [],
   "source": [
    "import json\n",
    "import requests\n",
    "import pandas as pd\n",
    "import matplotlib as plt"
   ]
  },
  {
   "cell_type": "code",
   "execution_count": 3,
   "metadata": {},
   "outputs": [],
   "source": [
    "'''\n",
    "Current Population Survey Annual Social and Economic Supplement\n",
    "https://api.census.gov/data.html\n",
    "\n",
    "Vars: https://api.census.gov/data/2021/cps/asec/mar/variables.html\n",
    "'''\n",
    "\n",
    "endpoint = \"http://api.census.gov/data/2021/cps/asec/mar\" # state geographies\n",
    "ex1_url = \"https://api.census.gov/data/2021/cps/asec/mar?get=NOW_COV,MARSUPWT,A_MARITL&for=state:35&A_HGA=39\"\n",
    "ex2_url = \"https://api.census.gov/data/2021/cps/asec/mar?tabulate=weight(MARSUPWT)&col+NOW_COV&row+A_MARITL&for=state:35&A_HGA=39\""
   ]
  },
  {
   "cell_type": "code",
   "execution_count": 4,
   "metadata": {},
   "outputs": [],
   "source": [
    "api_request_url = ex1_url + \"&key=\" + key\n",
    "api_request = requests.get(api_request_url)"
   ]
  },
  {
   "cell_type": "code",
   "execution_count": 5,
   "metadata": {},
   "outputs": [],
   "source": [
    "api_json = api_request.json()"
   ]
  },
  {
   "cell_type": "code",
   "execution_count": 6,
   "metadata": {},
   "outputs": [],
   "source": [
    "# print(json.dumps(api_json, indent=4)) # long output"
   ]
  },
  {
   "cell_type": "markdown",
   "metadata": {},
   "source": [
    "## Identifying the Data Source\n",
    "\n",
    "We are going to use the Census API to retrieve data to reproduce some of the statistics from the Feb 24, 2022, press release and infographic *A Higher Degree.*\n",
    "\n",
    "**Press release:** <https://www.census.gov/newsroom/press-releases/2022/educational-attainment.html>\n",
    "\n",
    "**Infographic:** <https://www.census.gov/library/visualizations/2022/comm/a-higher-degree.html>\n",
    "\n",
    "Below is the infographic. Note that for today's workshop we are using only 2021 data.\n",
    "\n",
    "<a class=\"embeddable-image__embedLink\" href=\"https://www.census.gov/library/visualizations/2022/comm/a-higher-degree.html?cid=higher-degree\" target=\"_blank\"><img class=\"embeddable-image__embedImage\" data-src=\"/library/visualizations/2022/comm/a-higher-degree/_jcr_content/root/responsivegrid/embeddableimage1119.coreimg.jpeg/1645624284211/educational-attainment-2022.jpeg\" alt=\"A Higher Degree\" title=\"A Higher Degree\" src=\"https://www.census.gov/library/visualizations/2022/comm/a-higher-degree/_jcr_content/root/responsivegrid/embeddableimage1119.coreimg.jpeg/1645624284211/educational-attainment-2022.jpeg\" width=\"1080\" height=\"1080\"></a>[Source: U.S. Census Bureau]"
   ]
  },
  {
   "cell_type": "markdown",
   "metadata": {},
   "source": [
    "According to the press release, the data are from the *2000–2002 March Current Population Survey and 2003–2021 Annual Social and Economic Supplement to the Current Population Survey.*"
   ]
  },
  {
   "cell_type": "markdown",
   "metadata": {},
   "source": [
    "### Q: How to get info on variables via API?\n",
    "\n",
    "We can look it up online, but we may also get this info dynamically. \n",
    "\n",
    "#### Steps:\n",
    "\n",
    "1. Go to the *Census Data API Discovery Tool*: <https://www.census.gov/data/developers/updates/new-discovery-tool.html>\n",
    "1. Preview the datasets and available information using the HTML format: <https://api.census.gov/data.html>\n",
    "1. Using a process similar to the above, we can also retrieve the information in JSON format."
   ]
  },
  {
   "cell_type": "code",
   "execution_count": 51,
   "metadata": {},
   "outputs": [],
   "source": [
    "# Request the JSON information about available datasets\n",
    "\n",
    "datasets_url = \"https://api.census.gov/data.json\"\n",
    "datasets_request = requests.get(datasets_url)\n",
    "datasets_json = datasets_request.json()"
   ]
  },
  {
   "cell_type": "code",
   "execution_count": 63,
   "metadata": {
    "scrolled": false
   },
   "outputs": [
    {
     "name": "stdout",
     "output_type": "stream",
     "text": [
      "[\n",
      "    {\n",
      "        \"c_vintage\": 2021,\n",
      "        \"c_dataset\": [\n",
      "            \"cps\",\n",
      "            \"asec\",\n",
      "            \"mar\"\n",
      "        ],\n",
      "        \"c_geographyLink\": \"http://api.census.gov/data/2021/cps/asec/mar/geography.json\",\n",
      "        \"c_variablesLink\": \"http://api.census.gov/data/2021/cps/asec/mar/variables.json\",\n",
      "        \"c_tagsLink\": \"http://api.census.gov/data/2021/cps/asec/mar/tags.json\",\n",
      "        \"c_examplesLink\": \"http://api.census.gov/data/2021/cps/asec/mar/examples.json\",\n",
      "        \"c_groupsLink\": \"http://api.census.gov/data/2021/cps/asec/mar/groups.json\",\n",
      "        \"c_sorts_url\": \"http://api.census.gov/data/2021/cps/asec/mar/sorts.json\",\n",
      "        \"c_valuesLink\": \"http://api.census.gov/data/2021/cps/asec/mar/values.json\",\n",
      "        \"c_documentationLink\": \"https://www.census.gov/developer/\",\n",
      "        \"c_isMicrodata\": true,\n",
      "        \"c_isCube\": true,\n",
      "        \"c_isAvailable\": true,\n",
      "        \"@type\": \"dcat:Dataset\",\n",
      "        \"title\": \"Current Population Survey Annual Social and Economic Supplement\",\n",
      "        \"accessLevel\": \"public\",\n",
      "        \"bureauCode\": [\n",
      "            \"006:07\"\n",
      "        ],\n",
      "        \"description\": \"The Annual Social and Economic Supplement or March CPS supplement is the primary source of detailed information on income and work experience in the United States. Numerous publications based on this survey are issued each year by the Bureaus of Labor Statistics and Census. A public-use microdata file is available for private researchers, who also produce many academic and policy-related documents based on these data. The Annual Social and Economic Supplement is used to generate the annual Population Profile of the United States, reports on geographical mobility and educational attainment, and detailed analysis of money income and poverty status. The labor force and work experience data from this survey are used to profile the U.S. labor market and to make employment projections. To allow for the same type of in-depth analysis of hispanics, additional hispanic sample units are added to the basic CPS sample in March each year. Additional weighting is also performed so that estimates can be made for households and families, in addition to persons.\",\n",
      "        \"distribution\": [\n",
      "            {\n",
      "                \"@type\": \"dcat:Distribution\",\n",
      "                \"accessURL\": \"http://api.census.gov/data/2021/cps/asec/mar\",\n",
      "                \"description\": \"API endpoint\",\n",
      "                \"format\": \"API\",\n",
      "                \"mediaType\": \"application/json\",\n",
      "                \"title\": \"API endpoint\"\n",
      "            }\n",
      "        ],\n",
      "        \"contactPoint\": {\n",
      "            \"fn\": \"Current Population Survey Office\",\n",
      "            \"hasEmail\": \"mailto:dsd.cps@census.gov\"\n",
      "        },\n",
      "        \"identifier\": \"https://api.census.gov/data/id/CPSASEC2021\",\n",
      "        \"keyword\": [],\n",
      "        \"license\": \"https://creativecommons.org/publicdomain/zero/1.0/\",\n",
      "        \"modified\": \"2021-08-10 00:00:00.0\",\n",
      "        \"programCode\": [\n",
      "            \"006:004\"\n",
      "        ],\n",
      "        \"references\": [\n",
      "            \"https://www.census.gov/developers/\"\n",
      "        ],\n",
      "        \"temporal\": \"unidentified\",\n",
      "        \"publisher\": {\n",
      "            \"@type\": \"org:Organization\",\n",
      "            \"name\": \"U.S. Census Bureau\",\n",
      "            \"subOrganizationOf\": {\n",
      "                \"@type\": \"org:Organization\",\n",
      "                \"name\": \"U.S. Department Of Commerce\",\n",
      "                \"subOrganizationOf\": {\n",
      "                    \"@type\": \"org:Organization\",\n",
      "                    \"name\": \"U.S. Government\"\n",
      "                }\n",
      "            }\n",
      "        }\n",
      "    }\n",
      "]\n"
     ]
    }
   ],
   "source": [
    "# this took a little sleuthing...\n",
    "\n",
    "# Get the titles of the datasets\n",
    "dataset_list = datasets_json[\"dataset\"]\n",
    "\n",
    "# title: Current Population Survey Annual Social and Economic Supplement\n",
    "# c_vintage: 2021\n",
    "# id: https://api.census.gov/data/id/CPSASEC2021\n",
    "\n",
    "cpd_asec_mar = [d for d in dataset_list if d[\"identifier\"] == \"https://api.census.gov/data/id/CPSASEC2021\"]\n",
    "print(json.dumps(cpd_asec_mar, indent=4)) # long output"
   ]
  },
  {
   "cell_type": "code",
   "execution_count": 74,
   "metadata": {
    "scrolled": false
   },
   "outputs": [
    {
     "name": "stdout",
     "output_type": "stream",
     "text": [
      "ACTC_CRD : additional chld tax credit\n",
      "AGE1 : Demographics, Age recode, persons 15+ years\n",
      "AGI : Federal adjusted gross income\n",
      "ANN_VAL : Retirement income, annuities amount\n",
      "ANN_YN : Retirement income, annuities, y/n\n",
      "AXAGE : Allocation flag for A_AGE\n",
      "AXCLSWKR : Allocation flag for A_CLSWKR\n",
      "AXENRLW : Allocation flag for A_ENRLW\n",
      "AXFTPT : Allocation flag for A_FTPT\n",
      "AXHGA : Allocation flag for A_HGA\n"
     ]
    }
   ],
   "source": [
    "# Get info on variables\n",
    "\n",
    "dataset_vars_url = cpd_asec_mar[0][\"c_variablesLink\"]\n",
    "dataset_vars_request = requests.get(dataset_vars_url)\n",
    "datasets_vars_json = dataset_vars_request.json()\n",
    "# print(json.dumps(datasets_vars_json, indent=4)) # long output - many variables\n",
    "# just print the variable and the label\n",
    "dataset_vars = datasets_vars_json[\"variables\"]\n",
    "# sort variable names\n",
    "sorted_vars = sorted(dataset_vars.keys())\n",
    "for k in sorted_vars[:10]:\n",
    "    var_info = dataset_vars[k]\n",
    "    print(k, \":\", var_info[\"label\"])"
   ]
  },
  {
   "cell_type": "code",
   "execution_count": 75,
   "metadata": {},
   "outputs": [],
   "source": [
    "# Maybe create dictionaries of vars:defs\n",
    "# populate via iteration\n",
    "\n",
    "var = \"NOW_COV\"\n",
    "var_def_url = endpoint + \"/variables/\" + var"
   ]
  },
  {
   "cell_type": "code",
   "execution_count": 76,
   "metadata": {},
   "outputs": [],
   "source": [
    "var_def_request = requests.get(var_def_url)"
   ]
  },
  {
   "cell_type": "code",
   "execution_count": 77,
   "metadata": {},
   "outputs": [],
   "source": [
    "var_json = var_def_request.json()"
   ]
  },
  {
   "cell_type": "code",
   "execution_count": 78,
   "metadata": {
    "scrolled": true
   },
   "outputs": [
    {
     "name": "stdout",
     "output_type": "stream",
     "text": [
      "{\n",
      "    \"name\": \"NOW_COV\",\n",
      "    \"label\": \"Currently covered by health insurance coverage\",\n",
      "    \"predicateType\": \"int\",\n",
      "    \"group\": \"N/A\",\n",
      "    \"limit\": 0,\n",
      "    \"suggested-weight\": \"MARSUPWT\",\n",
      "    \"values\": {\n",
      "        \"item\": {\n",
      "            \"2\": \"No\",\n",
      "            \"1\": \"Yes\"\n",
      "        }\n",
      "    }\n",
      "}\n"
     ]
    }
   ],
   "source": [
    "print(json.dumps(var_json, indent=4))"
   ]
  },
  {
   "cell_type": "code",
   "execution_count": 79,
   "metadata": {},
   "outputs": [],
   "source": [
    "'''\n",
    "Variables of interest\n",
    "\n",
    "A_HGA - educational attainment\n",
    "AGE1 - age\n",
    "AGI - federal adjusted gross income\n",
    "\n",
    "NM FIPS ID = 35\n",
    "'''\n",
    "\n",
    "vars_list = [\"A_HGA\", \"AGE1\", \"AGI\"]\n",
    "vars_dict = {}\n",
    "\n",
    "for v in vars_list:\n",
    "    var_def_url = endpoint + \"/variables/\" + v\n",
    "    var_def_request = requests.get(var_def_url)\n",
    "    var_json = var_def_request.json()\n",
    "    vars_dict[v] = var_json"
   ]
  },
  {
   "cell_type": "code",
   "execution_count": 80,
   "metadata": {},
   "outputs": [
    {
     "data": {
      "text/plain": [
       "{'A_HGA': {'name': 'A_HGA',\n",
       "  'label': 'Demographics, Educational attainment',\n",
       "  'predicateType': 'int',\n",
       "  'group': 'N/A',\n",
       "  'limit': 0,\n",
       "  'suggested-weight': 'MARSUPWT',\n",
       "  'values': {'item': {'35': '9th Grade',\n",
       "    '41': 'Assc degree-occupation/vocation',\n",
       "    '0': 'Children',\n",
       "    '31': 'Less Than 1st Grade',\n",
       "    '44': \"Master's degree (MA,MS,MENG,MED,MSW,MBA)\",\n",
       "    '43': \"Bachelor's degree (BA,AB,BS)\",\n",
       "    '34': '7th and 8th grade',\n",
       "    '38': '12th Grade No Diploma',\n",
       "    '37': '11th Grade',\n",
       "    '33': '5th Or 6th Grade',\n",
       "    '45': 'Professional school degree (MD,DDS,DVM,L',\n",
       "    '39': 'High school graduate-high school diploma',\n",
       "    '32': '1st,2nd,3rd,or 4th grade',\n",
       "    '40': 'Some College But No Degree',\n",
       "    '46': 'Doctorate degree (PHD,EDD)',\n",
       "    '36': '10th Grade',\n",
       "    '42': 'Assc degree-academic program'}}},\n",
       " 'AGE1': {'name': 'AGE1',\n",
       "  'label': 'Demographics, Age recode, persons 15+ years',\n",
       "  'predicateType': 'int',\n",
       "  'group': 'N/A',\n",
       "  'limit': 0,\n",
       "  'suggested-weight': 'MARSUPWT',\n",
       "  'values': {'item': {'9': '40 to 44 years',\n",
       "    '6': '25 to 29 years',\n",
       "    '5': '22 to 24 years',\n",
       "    '4': '20 and 21 years',\n",
       "    '8': '35 to 39 years',\n",
       "    '10': '45 to 49 years',\n",
       "    '2': '16 and 17 years',\n",
       "    '11': '50 to 54 years',\n",
       "    '7': '30 to 34 years',\n",
       "    '3': '18 and 19 years',\n",
       "    '16': '70 to 74 years',\n",
       "    '1': '15 years',\n",
       "    '0': 'Not In Universe',\n",
       "    '13': '60 to 61 years',\n",
       "    '12': '55 to 59 years',\n",
       "    '14': '62 to 64 years',\n",
       "    '15': '65 to 69 years',\n",
       "    '17': '75 years and over'}}},\n",
       " 'AGI': {'name': 'AGI',\n",
       "  'label': 'Federal adjusted gross income',\n",
       "  'predicateType': 'int',\n",
       "  'group': 'N/A',\n",
       "  'limit': 0,\n",
       "  'suggested-weight': 'MARSUPWT',\n",
       "  'values': {'range': [{'min': '-999999',\n",
       "     'max': '9999999',\n",
       "     'description': 'Range'}]}}}"
      ]
     },
     "execution_count": 80,
     "metadata": {},
     "output_type": "execute_result"
    }
   ],
   "source": [
    "vars_dict"
   ]
  },
  {
   "cell_type": "code",
   "execution_count": 13,
   "metadata": {},
   "outputs": [
    {
     "name": "stdout",
     "output_type": "stream",
     "text": [
      "A_HGA,AGE1,AGI\n"
     ]
    }
   ],
   "source": [
    "# API expects vars to be comma separated, no spaces\n",
    "\n",
    "vars_query = ','.join(str(v) for v in vars_list)\n",
    "print(vars_query)"
   ]
  },
  {
   "cell_type": "code",
   "execution_count": 14,
   "metadata": {},
   "outputs": [],
   "source": [
    "# request non-tabulated data\n",
    "# URL format: \"https://api.census.gov/data/2021/cps/asec/mar?get=NOW_COV,MARSUPWT,A_MARITL&for=state:35\"\n",
    "\n",
    "# We can parameterize the state but for now we will hard code all and NM (35)\n",
    "api_request_url = endpoint + \"?get=\" + vars_query + \"&for=state:*&key=\" + key\n",
    "api_request = requests.get(api_request_url)\n",
    "api_json = api_request.json()"
   ]
  },
  {
   "cell_type": "code",
   "execution_count": 15,
   "metadata": {},
   "outputs": [
    {
     "data": {
      "text/plain": [
       "list"
      ]
     },
     "execution_count": 15,
     "metadata": {},
     "output_type": "execute_result"
    }
   ],
   "source": [
    "type(api_json) # results seem to generally be lists, but check in case a dictionary is returned"
   ]
  },
  {
   "cell_type": "code",
   "execution_count": 16,
   "metadata": {},
   "outputs": [],
   "source": [
    "census_df = pd.read_json(json.dumps(api_json), typ = \"frame\", orient = \"values\")"
   ]
  },
  {
   "cell_type": "code",
   "execution_count": 17,
   "metadata": {},
   "outputs": [
    {
     "data": {
      "text/html": [
       "<div>\n",
       "<style scoped>\n",
       "    .dataframe tbody tr th:only-of-type {\n",
       "        vertical-align: middle;\n",
       "    }\n",
       "\n",
       "    .dataframe tbody tr th {\n",
       "        vertical-align: top;\n",
       "    }\n",
       "\n",
       "    .dataframe thead th {\n",
       "        text-align: right;\n",
       "    }\n",
       "</style>\n",
       "<table border=\"1\" class=\"dataframe\">\n",
       "  <thead>\n",
       "    <tr style=\"text-align: right;\">\n",
       "      <th></th>\n",
       "      <th>0</th>\n",
       "      <th>1</th>\n",
       "      <th>2</th>\n",
       "      <th>3</th>\n",
       "    </tr>\n",
       "  </thead>\n",
       "  <tbody>\n",
       "    <tr>\n",
       "      <th>0</th>\n",
       "      <td>A_HGA</td>\n",
       "      <td>AGE1</td>\n",
       "      <td>AGI</td>\n",
       "      <td>state</td>\n",
       "    </tr>\n",
       "    <tr>\n",
       "      <th>1</th>\n",
       "      <td>39</td>\n",
       "      <td>12</td>\n",
       "      <td>10000</td>\n",
       "      <td>23</td>\n",
       "    </tr>\n",
       "    <tr>\n",
       "      <th>2</th>\n",
       "      <td>39</td>\n",
       "      <td>12</td>\n",
       "      <td>0</td>\n",
       "      <td>23</td>\n",
       "    </tr>\n",
       "    <tr>\n",
       "      <th>3</th>\n",
       "      <td>39</td>\n",
       "      <td>17</td>\n",
       "      <td>0</td>\n",
       "      <td>23</td>\n",
       "    </tr>\n",
       "    <tr>\n",
       "      <th>4</th>\n",
       "      <td>43</td>\n",
       "      <td>15</td>\n",
       "      <td>80819</td>\n",
       "      <td>23</td>\n",
       "    </tr>\n",
       "  </tbody>\n",
       "</table>\n",
       "</div>"
      ],
      "text/plain": [
       "       0     1      2      3\n",
       "0  A_HGA  AGE1    AGI  state\n",
       "1     39    12  10000     23\n",
       "2     39    12      0     23\n",
       "3     39    17      0     23\n",
       "4     43    15  80819     23"
      ]
     },
     "execution_count": 17,
     "metadata": {},
     "output_type": "execute_result"
    }
   ],
   "source": [
    "census_df.head()"
   ]
  },
  {
   "cell_type": "code",
   "execution_count": 18,
   "metadata": {},
   "outputs": [],
   "source": [
    "census_df.columns = census_df.iloc[0]"
   ]
  },
  {
   "cell_type": "code",
   "execution_count": 19,
   "metadata": {},
   "outputs": [
    {
     "data": {
      "text/html": [
       "<div>\n",
       "<style scoped>\n",
       "    .dataframe tbody tr th:only-of-type {\n",
       "        vertical-align: middle;\n",
       "    }\n",
       "\n",
       "    .dataframe tbody tr th {\n",
       "        vertical-align: top;\n",
       "    }\n",
       "\n",
       "    .dataframe thead th {\n",
       "        text-align: right;\n",
       "    }\n",
       "</style>\n",
       "<table border=\"1\" class=\"dataframe\">\n",
       "  <thead>\n",
       "    <tr style=\"text-align: right;\">\n",
       "      <th></th>\n",
       "      <th>A_HGA</th>\n",
       "      <th>AGE1</th>\n",
       "      <th>AGI</th>\n",
       "      <th>state</th>\n",
       "    </tr>\n",
       "  </thead>\n",
       "  <tbody>\n",
       "    <tr>\n",
       "      <th>0</th>\n",
       "      <td>A_HGA</td>\n",
       "      <td>AGE1</td>\n",
       "      <td>AGI</td>\n",
       "      <td>state</td>\n",
       "    </tr>\n",
       "    <tr>\n",
       "      <th>1</th>\n",
       "      <td>39</td>\n",
       "      <td>12</td>\n",
       "      <td>10000</td>\n",
       "      <td>23</td>\n",
       "    </tr>\n",
       "    <tr>\n",
       "      <th>2</th>\n",
       "      <td>39</td>\n",
       "      <td>12</td>\n",
       "      <td>0</td>\n",
       "      <td>23</td>\n",
       "    </tr>\n",
       "    <tr>\n",
       "      <th>3</th>\n",
       "      <td>39</td>\n",
       "      <td>17</td>\n",
       "      <td>0</td>\n",
       "      <td>23</td>\n",
       "    </tr>\n",
       "    <tr>\n",
       "      <th>4</th>\n",
       "      <td>43</td>\n",
       "      <td>15</td>\n",
       "      <td>80819</td>\n",
       "      <td>23</td>\n",
       "    </tr>\n",
       "  </tbody>\n",
       "</table>\n",
       "</div>"
      ],
      "text/plain": [
       "0  A_HGA  AGE1    AGI  state\n",
       "0  A_HGA  AGE1    AGI  state\n",
       "1     39    12  10000     23\n",
       "2     39    12      0     23\n",
       "3     39    17      0     23\n",
       "4     43    15  80819     23"
      ]
     },
     "execution_count": 19,
     "metadata": {},
     "output_type": "execute_result"
    }
   ],
   "source": [
    "census_df.head()"
   ]
  },
  {
   "cell_type": "code",
   "execution_count": 20,
   "metadata": {},
   "outputs": [],
   "source": [
    "census_df = census_df.drop(census_df.index[0])"
   ]
  },
  {
   "cell_type": "code",
   "execution_count": 21,
   "metadata": {},
   "outputs": [
    {
     "data": {
      "text/html": [
       "<div>\n",
       "<style scoped>\n",
       "    .dataframe tbody tr th:only-of-type {\n",
       "        vertical-align: middle;\n",
       "    }\n",
       "\n",
       "    .dataframe tbody tr th {\n",
       "        vertical-align: top;\n",
       "    }\n",
       "\n",
       "    .dataframe thead th {\n",
       "        text-align: right;\n",
       "    }\n",
       "</style>\n",
       "<table border=\"1\" class=\"dataframe\">\n",
       "  <thead>\n",
       "    <tr style=\"text-align: right;\">\n",
       "      <th></th>\n",
       "      <th>A_HGA</th>\n",
       "      <th>AGE1</th>\n",
       "      <th>AGI</th>\n",
       "      <th>state</th>\n",
       "    </tr>\n",
       "  </thead>\n",
       "  <tbody>\n",
       "    <tr>\n",
       "      <th>1</th>\n",
       "      <td>39</td>\n",
       "      <td>12</td>\n",
       "      <td>10000</td>\n",
       "      <td>23</td>\n",
       "    </tr>\n",
       "    <tr>\n",
       "      <th>2</th>\n",
       "      <td>39</td>\n",
       "      <td>12</td>\n",
       "      <td>0</td>\n",
       "      <td>23</td>\n",
       "    </tr>\n",
       "    <tr>\n",
       "      <th>3</th>\n",
       "      <td>39</td>\n",
       "      <td>17</td>\n",
       "      <td>0</td>\n",
       "      <td>23</td>\n",
       "    </tr>\n",
       "    <tr>\n",
       "      <th>4</th>\n",
       "      <td>43</td>\n",
       "      <td>15</td>\n",
       "      <td>80819</td>\n",
       "      <td>23</td>\n",
       "    </tr>\n",
       "    <tr>\n",
       "      <th>5</th>\n",
       "      <td>39</td>\n",
       "      <td>15</td>\n",
       "      <td>0</td>\n",
       "      <td>23</td>\n",
       "    </tr>\n",
       "  </tbody>\n",
       "</table>\n",
       "</div>"
      ],
      "text/plain": [
       "0 A_HGA AGE1    AGI state\n",
       "1    39   12  10000    23\n",
       "2    39   12      0    23\n",
       "3    39   17      0    23\n",
       "4    43   15  80819    23\n",
       "5    39   15      0    23"
      ]
     },
     "execution_count": 21,
     "metadata": {},
     "output_type": "execute_result"
    }
   ],
   "source": [
    "census_df.head()"
   ]
  },
  {
   "cell_type": "code",
   "execution_count": 22,
   "metadata": {},
   "outputs": [
    {
     "name": "stdout",
     "output_type": "stream",
     "text": [
      "<class 'pandas.core.frame.DataFrame'>\n",
      "Int64Index: 163543 entries, 1 to 163543\n",
      "Data columns (total 4 columns):\n",
      " #   Column  Non-Null Count   Dtype \n",
      "---  ------  --------------   ----- \n",
      " 0   A_HGA   163543 non-null  object\n",
      " 1   AGE1    163543 non-null  object\n",
      " 2   AGI     163543 non-null  object\n",
      " 3   state   163543 non-null  object\n",
      "dtypes: object(4)\n",
      "memory usage: 6.2+ MB\n"
     ]
    }
   ],
   "source": [
    "census_df.info()"
   ]
  },
  {
   "cell_type": "code",
   "execution_count": 23,
   "metadata": {},
   "outputs": [],
   "source": [
    "# We can separately request data for just NM, or we can subset\n",
    "# recall that the FIPS code for NM is 35\n",
    "\n",
    "nm_census_data = census_df[census_df[\"state\"] == \"35\"].copy() # quotes around \"35\" b/c it is an object not an int"
   ]
  },
  {
   "cell_type": "code",
   "execution_count": 24,
   "metadata": {},
   "outputs": [
    {
     "name": "stdout",
     "output_type": "stream",
     "text": [
      "<class 'pandas.core.frame.DataFrame'>\n",
      "Int64Index: 2900 entries, 126038 to 128937\n",
      "Data columns (total 4 columns):\n",
      " #   Column  Non-Null Count  Dtype \n",
      "---  ------  --------------  ----- \n",
      " 0   A_HGA   2900 non-null   object\n",
      " 1   AGE1    2900 non-null   object\n",
      " 2   AGI     2900 non-null   object\n",
      " 3   state   2900 non-null   object\n",
      "dtypes: object(4)\n",
      "memory usage: 113.3+ KB\n"
     ]
    }
   ],
   "source": [
    "nm_census_data.info()"
   ]
  },
  {
   "cell_type": "code",
   "execution_count": 25,
   "metadata": {},
   "outputs": [],
   "source": [
    "# out of curiosity let's get the NM data via API\n",
    "# same as before with one different parameter\n",
    "\n",
    "api_request_url = endpoint + \"?get=\" + vars_query + \"&for=state:35&key=\" + key\n",
    "api_request = requests.get(api_request_url)\n",
    "api_json = api_request.json()\n",
    "\n",
    "nm_census_df = pd.read_json(json.dumps(api_json), typ = \"frame\", orient = \"values\")\n",
    "nm_census_df.columns = nm_census_df.iloc[0]\n",
    "nm_census_df = nm_census_df.drop(nm_census_df.index[0])"
   ]
  },
  {
   "cell_type": "code",
   "execution_count": 26,
   "metadata": {},
   "outputs": [
    {
     "name": "stdout",
     "output_type": "stream",
     "text": [
      "<class 'pandas.core.frame.DataFrame'>\n",
      "Int64Index: 2900 entries, 1 to 2900\n",
      "Data columns (total 4 columns):\n",
      " #   Column  Non-Null Count  Dtype \n",
      "---  ------  --------------  ----- \n",
      " 0   A_HGA   2900 non-null   object\n",
      " 1   AGE1    2900 non-null   object\n",
      " 2   AGI     2900 non-null   object\n",
      " 3   state   2900 non-null   object\n",
      "dtypes: object(4)\n",
      "memory usage: 113.3+ KB\n"
     ]
    }
   ],
   "source": [
    "nm_census_df.info() # the data have the same number of rows"
   ]
  },
  {
   "cell_type": "code",
   "execution_count": 27,
   "metadata": {},
   "outputs": [],
   "source": [
    "# Let's make a function to get the data and convert to data frame\n",
    "# \"https://api.census.gov/data/2021/cps/asec/mar?tabulate=weight(MARSUPWT)&col+NOW_COV&row+A_MARITL&for=state:35&A_HGA=39\"\n",
    "def get_census_data(endpoint_url, vars_list, key, state = \"*\"):\n",
    "    # First, convert vars_list to string\n",
    "    vars_query = ','.join(str(v) for v in vars_list)\n",
    "    \n",
    "    # Build the request URL\n",
    "    api_request_url = endpoint_url + \"?get=\" + vars_query + \"&for=state:\" + state + \"&key=\" + key\n",
    "    \n",
    "    # Request the data\n",
    "    api_request = requests.get(api_request_url)\n",
    "    api_json = api_request.json()\n",
    "    \n",
    "    # Convert returned JSON to dataframe\n",
    "    df = pd.read_json(json.dumps(api_json), typ = \"frame\", orient = \"values\")\n",
    "    \n",
    "    # Use first row values for col headers\n",
    "    df.columns = df.iloc[0]\n",
    "    \n",
    "    # Drop first row, which is still header info\n",
    "    df = df.drop(df.index[0])\n",
    "    \n",
    "    return df\n",
    "\n",
    "# While we're at it, create a function to get var defs\n",
    "# No key needed\n",
    "def get_census_vars(vars_list):\n",
    "    vars_dict = {}\n",
    "    for v in vars_list:\n",
    "        var_def_url = endpoint + \"/variables/\" + v\n",
    "        var_def_request = requests.get(var_def_url)\n",
    "        var_json = var_def_request.json()\n",
    "        vars_dict[v] = var_json\n",
    "    return vars_dict"
   ]
  },
  {
   "cell_type": "code",
   "execution_count": 28,
   "metadata": {},
   "outputs": [],
   "source": [
    "# Now we can make ad hoc requests\n",
    "# but we will redo our initial request\n",
    "\n",
    "vars_list = [\"A_HGA\", \"AGE1\", \"AGI\"]\n",
    "var_info = get_census_vars(vars_list)\n",
    "census_data = get_census_data(endpoint, vars_list, key) # use default * for all state data"
   ]
  },
  {
   "cell_type": "code",
   "execution_count": 29,
   "metadata": {},
   "outputs": [
    {
     "name": "stdout",
     "output_type": "stream",
     "text": [
      "<class 'pandas.core.frame.DataFrame'>\n",
      "Int64Index: 163543 entries, 1 to 163543\n",
      "Data columns (total 4 columns):\n",
      " #   Column  Non-Null Count   Dtype \n",
      "---  ------  --------------   ----- \n",
      " 0   A_HGA   163543 non-null  object\n",
      " 1   AGE1    163543 non-null  object\n",
      " 2   AGI     163543 non-null  object\n",
      " 3   state   163543 non-null  object\n",
      "dtypes: object(4)\n",
      "memory usage: 6.2+ MB\n"
     ]
    }
   ],
   "source": [
    "census_data.info()"
   ]
  },
  {
   "cell_type": "code",
   "execution_count": 30,
   "metadata": {},
   "outputs": [],
   "source": [
    "# try again with just NM\n",
    "# census_data = get_census_data(endpoint, vars_list, key, state = \"35\") # NM\n",
    "# census_data.info()"
   ]
  },
  {
   "cell_type": "code",
   "execution_count": 31,
   "metadata": {},
   "outputs": [
    {
     "data": {
      "text/plain": [
       "{'A_HGA': {'name': 'A_HGA',\n",
       "  'label': 'Demographics, Educational attainment',\n",
       "  'predicateType': 'int',\n",
       "  'group': 'N/A',\n",
       "  'limit': 0,\n",
       "  'suggested-weight': 'MARSUPWT',\n",
       "  'values': {'item': {'35': '9th Grade',\n",
       "    '41': 'Assc degree-occupation/vocation',\n",
       "    '0': 'Children',\n",
       "    '31': 'Less Than 1st Grade',\n",
       "    '44': \"Master's degree (MA,MS,MENG,MED,MSW,MBA)\",\n",
       "    '43': \"Bachelor's degree (BA,AB,BS)\",\n",
       "    '34': '7th and 8th grade',\n",
       "    '38': '12th Grade No Diploma',\n",
       "    '37': '11th Grade',\n",
       "    '33': '5th Or 6th Grade',\n",
       "    '45': 'Professional school degree (MD,DDS,DVM,L',\n",
       "    '39': 'High school graduate-high school diploma',\n",
       "    '32': '1st,2nd,3rd,or 4th grade',\n",
       "    '40': 'Some College But No Degree',\n",
       "    '46': 'Doctorate degree (PHD,EDD)',\n",
       "    '36': '10th Grade',\n",
       "    '42': 'Assc degree-academic program'}}},\n",
       " 'AGE1': {'name': 'AGE1',\n",
       "  'label': 'Demographics, Age recode, persons 15+ years',\n",
       "  'predicateType': 'int',\n",
       "  'group': 'N/A',\n",
       "  'limit': 0,\n",
       "  'suggested-weight': 'MARSUPWT',\n",
       "  'values': {'item': {'9': '40 to 44 years',\n",
       "    '6': '25 to 29 years',\n",
       "    '5': '22 to 24 years',\n",
       "    '4': '20 and 21 years',\n",
       "    '8': '35 to 39 years',\n",
       "    '10': '45 to 49 years',\n",
       "    '2': '16 and 17 years',\n",
       "    '11': '50 to 54 years',\n",
       "    '7': '30 to 34 years',\n",
       "    '3': '18 and 19 years',\n",
       "    '16': '70 to 74 years',\n",
       "    '1': '15 years',\n",
       "    '0': 'Not In Universe',\n",
       "    '13': '60 to 61 years',\n",
       "    '12': '55 to 59 years',\n",
       "    '14': '62 to 64 years',\n",
       "    '15': '65 to 69 years',\n",
       "    '17': '75 years and over'}}},\n",
       " 'AGI': {'name': 'AGI',\n",
       "  'label': 'Federal adjusted gross income',\n",
       "  'predicateType': 'int',\n",
       "  'group': 'N/A',\n",
       "  'limit': 0,\n",
       "  'suggested-weight': 'MARSUPWT',\n",
       "  'values': {'range': [{'min': '-999999',\n",
       "     'max': '9999999',\n",
       "     'description': 'Range'}]}}}"
      ]
     },
     "execution_count": 31,
     "metadata": {},
     "output_type": "execute_result"
    }
   ],
   "source": [
    "# Things work - let's see about reproducing stats from the press release\n",
    "# Right now we have age and education attainment (and income) for 2021\n",
    "\n",
    "'''\n",
    "In 2021, the highest level of education of the population age 25 and older in the United States \n",
    "was distributed as follows: \n",
    "\n",
    "    8.9% had less than a high school diploma or equivalent.\n",
    "    27.9% had high school graduate as their highest level of school completed. \n",
    "    14.9% had completed some college but not a degree.\n",
    "    10.5% had an associate degree as their highest level of school completed.\n",
    "    23.5% had a bachelor’s degree as their highest degree.\n",
    "    14.4% had completed an advanced degree such as a master’s degree, professional degree or doctoral degree. \n",
    "'''\n",
    "\n",
    "var_info"
   ]
  },
  {
   "cell_type": "code",
   "execution_count": 32,
   "metadata": {},
   "outputs": [
    {
     "name": "stdout",
     "output_type": "stream",
     "text": [
      "<class 'pandas.core.frame.DataFrame'>\n",
      "Int64Index: 163543 entries, 1 to 163543\n",
      "Data columns (total 4 columns):\n",
      " #   Column  Non-Null Count   Dtype\n",
      "---  ------  --------------   -----\n",
      " 0   A_HGA   163543 non-null  int32\n",
      " 1   AGE1    163543 non-null  int32\n",
      " 2   AGI     163543 non-null  int32\n",
      " 3   state   163543 non-null  int32\n",
      "dtypes: int32(4)\n",
      "memory usage: 3.7 MB\n",
      "<class 'pandas.core.frame.DataFrame'>\n",
      "Int64Index: 108998 entries, 1 to 163543\n",
      "Data columns (total 4 columns):\n",
      " #   Column  Non-Null Count   Dtype\n",
      "---  ------  --------------   -----\n",
      " 0   A_HGA   108998 non-null  int32\n",
      " 1   AGE1    108998 non-null  int32\n",
      " 2   AGI     108998 non-null  int32\n",
      " 3   state   108998 non-null  int32\n",
      "dtypes: int32(4)\n",
      "memory usage: 2.5 MB\n"
     ]
    }
   ],
   "source": [
    "# First subset to AGE1 values >= 6 (25 and older)\n",
    "\n",
    "# convert cols to int\n",
    "census_data = census_data.astype(int)\n",
    "census_data.info()\n",
    "age_gte25 = census_data[census_data[\"AGE1\"] >= 6].copy()\n",
    "age_gte25.info()"
   ]
  },
  {
   "cell_type": "code",
   "execution_count": 33,
   "metadata": {},
   "outputs": [
    {
     "data": {
      "text/html": [
       "<div>\n",
       "<style scoped>\n",
       "    .dataframe tbody tr th:only-of-type {\n",
       "        vertical-align: middle;\n",
       "    }\n",
       "\n",
       "    .dataframe tbody tr th {\n",
       "        vertical-align: top;\n",
       "    }\n",
       "\n",
       "    .dataframe thead th {\n",
       "        text-align: right;\n",
       "    }\n",
       "</style>\n",
       "<table border=\"1\" class=\"dataframe\">\n",
       "  <thead>\n",
       "    <tr style=\"text-align: right;\">\n",
       "      <th></th>\n",
       "      <th>A_HGA</th>\n",
       "      <th>AGE1</th>\n",
       "      <th>AGI</th>\n",
       "      <th>state</th>\n",
       "    </tr>\n",
       "  </thead>\n",
       "  <tbody>\n",
       "    <tr>\n",
       "      <th>1</th>\n",
       "      <td>39</td>\n",
       "      <td>12</td>\n",
       "      <td>10000</td>\n",
       "      <td>23</td>\n",
       "    </tr>\n",
       "    <tr>\n",
       "      <th>2</th>\n",
       "      <td>39</td>\n",
       "      <td>12</td>\n",
       "      <td>0</td>\n",
       "      <td>23</td>\n",
       "    </tr>\n",
       "    <tr>\n",
       "      <th>3</th>\n",
       "      <td>39</td>\n",
       "      <td>17</td>\n",
       "      <td>0</td>\n",
       "      <td>23</td>\n",
       "    </tr>\n",
       "    <tr>\n",
       "      <th>4</th>\n",
       "      <td>43</td>\n",
       "      <td>15</td>\n",
       "      <td>80819</td>\n",
       "      <td>23</td>\n",
       "    </tr>\n",
       "    <tr>\n",
       "      <th>5</th>\n",
       "      <td>39</td>\n",
       "      <td>15</td>\n",
       "      <td>0</td>\n",
       "      <td>23</td>\n",
       "    </tr>\n",
       "  </tbody>\n",
       "</table>\n",
       "</div>"
      ],
      "text/plain": [
       "0  A_HGA  AGE1    AGI  state\n",
       "1     39    12  10000     23\n",
       "2     39    12      0     23\n",
       "3     39    17      0     23\n",
       "4     43    15  80819     23\n",
       "5     39    15      0     23"
      ]
     },
     "execution_count": 33,
     "metadata": {},
     "output_type": "execute_result"
    }
   ],
   "source": [
    "age_gte25.head()"
   ]
  },
  {
   "cell_type": "code",
   "execution_count": 34,
   "metadata": {
    "collapsed": true
   },
   "outputs": [
    {
     "data": {
      "text/plain": [
       "{'A_HGA': {'name': 'A_HGA',\n",
       "  'label': 'Demographics, Educational attainment',\n",
       "  'predicateType': 'int',\n",
       "  'group': 'N/A',\n",
       "  'limit': 0,\n",
       "  'suggested-weight': 'MARSUPWT',\n",
       "  'values': {'item': {'35': '9th Grade',\n",
       "    '41': 'Assc degree-occupation/vocation',\n",
       "    '0': 'Children',\n",
       "    '31': 'Less Than 1st Grade',\n",
       "    '44': \"Master's degree (MA,MS,MENG,MED,MSW,MBA)\",\n",
       "    '43': \"Bachelor's degree (BA,AB,BS)\",\n",
       "    '34': '7th and 8th grade',\n",
       "    '38': '12th Grade No Diploma',\n",
       "    '37': '11th Grade',\n",
       "    '33': '5th Or 6th Grade',\n",
       "    '45': 'Professional school degree (MD,DDS,DVM,L',\n",
       "    '39': 'High school graduate-high school diploma',\n",
       "    '32': '1st,2nd,3rd,or 4th grade',\n",
       "    '40': 'Some College But No Degree',\n",
       "    '46': 'Doctorate degree (PHD,EDD)',\n",
       "    '36': '10th Grade',\n",
       "    '42': 'Assc degree-academic program'}}},\n",
       " 'AGE1': {'name': 'AGE1',\n",
       "  'label': 'Demographics, Age recode, persons 15+ years',\n",
       "  'predicateType': 'int',\n",
       "  'group': 'N/A',\n",
       "  'limit': 0,\n",
       "  'suggested-weight': 'MARSUPWT',\n",
       "  'values': {'item': {'9': '40 to 44 years',\n",
       "    '6': '25 to 29 years',\n",
       "    '5': '22 to 24 years',\n",
       "    '4': '20 and 21 years',\n",
       "    '8': '35 to 39 years',\n",
       "    '10': '45 to 49 years',\n",
       "    '2': '16 and 17 years',\n",
       "    '11': '50 to 54 years',\n",
       "    '7': '30 to 34 years',\n",
       "    '3': '18 and 19 years',\n",
       "    '16': '70 to 74 years',\n",
       "    '1': '15 years',\n",
       "    '0': 'Not In Universe',\n",
       "    '13': '60 to 61 years',\n",
       "    '12': '55 to 59 years',\n",
       "    '14': '62 to 64 years',\n",
       "    '15': '65 to 69 years',\n",
       "    '17': '75 years and over'}}},\n",
       " 'AGI': {'name': 'AGI',\n",
       "  'label': 'Federal adjusted gross income',\n",
       "  'predicateType': 'int',\n",
       "  'group': 'N/A',\n",
       "  'limit': 0,\n",
       "  'suggested-weight': 'MARSUPWT',\n",
       "  'values': {'range': [{'min': '-999999',\n",
       "     'max': '9999999',\n",
       "     'description': 'Range'}]}}}"
      ]
     },
     "execution_count": 34,
     "metadata": {},
     "output_type": "execute_result"
    }
   ],
   "source": [
    "var_info"
   ]
  },
  {
   "cell_type": "code",
   "execution_count": 35,
   "metadata": {},
   "outputs": [],
   "source": [
    "# convert A_HGA, AGE1, and state to categories\n",
    "age_gte25.A_HGA = age_gte25.A_HGA.astype(\"category\")\n",
    "age_gte25.AGE1 = age_gte25.AGE1.astype(\"category\")\n",
    "age_gte25.state = age_gte25.state.astype(\"category\")"
   ]
  },
  {
   "cell_type": "code",
   "execution_count": 36,
   "metadata": {},
   "outputs": [
    {
     "name": "stdout",
     "output_type": "stream",
     "text": [
      "<class 'pandas.core.frame.DataFrame'>\n",
      "Int64Index: 108998 entries, 1 to 163543\n",
      "Data columns (total 4 columns):\n",
      " #   Column  Non-Null Count   Dtype   \n",
      "---  ------  --------------   -----   \n",
      " 0   A_HGA   108998 non-null  category\n",
      " 1   AGE1    108998 non-null  category\n",
      " 2   AGI     108998 non-null  int32   \n",
      " 3   state   108998 non-null  category\n",
      "dtypes: category(3), int32(1)\n",
      "memory usage: 1.6 MB\n"
     ]
    }
   ],
   "source": [
    "age_gte25.info()"
   ]
  },
  {
   "cell_type": "code",
   "execution_count": 37,
   "metadata": {},
   "outputs": [
    {
     "data": {
      "text/plain": [
       "numpy.int64"
      ]
     },
     "execution_count": 37,
     "metadata": {},
     "output_type": "execute_result"
    }
   ],
   "source": [
    "type(age_gte25.iloc[0, 0])"
   ]
  },
  {
   "cell_type": "code",
   "execution_count": 38,
   "metadata": {},
   "outputs": [
    {
     "data": {
      "text/plain": [
       "39"
      ]
     },
     "execution_count": 38,
     "metadata": {},
     "output_type": "execute_result"
    }
   ],
   "source": [
    "age_gte25.iloc[0, 0]"
   ]
  },
  {
   "cell_type": "code",
   "execution_count": 39,
   "metadata": {},
   "outputs": [],
   "source": [
    "# so cols are categories but cell values are still int (?)\n",
    "\n",
    "# Educational attainment: <= 38 less than HS diploma or eq\n",
    "# 39 == HS diploma, 40 == some college ND, 41 & 42 == assoc Deg, 43 == Bachelor's, \n",
    "# 44 & 45 Masters or professional degree, 46 == doctorate\n",
    "\n",
    "# there is probably a faster way to do this\n",
    "ed_groups = age_gte25.groupby(\"A_HGA\")"
   ]
  },
  {
   "cell_type": "code",
   "execution_count": 40,
   "metadata": {},
   "outputs": [],
   "source": [
    "#ed_groups.groups"
   ]
  },
  {
   "cell_type": "code",
   "execution_count": 41,
   "metadata": {},
   "outputs": [],
   "source": [
    "# 27.9% HS grads per press release\n",
    "hs_grads = ed_groups.get_group(39)"
   ]
  },
  {
   "cell_type": "code",
   "execution_count": 42,
   "metadata": {},
   "outputs": [
    {
     "data": {
      "text/plain": [
       "30656"
      ]
     },
     "execution_count": 42,
     "metadata": {},
     "output_type": "execute_result"
    }
   ],
   "source": [
    "len(hs_grads)"
   ]
  },
  {
   "cell_type": "code",
   "execution_count": 43,
   "metadata": {},
   "outputs": [
    {
     "data": {
      "text/plain": [
       "28.1252867025083"
      ]
     },
     "execution_count": 43,
     "metadata": {},
     "output_type": "execute_result"
    }
   ],
   "source": [
    "(30656 / 108998) * 100"
   ]
  },
  {
   "cell_type": "code",
   "execution_count": 44,
   "metadata": {},
   "outputs": [],
   "source": [
    "# 14.9% had some college\n",
    "\n",
    "some_college_nd = ed_groups.get_group(40)"
   ]
  },
  {
   "cell_type": "code",
   "execution_count": 45,
   "metadata": {},
   "outputs": [
    {
     "data": {
      "text/plain": [
       "16369"
      ]
     },
     "execution_count": 45,
     "metadata": {},
     "output_type": "execute_result"
    }
   ],
   "source": [
    "len(some_college_nd)"
   ]
  },
  {
   "cell_type": "code",
   "execution_count": 46,
   "metadata": {},
   "outputs": [
    {
     "data": {
      "text/plain": [
       "15.017706746912788"
      ]
     },
     "execution_count": 46,
     "metadata": {},
     "output_type": "execute_result"
    }
   ],
   "source": [
    "(16369/108998) * 100"
   ]
  },
  {
   "cell_type": "code",
   "execution_count": 47,
   "metadata": {},
   "outputs": [],
   "source": [
    "# 31-38 for no HS\n",
    "# 8.9% report less than HS diploma or eq\n",
    "\n",
    "no_diploma = 0\n",
    "for i in range(31, 39):\n",
    "    g = ed_groups.get_group(i)\n",
    "    no_diploma += len(g)"
   ]
  },
  {
   "cell_type": "code",
   "execution_count": 48,
   "metadata": {},
   "outputs": [
    {
     "data": {
      "text/plain": [
       "10289"
      ]
     },
     "execution_count": 48,
     "metadata": {},
     "output_type": "execute_result"
    }
   ],
   "source": [
    "no_diploma"
   ]
  },
  {
   "cell_type": "code",
   "execution_count": 49,
   "metadata": {},
   "outputs": [
    {
     "data": {
      "text/plain": [
       "9.439622745371475"
      ]
     },
     "execution_count": 49,
     "metadata": {},
     "output_type": "execute_result"
    }
   ],
   "source": [
    "(10289/108998) * 100"
   ]
  },
  {
   "cell_type": "code",
   "execution_count": 152,
   "metadata": {},
   "outputs": [],
   "source": [
    "# Values are different from press release - try weighted data\n",
    "\n",
    "census_wtd_url = \"https://api.census.gov/data/2021/cps/asec/mar?tabulate=weight(MARSUPWT)&col+A_HGA&row+AGE1&for=state:*\""
   ]
  },
  {
   "cell_type": "code",
   "execution_count": 153,
   "metadata": {},
   "outputs": [],
   "source": [
    "census_wtd_request = requests.get(census_wtd_url)"
   ]
  },
  {
   "cell_type": "code",
   "execution_count": 154,
   "metadata": {},
   "outputs": [],
   "source": [
    "census_wtd_json = census_wtd_request.json()"
   ]
  },
  {
   "cell_type": "code",
   "execution_count": 200,
   "metadata": {},
   "outputs": [],
   "source": [
    "#print(json.dumps(census_wtd_json, indent=4)) # long output"
   ]
  },
  {
   "cell_type": "code",
   "execution_count": 198,
   "metadata": {},
   "outputs": [
    {
     "name": "stdout",
     "output_type": "stream",
     "text": [
      "<class 'pandas.core.frame.DataFrame'>\n",
      "Int64Index: 18 entries, 9 to 17\n",
      "Data columns (total 17 columns):\n",
      " #   Column  Non-Null Count  Dtype\n",
      "---  ------  --------------  -----\n",
      " 0   35      18 non-null     int64\n",
      " 1   41      18 non-null     int64\n",
      " 2   0       18 non-null     int64\n",
      " 3   31      18 non-null     int64\n",
      " 4   44      18 non-null     int64\n",
      " 5   43      18 non-null     int64\n",
      " 6   34      18 non-null     int64\n",
      " 7   38      18 non-null     int64\n",
      " 8   37      18 non-null     int64\n",
      " 9   33      18 non-null     int64\n",
      " 10  45      18 non-null     int64\n",
      " 11  39      18 non-null     int64\n",
      " 12  32      18 non-null     int64\n",
      " 13  40      18 non-null     int64\n",
      " 14  46      18 non-null     int64\n",
      " 15  36      18 non-null     int64\n",
      " 16  42      18 non-null     int64\n",
      "dtypes: int64(17)\n",
      "memory usage: 2.5 KB\n",
      "None\n"
     ]
    }
   ],
   "source": [
    "# Convert returned JSON to dataframe\n",
    "drop_keys = census_wtd_json[1:]\n",
    "get_keys = census_wtd_json[0]\n",
    "w_df = pd.read_json(json.dumps(drop_keys), typ = \"frame\", orient = \"values\")\n",
    "cols = []\n",
    "for k in get_keys:\n",
    "    if isinstance(k, dict):\n",
    "        v = [e[:] for e in k.values()]\n",
    "        cols.append(v[0])\n",
    "    if isinstance(k, str):\n",
    "        cols.append(k)\n",
    "w_df.columns = cols\n",
    "w_df.set_index(\"AGE1\", inplace = True)\n",
    "print(w_df.info())"
   ]
  },
  {
   "cell_type": "code",
   "execution_count": 221,
   "metadata": {},
   "outputs": [],
   "source": [
    "w_df.sort_index(inplace = True)"
   ]
  },
  {
   "cell_type": "code",
   "execution_count": 222,
   "metadata": {},
   "outputs": [
    {
     "data": {
      "text/html": [
       "<div>\n",
       "<style scoped>\n",
       "    .dataframe tbody tr th:only-of-type {\n",
       "        vertical-align: middle;\n",
       "    }\n",
       "\n",
       "    .dataframe tbody tr th {\n",
       "        vertical-align: top;\n",
       "    }\n",
       "\n",
       "    .dataframe thead th {\n",
       "        text-align: right;\n",
       "    }\n",
       "</style>\n",
       "<table border=\"1\" class=\"dataframe\">\n",
       "  <thead>\n",
       "    <tr style=\"text-align: right;\">\n",
       "      <th></th>\n",
       "      <th>35</th>\n",
       "      <th>41</th>\n",
       "      <th>0</th>\n",
       "      <th>31</th>\n",
       "      <th>44</th>\n",
       "      <th>43</th>\n",
       "      <th>34</th>\n",
       "      <th>38</th>\n",
       "      <th>37</th>\n",
       "      <th>33</th>\n",
       "      <th>45</th>\n",
       "      <th>39</th>\n",
       "      <th>32</th>\n",
       "      <th>40</th>\n",
       "      <th>46</th>\n",
       "      <th>36</th>\n",
       "      <th>42</th>\n",
       "    </tr>\n",
       "    <tr>\n",
       "      <th>AGE1</th>\n",
       "      <th></th>\n",
       "      <th></th>\n",
       "      <th></th>\n",
       "      <th></th>\n",
       "      <th></th>\n",
       "      <th></th>\n",
       "      <th></th>\n",
       "      <th></th>\n",
       "      <th></th>\n",
       "      <th></th>\n",
       "      <th></th>\n",
       "      <th></th>\n",
       "      <th></th>\n",
       "      <th></th>\n",
       "      <th></th>\n",
       "      <th></th>\n",
       "      <th></th>\n",
       "    </tr>\n",
       "  </thead>\n",
       "  <tbody>\n",
       "    <tr>\n",
       "      <th>0</th>\n",
       "      <td>0</td>\n",
       "      <td>0</td>\n",
       "      <td>59938081</td>\n",
       "      <td>0</td>\n",
       "      <td>0</td>\n",
       "      <td>0</td>\n",
       "      <td>0</td>\n",
       "      <td>0</td>\n",
       "      <td>0</td>\n",
       "      <td>0</td>\n",
       "      <td>0</td>\n",
       "      <td>0</td>\n",
       "      <td>0</td>\n",
       "      <td>0</td>\n",
       "      <td>0</td>\n",
       "      <td>0</td>\n",
       "      <td>0</td>\n",
       "    </tr>\n",
       "    <tr>\n",
       "      <th>1</th>\n",
       "      <td>1681838</td>\n",
       "      <td>729</td>\n",
       "      <td>0</td>\n",
       "      <td>4907</td>\n",
       "      <td>1979</td>\n",
       "      <td>5403</td>\n",
       "      <td>1588774</td>\n",
       "      <td>18507</td>\n",
       "      <td>89172</td>\n",
       "      <td>16646</td>\n",
       "      <td>0</td>\n",
       "      <td>50480</td>\n",
       "      <td>0</td>\n",
       "      <td>34640</td>\n",
       "      <td>0</td>\n",
       "      <td>672541</td>\n",
       "      <td>7567</td>\n",
       "    </tr>\n",
       "    <tr>\n",
       "      <th>2</th>\n",
       "      <td>1848048</td>\n",
       "      <td>7409</td>\n",
       "      <td>0</td>\n",
       "      <td>18881</td>\n",
       "      <td>3715</td>\n",
       "      <td>38273</td>\n",
       "      <td>227935</td>\n",
       "      <td>437006</td>\n",
       "      <td>2372533</td>\n",
       "      <td>23064</td>\n",
       "      <td>0</td>\n",
       "      <td>270160</td>\n",
       "      <td>19653</td>\n",
       "      <td>110498</td>\n",
       "      <td>1077</td>\n",
       "      <td>3282559</td>\n",
       "      <td>5421</td>\n",
       "    </tr>\n",
       "    <tr>\n",
       "      <th>3</th>\n",
       "      <td>92328</td>\n",
       "      <td>40503</td>\n",
       "      <td>0</td>\n",
       "      <td>13448</td>\n",
       "      <td>4965</td>\n",
       "      <td>48576</td>\n",
       "      <td>51529</td>\n",
       "      <td>644884</td>\n",
       "      <td>1782967</td>\n",
       "      <td>10011</td>\n",
       "      <td>0</td>\n",
       "      <td>2553580</td>\n",
       "      <td>5496</td>\n",
       "      <td>2210180</td>\n",
       "      <td>2563</td>\n",
       "      <td>266806</td>\n",
       "      <td>88093</td>\n",
       "    </tr>\n",
       "    <tr>\n",
       "      <th>4</th>\n",
       "      <td>51054</td>\n",
       "      <td>171027</td>\n",
       "      <td>0</td>\n",
       "      <td>15589</td>\n",
       "      <td>16770</td>\n",
       "      <td>222168</td>\n",
       "      <td>57125</td>\n",
       "      <td>202790</td>\n",
       "      <td>206899</td>\n",
       "      <td>7866</td>\n",
       "      <td>0</td>\n",
       "      <td>2919202</td>\n",
       "      <td>6153</td>\n",
       "      <td>4163847</td>\n",
       "      <td>0</td>\n",
       "      <td>85361</td>\n",
       "      <td>353451</td>\n",
       "    </tr>\n",
       "  </tbody>\n",
       "</table>\n",
       "</div>"
      ],
      "text/plain": [
       "           35      41         0     31     44      43       34      38  \\\n",
       "AGE1                                                                     \n",
       "0           0       0  59938081      0      0       0        0       0   \n",
       "1     1681838     729         0   4907   1979    5403  1588774   18507   \n",
       "2     1848048    7409         0  18881   3715   38273   227935  437006   \n",
       "3       92328   40503         0  13448   4965   48576    51529  644884   \n",
       "4       51054  171027         0  15589  16770  222168    57125  202790   \n",
       "\n",
       "           37     33  45       39     32       40    46       36      42  \n",
       "AGE1                                                                      \n",
       "0           0      0   0        0      0        0     0        0       0  \n",
       "1       89172  16646   0    50480      0    34640     0   672541    7567  \n",
       "2     2372533  23064   0   270160  19653   110498  1077  3282559    5421  \n",
       "3     1782967  10011   0  2553580   5496  2210180  2563   266806   88093  \n",
       "4      206899   7866   0  2919202   6153  4163847     0    85361  353451  "
      ]
     },
     "execution_count": 222,
     "metadata": {},
     "output_type": "execute_result"
    }
   ],
   "source": [
    "w_df.head()"
   ]
  },
  {
   "cell_type": "code",
   "execution_count": 227,
   "metadata": {},
   "outputs": [
    {
     "data": {
      "text/html": [
       "<div>\n",
       "<style scoped>\n",
       "    .dataframe tbody tr th:only-of-type {\n",
       "        vertical-align: middle;\n",
       "    }\n",
       "\n",
       "    .dataframe tbody tr th {\n",
       "        vertical-align: top;\n",
       "    }\n",
       "\n",
       "    .dataframe thead th {\n",
       "        text-align: right;\n",
       "    }\n",
       "</style>\n",
       "<table border=\"1\" class=\"dataframe\">\n",
       "  <thead>\n",
       "    <tr style=\"text-align: right;\">\n",
       "      <th></th>\n",
       "      <th>35</th>\n",
       "      <th>41</th>\n",
       "      <th>0</th>\n",
       "      <th>31</th>\n",
       "      <th>44</th>\n",
       "      <th>43</th>\n",
       "      <th>34</th>\n",
       "      <th>38</th>\n",
       "      <th>37</th>\n",
       "      <th>33</th>\n",
       "      <th>45</th>\n",
       "      <th>39</th>\n",
       "      <th>32</th>\n",
       "      <th>40</th>\n",
       "      <th>46</th>\n",
       "      <th>36</th>\n",
       "      <th>42</th>\n",
       "    </tr>\n",
       "    <tr>\n",
       "      <th>AGE1</th>\n",
       "      <th></th>\n",
       "      <th></th>\n",
       "      <th></th>\n",
       "      <th></th>\n",
       "      <th></th>\n",
       "      <th></th>\n",
       "      <th></th>\n",
       "      <th></th>\n",
       "      <th></th>\n",
       "      <th></th>\n",
       "      <th></th>\n",
       "      <th></th>\n",
       "      <th></th>\n",
       "      <th></th>\n",
       "      <th></th>\n",
       "      <th></th>\n",
       "      <th></th>\n",
       "    </tr>\n",
       "  </thead>\n",
       "  <tbody>\n",
       "    <tr>\n",
       "      <th>6</th>\n",
       "      <td>186793</td>\n",
       "      <td>903353</td>\n",
       "      <td>0</td>\n",
       "      <td>35343</td>\n",
       "      <td>1752186</td>\n",
       "      <td>6668554</td>\n",
       "      <td>127343</td>\n",
       "      <td>285213</td>\n",
       "      <td>354979</td>\n",
       "      <td>91872</td>\n",
       "      <td>200201</td>\n",
       "      <td>6304709</td>\n",
       "      <td>23674</td>\n",
       "      <td>3891482</td>\n",
       "      <td>185560</td>\n",
       "      <td>175782</td>\n",
       "      <td>1405260</td>\n",
       "    </tr>\n",
       "    <tr>\n",
       "      <th>7</th>\n",
       "      <td>265218</td>\n",
       "      <td>973138</td>\n",
       "      <td>0</td>\n",
       "      <td>34359</td>\n",
       "      <td>2555902</td>\n",
       "      <td>6368638</td>\n",
       "      <td>192550</td>\n",
       "      <td>279557</td>\n",
       "      <td>354031</td>\n",
       "      <td>162482</td>\n",
       "      <td>311814</td>\n",
       "      <td>5627420</td>\n",
       "      <td>51778</td>\n",
       "      <td>3437538</td>\n",
       "      <td>454176</td>\n",
       "      <td>230976</td>\n",
       "      <td>1391684</td>\n",
       "    </tr>\n",
       "    <tr>\n",
       "      <th>8</th>\n",
       "      <td>310629</td>\n",
       "      <td>876556</td>\n",
       "      <td>0</td>\n",
       "      <td>47813</td>\n",
       "      <td>2714555</td>\n",
       "      <td>5746319</td>\n",
       "      <td>279523</td>\n",
       "      <td>270560</td>\n",
       "      <td>300046</td>\n",
       "      <td>277076</td>\n",
       "      <td>379479</td>\n",
       "      <td>5002109</td>\n",
       "      <td>99229</td>\n",
       "      <td>3083392</td>\n",
       "      <td>544623</td>\n",
       "      <td>292238</td>\n",
       "      <td>1383291</td>\n",
       "    </tr>\n",
       "    <tr>\n",
       "      <th>9</th>\n",
       "      <td>314869</td>\n",
       "      <td>914820</td>\n",
       "      <td>0</td>\n",
       "      <td>34124</td>\n",
       "      <td>2658149</td>\n",
       "      <td>5036686</td>\n",
       "      <td>298526</td>\n",
       "      <td>283375</td>\n",
       "      <td>282743</td>\n",
       "      <td>307977</td>\n",
       "      <td>394458</td>\n",
       "      <td>5039375</td>\n",
       "      <td>112508</td>\n",
       "      <td>2743662</td>\n",
       "      <td>468306</td>\n",
       "      <td>269929</td>\n",
       "      <td>1237130</td>\n",
       "    </tr>\n",
       "    <tr>\n",
       "      <th>10</th>\n",
       "      <td>236174</td>\n",
       "      <td>926925</td>\n",
       "      <td>0</td>\n",
       "      <td>70614</td>\n",
       "      <td>2426865</td>\n",
       "      <td>4735305</td>\n",
       "      <td>264782</td>\n",
       "      <td>195381</td>\n",
       "      <td>265097</td>\n",
       "      <td>302186</td>\n",
       "      <td>343381</td>\n",
       "      <td>4910132</td>\n",
       "      <td>102854</td>\n",
       "      <td>2618376</td>\n",
       "      <td>490813</td>\n",
       "      <td>254245</td>\n",
       "      <td>1263333</td>\n",
       "    </tr>\n",
       "    <tr>\n",
       "      <th>11</th>\n",
       "      <td>288878</td>\n",
       "      <td>887994</td>\n",
       "      <td>0</td>\n",
       "      <td>79748</td>\n",
       "      <td>2348562</td>\n",
       "      <td>4986696</td>\n",
       "      <td>292745</td>\n",
       "      <td>226746</td>\n",
       "      <td>264511</td>\n",
       "      <td>243927</td>\n",
       "      <td>283845</td>\n",
       "      <td>5508656</td>\n",
       "      <td>124581</td>\n",
       "      <td>2772182</td>\n",
       "      <td>488343</td>\n",
       "      <td>222810</td>\n",
       "      <td>1253221</td>\n",
       "    </tr>\n",
       "    <tr>\n",
       "      <th>12</th>\n",
       "      <td>259796</td>\n",
       "      <td>1083822</td>\n",
       "      <td>0</td>\n",
       "      <td>56009</td>\n",
       "      <td>1978130</td>\n",
       "      <td>4485108</td>\n",
       "      <td>268934</td>\n",
       "      <td>258558</td>\n",
       "      <td>342008</td>\n",
       "      <td>279915</td>\n",
       "      <td>280215</td>\n",
       "      <td>6146782</td>\n",
       "      <td>168202</td>\n",
       "      <td>2977981</td>\n",
       "      <td>402983</td>\n",
       "      <td>328561</td>\n",
       "      <td>1365380</td>\n",
       "    </tr>\n",
       "    <tr>\n",
       "      <th>13</th>\n",
       "      <td>86710</td>\n",
       "      <td>455648</td>\n",
       "      <td>0</td>\n",
       "      <td>38175</td>\n",
       "      <td>842147</td>\n",
       "      <td>1739547</td>\n",
       "      <td>114680</td>\n",
       "      <td>102333</td>\n",
       "      <td>186219</td>\n",
       "      <td>115182</td>\n",
       "      <td>101909</td>\n",
       "      <td>2741130</td>\n",
       "      <td>64194</td>\n",
       "      <td>1301734</td>\n",
       "      <td>143156</td>\n",
       "      <td>120957</td>\n",
       "      <td>523512</td>\n",
       "    </tr>\n",
       "    <tr>\n",
       "      <th>14</th>\n",
       "      <td>155248</td>\n",
       "      <td>566989</td>\n",
       "      <td>0</td>\n",
       "      <td>57663</td>\n",
       "      <td>1132473</td>\n",
       "      <td>2643972</td>\n",
       "      <td>148280</td>\n",
       "      <td>141625</td>\n",
       "      <td>207214</td>\n",
       "      <td>176266</td>\n",
       "      <td>154738</td>\n",
       "      <td>3840281</td>\n",
       "      <td>96105</td>\n",
       "      <td>1894950</td>\n",
       "      <td>257253</td>\n",
       "      <td>154101</td>\n",
       "      <td>789906</td>\n",
       "    </tr>\n",
       "    <tr>\n",
       "      <th>15</th>\n",
       "      <td>170366</td>\n",
       "      <td>851500</td>\n",
       "      <td>0</td>\n",
       "      <td>66803</td>\n",
       "      <td>1863505</td>\n",
       "      <td>3638564</td>\n",
       "      <td>228637</td>\n",
       "      <td>203765</td>\n",
       "      <td>291265</td>\n",
       "      <td>228320</td>\n",
       "      <td>305735</td>\n",
       "      <td>5414577</td>\n",
       "      <td>120953</td>\n",
       "      <td>3016707</td>\n",
       "      <td>380307</td>\n",
       "      <td>229443</td>\n",
       "      <td>1151221</td>\n",
       "    </tr>\n",
       "    <tr>\n",
       "      <th>16</th>\n",
       "      <td>198107</td>\n",
       "      <td>698198</td>\n",
       "      <td>0</td>\n",
       "      <td>82122</td>\n",
       "      <td>1645908</td>\n",
       "      <td>2890380</td>\n",
       "      <td>249640</td>\n",
       "      <td>172100</td>\n",
       "      <td>202719</td>\n",
       "      <td>189243</td>\n",
       "      <td>275325</td>\n",
       "      <td>4205280</td>\n",
       "      <td>118344</td>\n",
       "      <td>2463509</td>\n",
       "      <td>367121</td>\n",
       "      <td>254220</td>\n",
       "      <td>865869</td>\n",
       "    </tr>\n",
       "    <tr>\n",
       "      <th>17</th>\n",
       "      <td>354648</td>\n",
       "      <td>749627</td>\n",
       "      <td>0</td>\n",
       "      <td>129630</td>\n",
       "      <td>2140343</td>\n",
       "      <td>3865409</td>\n",
       "      <td>610105</td>\n",
       "      <td>332414</td>\n",
       "      <td>490180</td>\n",
       "      <td>412111</td>\n",
       "      <td>412125</td>\n",
       "      <td>7806866</td>\n",
       "      <td>259026</td>\n",
       "      <td>3253613</td>\n",
       "      <td>547229</td>\n",
       "      <td>464720</td>\n",
       "      <td>968127</td>\n",
       "    </tr>\n",
       "  </tbody>\n",
       "</table>\n",
       "</div>"
      ],
      "text/plain": [
       "          35       41  0      31       44       43      34      38      37  \\\n",
       "AGE1                                                                         \n",
       "6     186793   903353  0   35343  1752186  6668554  127343  285213  354979   \n",
       "7     265218   973138  0   34359  2555902  6368638  192550  279557  354031   \n",
       "8     310629   876556  0   47813  2714555  5746319  279523  270560  300046   \n",
       "9     314869   914820  0   34124  2658149  5036686  298526  283375  282743   \n",
       "10    236174   926925  0   70614  2426865  4735305  264782  195381  265097   \n",
       "11    288878   887994  0   79748  2348562  4986696  292745  226746  264511   \n",
       "12    259796  1083822  0   56009  1978130  4485108  268934  258558  342008   \n",
       "13     86710   455648  0   38175   842147  1739547  114680  102333  186219   \n",
       "14    155248   566989  0   57663  1132473  2643972  148280  141625  207214   \n",
       "15    170366   851500  0   66803  1863505  3638564  228637  203765  291265   \n",
       "16    198107   698198  0   82122  1645908  2890380  249640  172100  202719   \n",
       "17    354648   749627  0  129630  2140343  3865409  610105  332414  490180   \n",
       "\n",
       "          33      45       39      32       40      46      36       42  \n",
       "AGE1                                                                     \n",
       "6      91872  200201  6304709   23674  3891482  185560  175782  1405260  \n",
       "7     162482  311814  5627420   51778  3437538  454176  230976  1391684  \n",
       "8     277076  379479  5002109   99229  3083392  544623  292238  1383291  \n",
       "9     307977  394458  5039375  112508  2743662  468306  269929  1237130  \n",
       "10    302186  343381  4910132  102854  2618376  490813  254245  1263333  \n",
       "11    243927  283845  5508656  124581  2772182  488343  222810  1253221  \n",
       "12    279915  280215  6146782  168202  2977981  402983  328561  1365380  \n",
       "13    115182  101909  2741130   64194  1301734  143156  120957   523512  \n",
       "14    176266  154738  3840281   96105  1894950  257253  154101   789906  \n",
       "15    228320  305735  5414577  120953  3016707  380307  229443  1151221  \n",
       "16    189243  275325  4205280  118344  2463509  367121  254220   865869  \n",
       "17    412111  412125  7806866  259026  3253613  547229  464720   968127  "
      ]
     },
     "execution_count": 227,
     "metadata": {},
     "output_type": "execute_result"
    }
   ],
   "source": [
    "w_df.loc[6:]"
   ]
  },
  {
   "cell_type": "code",
   "execution_count": 231,
   "metadata": {},
   "outputs": [
    {
     "data": {
      "text/plain": [
       "326195440"
      ]
     },
     "execution_count": 231,
     "metadata": {},
     "output_type": "execute_result"
    }
   ],
   "source": [
    "w_df.to_numpy().sum()"
   ]
  },
  {
   "cell_type": "code",
   "execution_count": 232,
   "metadata": {},
   "outputs": [
    {
     "data": {
      "text/plain": [
       "224580155"
      ]
     },
     "execution_count": 232,
     "metadata": {},
     "output_type": "execute_result"
    }
   ],
   "source": [
    "w_df[6:].to_numpy().sum()"
   ]
  },
  {
   "cell_type": "code",
   "execution_count": 233,
   "metadata": {},
   "outputs": [],
   "source": [
    "sum_age_gte25 = w_df[6:].to_numpy().sum()"
   ]
  },
  {
   "cell_type": "code",
   "execution_count": 234,
   "metadata": {},
   "outputs": [
    {
     "data": {
      "text/plain": [
       "AGE1\n",
       "6     6304709\n",
       "7     5627420\n",
       "8     5002109\n",
       "9     5039375\n",
       "10    4910132\n",
       "11    5508656\n",
       "12    6146782\n",
       "13    2741130\n",
       "14    3840281\n",
       "15    5414577\n",
       "16    4205280\n",
       "17    7806866\n",
       "Name: 39, dtype: int64"
      ]
     },
     "execution_count": 234,
     "metadata": {},
     "output_type": "execute_result"
    }
   ],
   "source": [
    "# all pop >= 25, HS diploma only (A_HGA == 39)\n",
    "w_df[6:][\"39\"]"
   ]
  },
  {
   "cell_type": "code",
   "execution_count": 235,
   "metadata": {},
   "outputs": [
    {
     "data": {
      "text/plain": [
       "62547317"
      ]
     },
     "execution_count": 235,
     "metadata": {},
     "output_type": "execute_result"
    }
   ],
   "source": [
    "w_df[6:][\"39\"].sum()"
   ]
  },
  {
   "cell_type": "code",
   "execution_count": 236,
   "metadata": {},
   "outputs": [],
   "source": [
    "hs_diploma = w_df[6:][\"39\"].sum()"
   ]
  },
  {
   "cell_type": "code",
   "execution_count": 243,
   "metadata": {},
   "outputs": [
    {
     "data": {
      "text/plain": [
       "27.9"
      ]
     },
     "execution_count": 243,
     "metadata": {},
     "output_type": "execute_result"
    }
   ],
   "source": [
    "round((hs_diploma/sum_age_gte25) * 100, 1) # This is the correct %"
   ]
  },
  {
   "cell_type": "code",
   "execution_count": 244,
   "metadata": {},
   "outputs": [
    {
     "data": {
      "text/plain": [
       "14.9"
      ]
     },
     "execution_count": 244,
     "metadata": {},
     "output_type": "execute_result"
    }
   ],
   "source": [
    "# some college, no degree (40)\n",
    "round((w_df[6:][\"40\"].sum()/sum_age_gte25) * 100, 1) # also the correct &"
   ]
  },
  {
   "cell_type": "code",
   "execution_count": 249,
   "metadata": {},
   "outputs": [],
   "source": [
    "# no HS diploma\n",
    "no_hs_diploma = w_df[6:][[\"31\", \"32\", \"33\", \"34\", \"35\", \"36\", \"37\", \"38\"]].to_numpy().sum()"
   ]
  },
  {
   "cell_type": "code",
   "execution_count": 250,
   "metadata": {},
   "outputs": [
    {
     "data": {
      "text/plain": [
       "20054210"
      ]
     },
     "execution_count": 250,
     "metadata": {},
     "output_type": "execute_result"
    }
   ],
   "source": [
    "no_hs_diploma"
   ]
  },
  {
   "cell_type": "code",
   "execution_count": 251,
   "metadata": {},
   "outputs": [
    {
     "data": {
      "text/plain": [
       "8.9"
      ]
     },
     "execution_count": 251,
     "metadata": {},
     "output_type": "execute_result"
    }
   ],
   "source": [
    "round((no_hs_diploma/sum_age_gte25) * 100, 1) # also correct"
   ]
  },
  {
   "cell_type": "code",
   "execution_count": 259,
   "metadata": {},
   "outputs": [
    {
     "data": {
      "text/plain": [
       "<AxesSubplot:xlabel='AGE1'>"
      ]
     },
     "execution_count": 259,
     "metadata": {},
     "output_type": "execute_result"
    },
    {
     "data": {
      "image/png": "[encoded data removed]",
      "text/plain": [
       "<Figure size 432x288 with 1 Axes>"
      ]
     },
     "metadata": {
      "needs_background": "light"
     },
     "output_type": "display_data"
    }
   ],
   "source": [
    "w_df[6:].plot.bar(stacked = True, legend = False) # ed attainment stacked bar plot (x = age, y = count)"
   ]
  },
  {
   "cell_type": "code",
   "execution_count": 275,
   "metadata": {},
   "outputs": [
    {
     "data": {
      "text/plain": [
       "<matplotlib.legend.Legend at 0x1ae2a9e13a0>"
      ]
     },
     "execution_count": 275,
     "metadata": {},
     "output_type": "execute_result"
    },
    {
     "data": {
      "image/png": "[encoded data removed]",
      "text/plain": [
       "<Figure size 432x288 with 1 Axes>"
      ]
     },
     "metadata": {
      "needs_background": "light"
     },
     "output_type": "display_data"
    }
   ],
   "source": [
    "'''\n",
    "    '44': \"Master's degree (MA,MS,MENG,MED,MSW,MBA)\",\n",
    "    '43': \"Bachelor's degree (BA,AB,BS)\",\n",
    "    '45': 'Professional school degree (MD,DDS,DVM,L',\n",
    "    '46': 'Doctorate degree (PHD,EDD)',\n",
    "'''\n",
    "w_df[6:][[\"43\", \"44\", \"45\", \"46\"]].plot.bar(stacked = True).legend(loc = \"best\", bbox_to_anchor = (-0.05, -0.05))"
   ]
  },
  {
   "cell_type": "code",
   "execution_count": 278,
   "metadata": {},
   "outputs": [
    {
     "data": {
      "text/plain": [
       "<AxesSubplot:>"
      ]
     },
     "execution_count": 278,
     "metadata": {},
     "output_type": "execute_result"
    },
    {
     "data": {
      "image/png": "[encoded data removed]",
      "text/plain": [
       "<Figure size 432x288 with 1 Axes>"
      ]
     },
     "metadata": {
      "needs_background": "light"
     },
     "output_type": "display_data"
    }
   ],
   "source": [
    "w_df[6:][[\"43\", \"44\", \"45\", \"46\"]].sum().plot.bar(legend = False) # close! - y scale is 10m"
   ]
  },
  {
   "cell_type": "code",
   "execution_count": 279,
   "metadata": {},
   "outputs": [
    {
     "data": {
      "text/plain": [
       "43    52805178\n",
       "44    24058725\n",
       "45     3443225\n",
       "46     4729870\n",
       "dtype: int64"
      ]
     },
     "execution_count": 279,
     "metadata": {},
     "output_type": "execute_result"
    }
   ],
   "source": [
    "w_df[6:][[\"43\", \"44\", \"45\", \"46\"]].sum()"
   ]
  },
  {
   "cell_type": "code",
   "execution_count": 285,
   "metadata": {},
   "outputs": [],
   "source": [
    "plot_data = pd.DataFrame(w_df[6:][[\"43\", \"44\", \"45\", \"46\"]].sum())"
   ]
  },
  {
   "cell_type": "code",
   "execution_count": 286,
   "metadata": {},
   "outputs": [
    {
     "data": {
      "text/plain": [
       "pandas.core.frame.DataFrame"
      ]
     },
     "execution_count": 286,
     "metadata": {},
     "output_type": "execute_result"
    }
   ],
   "source": [
    "type(plot_data)"
   ]
  },
  {
   "cell_type": "code",
   "execution_count": 296,
   "metadata": {},
   "outputs": [
    {
     "data": {
      "text/html": [
       "<div>\n",
       "<style scoped>\n",
       "    .dataframe tbody tr th:only-of-type {\n",
       "        vertical-align: middle;\n",
       "    }\n",
       "\n",
       "    .dataframe tbody tr th {\n",
       "        vertical-align: top;\n",
       "    }\n",
       "\n",
       "    .dataframe thead th {\n",
       "        text-align: right;\n",
       "    }\n",
       "</style>\n",
       "<table border=\"1\" class=\"dataframe\">\n",
       "  <thead>\n",
       "    <tr style=\"text-align: right;\">\n",
       "      <th></th>\n",
       "      <th>0</th>\n",
       "    </tr>\n",
       "  </thead>\n",
       "  <tbody>\n",
       "    <tr>\n",
       "      <th>43</th>\n",
       "      <td>52805178</td>\n",
       "    </tr>\n",
       "    <tr>\n",
       "      <th>44</th>\n",
       "      <td>24058725</td>\n",
       "    </tr>\n",
       "    <tr>\n",
       "      <th>45</th>\n",
       "      <td>3443225</td>\n",
       "    </tr>\n",
       "    <tr>\n",
       "      <th>46</th>\n",
       "      <td>4729870</td>\n",
       "    </tr>\n",
       "  </tbody>\n",
       "</table>\n",
       "</div>"
      ],
      "text/plain": [
       "           0\n",
       "43  52805178\n",
       "44  24058725\n",
       "45   3443225\n",
       "46   4729870"
      ]
     },
     "execution_count": 296,
     "metadata": {},
     "output_type": "execute_result"
    }
   ],
   "source": [
    "plot_data"
   ]
  },
  {
   "cell_type": "code",
   "execution_count": 303,
   "metadata": {},
   "outputs": [],
   "source": [
    "plot_data.columns = [\"2021\"]"
   ]
  },
  {
   "cell_type": "code",
   "execution_count": 304,
   "metadata": {},
   "outputs": [
    {
     "data": {
      "text/html": [
       "<div>\n",
       "<style scoped>\n",
       "    .dataframe tbody tr th:only-of-type {\n",
       "        vertical-align: middle;\n",
       "    }\n",
       "\n",
       "    .dataframe tbody tr th {\n",
       "        vertical-align: top;\n",
       "    }\n",
       "\n",
       "    .dataframe thead th {\n",
       "        text-align: right;\n",
       "    }\n",
       "</style>\n",
       "<table border=\"1\" class=\"dataframe\">\n",
       "  <thead>\n",
       "    <tr style=\"text-align: right;\">\n",
       "      <th></th>\n",
       "      <th>2021</th>\n",
       "    </tr>\n",
       "  </thead>\n",
       "  <tbody>\n",
       "    <tr>\n",
       "      <th>43</th>\n",
       "      <td>52805178</td>\n",
       "    </tr>\n",
       "    <tr>\n",
       "      <th>44</th>\n",
       "      <td>24058725</td>\n",
       "    </tr>\n",
       "    <tr>\n",
       "      <th>45</th>\n",
       "      <td>3443225</td>\n",
       "    </tr>\n",
       "    <tr>\n",
       "      <th>46</th>\n",
       "      <td>4729870</td>\n",
       "    </tr>\n",
       "  </tbody>\n",
       "</table>\n",
       "</div>"
      ],
      "text/plain": [
       "        2021\n",
       "43  52805178\n",
       "44  24058725\n",
       "45   3443225\n",
       "46   4729870"
      ]
     },
     "execution_count": 304,
     "metadata": {},
     "output_type": "execute_result"
    }
   ],
   "source": [
    "plot_data"
   ]
  },
  {
   "cell_type": "code",
   "execution_count": 309,
   "metadata": {},
   "outputs": [
    {
     "data": {
      "text/plain": [
       "<matplotlib.legend.Legend at 0x1ae2a90dca0>"
      ]
     },
     "execution_count": 309,
     "metadata": {},
     "output_type": "execute_result"
    },
    {
     "data": {
      "image/png": "[encoded data removed]",
      "text/plain": [
       "<Figure size 432x288 with 1 Axes>"
      ]
     },
     "metadata": {
      "needs_background": "light"
     },
     "output_type": "display_data"
    }
   ],
   "source": [
    "l = [\"Bachelor's Degree\", \"Master's Degree\", \"Professional School Degree\", \"Doctorate Degree\"]\n",
    "plot_data.T.plot.bar(stacked=True).legend(l, loc = \"best\", bbox_to_anchor = (-0.05, -0.05))"
   ]
  },
  {
   "cell_type": "code",
   "execution_count": null,
   "metadata": {},
   "outputs": [],
   "source": []
  }
 ],
 "metadata": {
  "kernelspec": {
   "display_name": "Python 3 (ipykernel)",
   "language": "python",
   "name": "python3"
  },
  "language_info": {
   "codemirror_mode": {
    "name": "ipython",
    "version": 3
   },
   "file_extension": ".py",
   "mimetype": "text/x-python",
   "name": "python",
   "nbconvert_exporter": "python",
   "pygments_lexer": "ipython3",
   "version": "3.9.7"
  }
 },
 "nbformat": 4,
 "nbformat_minor": 4
}

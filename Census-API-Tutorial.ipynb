{
 "cells": [
  {
   "cell_type": "markdown",
   "metadata": {},
   "source": [
    "# Census APIs\n",
    "\n",
    "Request a key at <https://api.census.gov/data/key_signup.html>\n",
    "\n",
    "An email will be sent to the addres you provide. The email will include a link to activate the key. It may take a few minutes before the key can be activated."
   ]
  },
  {
   "cell_type": "code",
   "execution_count": 1,
   "metadata": {},
   "outputs": [],
   "source": [
    "# Load API key\n",
    "\n",
    "# Note the file with the API key is not in the GitHub repo.\n",
    "# Keys need to be read from a local directory\n",
    "with open(\"jwCensusApi\", \"r\") as i:\n",
    "    key = i.read()"
   ]
  },
  {
   "cell_type": "code",
   "execution_count": 2,
   "metadata": {},
   "outputs": [],
   "source": [
    "import json\n",
    "import requests\n",
    "import pandas as pd\n",
    "import matplotlib as plt"
   ]
  },
  {
   "cell_type": "code",
   "execution_count": 3,
   "metadata": {},
   "outputs": [],
   "source": [
    "'''\n",
    "Current Population Survey Annual Social and Economic Supplement\n",
    "https://api.census.gov/data.html\n",
    "\n",
    "Vars: https://api.census.gov/data/2021/cps/asec/mar/variables.html\n",
    "'''\n",
    "\n",
    "endpoint = \"http://api.census.gov/data/2021/cps/asec/mar\" # state geographies\n",
    "ex1_url = \"https://api.census.gov/data/2021/cps/asec/mar?get=NOW_COV,MARSUPWT,A_MARITL&for=state:35&A_HGA=39\"\n",
    "ex2_url = \"https://api.census.gov/data/2021/cps/asec/mar?tabulate=weight(MARSUPWT)&col+NOW_COV&row+A_MARITL&for=state:35&A_HGA=39\""
   ]
  },
  {
   "cell_type": "code",
   "execution_count": 23,
   "metadata": {},
   "outputs": [],
   "source": [
    "api_request_url = ex1_url + \"&key=\" + key\n",
    "api_request = requests.get(api_request_url)"
   ]
  },
  {
   "cell_type": "code",
   "execution_count": 24,
   "metadata": {},
   "outputs": [],
   "source": [
    "api_json = api_request.json()"
   ]
  },
  {
   "cell_type": "code",
   "execution_count": 26,
   "metadata": {},
   "outputs": [],
   "source": [
    "# print(json.dumps(api_json, indent=4)) # long output"
   ]
  },
  {
   "cell_type": "markdown",
   "metadata": {},
   "source": [
    "### Q: How to get info on variables via API?\n",
    "\n",
    "We can look it up online, but we may also get this info dynamically."
   ]
  },
  {
   "cell_type": "code",
   "execution_count": 7,
   "metadata": {},
   "outputs": [],
   "source": [
    "# Maybe create dictionaries of vars:defs\n",
    "# populate via iteration\n",
    "\n",
    "var = \"NOW_COV\"\n",
    "var_def_url = endpoint + \"/variables/\" + var"
   ]
  },
  {
   "cell_type": "code",
   "execution_count": 8,
   "metadata": {},
   "outputs": [],
   "source": [
    "var_def_request = requests.get(var_def_url)"
   ]
  },
  {
   "cell_type": "code",
   "execution_count": 9,
   "metadata": {},
   "outputs": [],
   "source": [
    "var_json = var_def_request.json()"
   ]
  },
  {
   "cell_type": "code",
   "execution_count": 10,
   "metadata": {},
   "outputs": [
    {
     "name": "stdout",
     "output_type": "stream",
     "text": [
      "{\n",
      "    \"name\": \"NOW_COV\",\n",
      "    \"label\": \"Currently covered by health insurance coverage\",\n",
      "    \"predicateType\": \"int\",\n",
      "    \"group\": \"N/A\",\n",
      "    \"limit\": 0,\n",
      "    \"suggested-weight\": \"MARSUPWT\",\n",
      "    \"values\": {\n",
      "        \"item\": {\n",
      "            \"2\": \"No\",\n",
      "            \"1\": \"Yes\"\n",
      "        }\n",
      "    }\n",
      "}\n"
     ]
    }
   ],
   "source": [
    "print(json.dumps(var_json, indent=4))"
   ]
  },
  {
   "cell_type": "code",
   "execution_count": 11,
   "metadata": {},
   "outputs": [],
   "source": [
    "'''\n",
    "Variables of interest\n",
    "\n",
    "A_HGA - educational attainment\n",
    "AGE1 - age\n",
    "AGI - federal adjusted gross income\n",
    "\n",
    "NM FIPS ID = 35\n",
    "'''\n",
    "\n",
    "vars_list = [\"A_HGA\", \"AGE1\", \"AGI\"]\n",
    "vars_dict = {}\n",
    "\n",
    "for v in vars_list:\n",
    "    var_def_url = endpoint + \"/variables/\" + v\n",
    "    var_def_request = requests.get(var_def_url)\n",
    "    var_json = var_def_request.json()\n",
    "    vars_dict[v] = var_json"
   ]
  },
  {
   "cell_type": "code",
   "execution_count": 12,
   "metadata": {
    "collapsed": true
   },
   "outputs": [
    {
     "data": {
      "text/plain": [
       "{'A_HGA': {'name': 'A_HGA',\n",
       "  'label': 'Demographics, Educational attainment',\n",
       "  'predicateType': 'int',\n",
       "  'group': 'N/A',\n",
       "  'limit': 0,\n",
       "  'suggested-weight': 'MARSUPWT',\n",
       "  'values': {'item': {'35': '9th Grade',\n",
       "    '41': 'Assc degree-occupation/vocation',\n",
       "    '0': 'Children',\n",
       "    '31': 'Less Than 1st Grade',\n",
       "    '44': \"Master's degree (MA,MS,MENG,MED,MSW,MBA)\",\n",
       "    '43': \"Bachelor's degree (BA,AB,BS)\",\n",
       "    '34': '7th and 8th grade',\n",
       "    '38': '12th Grade No Diploma',\n",
       "    '37': '11th Grade',\n",
       "    '33': '5th Or 6th Grade',\n",
       "    '45': 'Professional school degree (MD,DDS,DVM,L',\n",
       "    '39': 'High school graduate-high school diploma',\n",
       "    '32': '1st,2nd,3rd,or 4th grade',\n",
       "    '40': 'Some College But No Degree',\n",
       "    '46': 'Doctorate degree (PHD,EDD)',\n",
       "    '36': '10th Grade',\n",
       "    '42': 'Assc degree-academic program'}}},\n",
       " 'AGE1': {'name': 'AGE1',\n",
       "  'label': 'Demographics, Age recode, persons 15+ years',\n",
       "  'predicateType': 'int',\n",
       "  'group': 'N/A',\n",
       "  'limit': 0,\n",
       "  'suggested-weight': 'MARSUPWT',\n",
       "  'values': {'item': {'9': '40 to 44 years',\n",
       "    '6': '25 to 29 years',\n",
       "    '5': '22 to 24 years',\n",
       "    '4': '20 and 21 years',\n",
       "    '8': '35 to 39 years',\n",
       "    '10': '45 to 49 years',\n",
       "    '2': '16 and 17 years',\n",
       "    '11': '50 to 54 years',\n",
       "    '7': '30 to 34 years',\n",
       "    '3': '18 and 19 years',\n",
       "    '16': '70 to 74 years',\n",
       "    '1': '15 years',\n",
       "    '0': 'Not In Universe',\n",
       "    '13': '60 to 61 years',\n",
       "    '12': '55 to 59 years',\n",
       "    '14': '62 to 64 years',\n",
       "    '15': '65 to 69 years',\n",
       "    '17': '75 years and over'}}},\n",
       " 'AGI': {'name': 'AGI',\n",
       "  'label': 'Federal adjusted gross income',\n",
       "  'predicateType': 'int',\n",
       "  'group': 'N/A',\n",
       "  'limit': 0,\n",
       "  'suggested-weight': 'MARSUPWT',\n",
       "  'values': {'range': [{'min': '-999999',\n",
       "     'max': '9999999',\n",
       "     'description': 'Range'}]}}}"
      ]
     },
     "execution_count": 12,
     "metadata": {},
     "output_type": "execute_result"
    }
   ],
   "source": [
    "vars_dict"
   ]
  },
  {
   "cell_type": "code",
   "execution_count": 17,
   "metadata": {},
   "outputs": [
    {
     "name": "stdout",
     "output_type": "stream",
     "text": [
      "A_HGA,AGE1,AGI\n"
     ]
    }
   ],
   "source": [
    "# API expects vars to be comma separated, no spaces\n",
    "\n",
    "vars_query = ','.join(str(v) for v in vars_list)\n",
    "print(vars_query)"
   ]
  },
  {
   "cell_type": "code",
   "execution_count": 28,
   "metadata": {},
   "outputs": [],
   "source": [
    "# request non-tabulated data\n",
    "# URL format: \"https://api.census.gov/data/2021/cps/asec/mar?get=NOW_COV,MARSUPWT,A_MARITL&for=state:35\"\n",
    "\n",
    "# We can parameterize the state but for now we will hard code all and NM (35)\n",
    "api_request_url = endpoint + \"?get=\" + vars_query + \"&for=state:*&key=\" + key\n",
    "api_request = requests.get(api_request_url)\n",
    "api_json = api_request.json()"
   ]
  },
  {
   "cell_type": "code",
   "execution_count": 29,
   "metadata": {},
   "outputs": [
    {
     "data": {
      "text/plain": [
       "list"
      ]
     },
     "execution_count": 29,
     "metadata": {},
     "output_type": "execute_result"
    }
   ],
   "source": [
    "type(api_json) # results seem to generally be lists, but check in case a dictionary is returned"
   ]
  },
  {
   "cell_type": "code",
   "execution_count": 43,
   "metadata": {},
   "outputs": [],
   "source": [
    "census_df = pd.read_json(json.dumps(api_json), typ = \"frame\", orient = \"values\")"
   ]
  },
  {
   "cell_type": "code",
   "execution_count": 45,
   "metadata": {},
   "outputs": [
    {
     "data": {
      "text/html": [
       "<div>\n",
       "<style scoped>\n",
       "    .dataframe tbody tr th:only-of-type {\n",
       "        vertical-align: middle;\n",
       "    }\n",
       "\n",
       "    .dataframe tbody tr th {\n",
       "        vertical-align: top;\n",
       "    }\n",
       "\n",
       "    .dataframe thead th {\n",
       "        text-align: right;\n",
       "    }\n",
       "</style>\n",
       "<table border=\"1\" class=\"dataframe\">\n",
       "  <thead>\n",
       "    <tr style=\"text-align: right;\">\n",
       "      <th></th>\n",
       "      <th>0</th>\n",
       "      <th>1</th>\n",
       "      <th>2</th>\n",
       "      <th>3</th>\n",
       "    </tr>\n",
       "  </thead>\n",
       "  <tbody>\n",
       "    <tr>\n",
       "      <th>0</th>\n",
       "      <td>A_HGA</td>\n",
       "      <td>AGE1</td>\n",
       "      <td>AGI</td>\n",
       "      <td>state</td>\n",
       "    </tr>\n",
       "    <tr>\n",
       "      <th>1</th>\n",
       "      <td>39</td>\n",
       "      <td>12</td>\n",
       "      <td>10000</td>\n",
       "      <td>23</td>\n",
       "    </tr>\n",
       "    <tr>\n",
       "      <th>2</th>\n",
       "      <td>39</td>\n",
       "      <td>12</td>\n",
       "      <td>0</td>\n",
       "      <td>23</td>\n",
       "    </tr>\n",
       "    <tr>\n",
       "      <th>3</th>\n",
       "      <td>39</td>\n",
       "      <td>17</td>\n",
       "      <td>0</td>\n",
       "      <td>23</td>\n",
       "    </tr>\n",
       "    <tr>\n",
       "      <th>4</th>\n",
       "      <td>43</td>\n",
       "      <td>15</td>\n",
       "      <td>80819</td>\n",
       "      <td>23</td>\n",
       "    </tr>\n",
       "  </tbody>\n",
       "</table>\n",
       "</div>"
      ],
      "text/plain": [
       "       0     1      2      3\n",
       "0  A_HGA  AGE1    AGI  state\n",
       "1     39    12  10000     23\n",
       "2     39    12      0     23\n",
       "3     39    17      0     23\n",
       "4     43    15  80819     23"
      ]
     },
     "execution_count": 45,
     "metadata": {},
     "output_type": "execute_result"
    }
   ],
   "source": [
    "census_df.head()"
   ]
  },
  {
   "cell_type": "code",
   "execution_count": 46,
   "metadata": {},
   "outputs": [],
   "source": [
    "census_df.columns = census_df.iloc[0]"
   ]
  },
  {
   "cell_type": "code",
   "execution_count": 47,
   "metadata": {},
   "outputs": [
    {
     "data": {
      "text/html": [
       "<div>\n",
       "<style scoped>\n",
       "    .dataframe tbody tr th:only-of-type {\n",
       "        vertical-align: middle;\n",
       "    }\n",
       "\n",
       "    .dataframe tbody tr th {\n",
       "        vertical-align: top;\n",
       "    }\n",
       "\n",
       "    .dataframe thead th {\n",
       "        text-align: right;\n",
       "    }\n",
       "</style>\n",
       "<table border=\"1\" class=\"dataframe\">\n",
       "  <thead>\n",
       "    <tr style=\"text-align: right;\">\n",
       "      <th></th>\n",
       "      <th>A_HGA</th>\n",
       "      <th>AGE1</th>\n",
       "      <th>AGI</th>\n",
       "      <th>state</th>\n",
       "    </tr>\n",
       "  </thead>\n",
       "  <tbody>\n",
       "    <tr>\n",
       "      <th>0</th>\n",
       "      <td>A_HGA</td>\n",
       "      <td>AGE1</td>\n",
       "      <td>AGI</td>\n",
       "      <td>state</td>\n",
       "    </tr>\n",
       "    <tr>\n",
       "      <th>1</th>\n",
       "      <td>39</td>\n",
       "      <td>12</td>\n",
       "      <td>10000</td>\n",
       "      <td>23</td>\n",
       "    </tr>\n",
       "    <tr>\n",
       "      <th>2</th>\n",
       "      <td>39</td>\n",
       "      <td>12</td>\n",
       "      <td>0</td>\n",
       "      <td>23</td>\n",
       "    </tr>\n",
       "    <tr>\n",
       "      <th>3</th>\n",
       "      <td>39</td>\n",
       "      <td>17</td>\n",
       "      <td>0</td>\n",
       "      <td>23</td>\n",
       "    </tr>\n",
       "    <tr>\n",
       "      <th>4</th>\n",
       "      <td>43</td>\n",
       "      <td>15</td>\n",
       "      <td>80819</td>\n",
       "      <td>23</td>\n",
       "    </tr>\n",
       "  </tbody>\n",
       "</table>\n",
       "</div>"
      ],
      "text/plain": [
       "0  A_HGA  AGE1    AGI  state\n",
       "0  A_HGA  AGE1    AGI  state\n",
       "1     39    12  10000     23\n",
       "2     39    12      0     23\n",
       "3     39    17      0     23\n",
       "4     43    15  80819     23"
      ]
     },
     "execution_count": 47,
     "metadata": {},
     "output_type": "execute_result"
    }
   ],
   "source": [
    "census_df.head()"
   ]
  },
  {
   "cell_type": "code",
   "execution_count": 49,
   "metadata": {},
   "outputs": [],
   "source": [
    "census_df = census_df.drop(census_df.index[0])"
   ]
  },
  {
   "cell_type": "code",
   "execution_count": 50,
   "metadata": {},
   "outputs": [
    {
     "data": {
      "text/html": [
       "<div>\n",
       "<style scoped>\n",
       "    .dataframe tbody tr th:only-of-type {\n",
       "        vertical-align: middle;\n",
       "    }\n",
       "\n",
       "    .dataframe tbody tr th {\n",
       "        vertical-align: top;\n",
       "    }\n",
       "\n",
       "    .dataframe thead th {\n",
       "        text-align: right;\n",
       "    }\n",
       "</style>\n",
       "<table border=\"1\" class=\"dataframe\">\n",
       "  <thead>\n",
       "    <tr style=\"text-align: right;\">\n",
       "      <th></th>\n",
       "      <th>A_HGA</th>\n",
       "      <th>AGE1</th>\n",
       "      <th>AGI</th>\n",
       "      <th>state</th>\n",
       "    </tr>\n",
       "  </thead>\n",
       "  <tbody>\n",
       "    <tr>\n",
       "      <th>1</th>\n",
       "      <td>39</td>\n",
       "      <td>12</td>\n",
       "      <td>10000</td>\n",
       "      <td>23</td>\n",
       "    </tr>\n",
       "    <tr>\n",
       "      <th>2</th>\n",
       "      <td>39</td>\n",
       "      <td>12</td>\n",
       "      <td>0</td>\n",
       "      <td>23</td>\n",
       "    </tr>\n",
       "    <tr>\n",
       "      <th>3</th>\n",
       "      <td>39</td>\n",
       "      <td>17</td>\n",
       "      <td>0</td>\n",
       "      <td>23</td>\n",
       "    </tr>\n",
       "    <tr>\n",
       "      <th>4</th>\n",
       "      <td>43</td>\n",
       "      <td>15</td>\n",
       "      <td>80819</td>\n",
       "      <td>23</td>\n",
       "    </tr>\n",
       "    <tr>\n",
       "      <th>5</th>\n",
       "      <td>39</td>\n",
       "      <td>15</td>\n",
       "      <td>0</td>\n",
       "      <td>23</td>\n",
       "    </tr>\n",
       "  </tbody>\n",
       "</table>\n",
       "</div>"
      ],
      "text/plain": [
       "0 A_HGA AGE1    AGI state\n",
       "1    39   12  10000    23\n",
       "2    39   12      0    23\n",
       "3    39   17      0    23\n",
       "4    43   15  80819    23\n",
       "5    39   15      0    23"
      ]
     },
     "execution_count": 50,
     "metadata": {},
     "output_type": "execute_result"
    }
   ],
   "source": [
    "census_df.head()"
   ]
  },
  {
   "cell_type": "code",
   "execution_count": 51,
   "metadata": {},
   "outputs": [
    {
     "name": "stdout",
     "output_type": "stream",
     "text": [
      "<class 'pandas.core.frame.DataFrame'>\n",
      "Int64Index: 163543 entries, 1 to 163543\n",
      "Data columns (total 4 columns):\n",
      " #   Column  Non-Null Count   Dtype \n",
      "---  ------  --------------   ----- \n",
      " 0   A_HGA   163543 non-null  object\n",
      " 1   AGE1    163543 non-null  object\n",
      " 2   AGI     163543 non-null  object\n",
      " 3   state   163543 non-null  object\n",
      "dtypes: object(4)\n",
      "memory usage: 6.2+ MB\n"
     ]
    }
   ],
   "source": [
    "census_df.info()"
   ]
  },
  {
   "cell_type": "code",
   "execution_count": 52,
   "metadata": {},
   "outputs": [],
   "source": [
    "# We can separately request data for just NM, or we can subset\n",
    "# recall that the FIPS code for NM is 35\n",
    "\n",
    "nm_census_data = census_df[census_df[\"state\"] == \"35\"].copy() # quotes around \"35\" b/c it is an object not an int"
   ]
  },
  {
   "cell_type": "code",
   "execution_count": 53,
   "metadata": {},
   "outputs": [
    {
     "name": "stdout",
     "output_type": "stream",
     "text": [
      "<class 'pandas.core.frame.DataFrame'>\n",
      "Int64Index: 2900 entries, 126038 to 128937\n",
      "Data columns (total 4 columns):\n",
      " #   Column  Non-Null Count  Dtype \n",
      "---  ------  --------------  ----- \n",
      " 0   A_HGA   2900 non-null   object\n",
      " 1   AGE1    2900 non-null   object\n",
      " 2   AGI     2900 non-null   object\n",
      " 3   state   2900 non-null   object\n",
      "dtypes: object(4)\n",
      "memory usage: 113.3+ KB\n"
     ]
    }
   ],
   "source": [
    "nm_census_data.info()"
   ]
  },
  {
   "cell_type": "code",
   "execution_count": 54,
   "metadata": {},
   "outputs": [],
   "source": [
    "# out of curiosity let's get the NM data via API\n",
    "# same as before with one different parameter\n",
    "\n",
    "api_request_url = endpoint + \"?get=\" + vars_query + \"&for=state:35&key=\" + key\n",
    "api_request = requests.get(api_request_url)\n",
    "api_json = api_request.json()\n",
    "\n",
    "nm_census_df = pd.read_json(json.dumps(api_json), typ = \"frame\", orient = \"values\")\n",
    "nm_census_df.columns = nm_census_df.iloc[0]\n",
    "nm_census_df = nm_census_df.drop(nm_census_df.index[0])"
   ]
  },
  {
   "cell_type": "code",
   "execution_count": 55,
   "metadata": {},
   "outputs": [
    {
     "name": "stdout",
     "output_type": "stream",
     "text": [
      "<class 'pandas.core.frame.DataFrame'>\n",
      "Int64Index: 2900 entries, 1 to 2900\n",
      "Data columns (total 4 columns):\n",
      " #   Column  Non-Null Count  Dtype \n",
      "---  ------  --------------  ----- \n",
      " 0   A_HGA   2900 non-null   object\n",
      " 1   AGE1    2900 non-null   object\n",
      " 2   AGI     2900 non-null   object\n",
      " 3   state   2900 non-null   object\n",
      "dtypes: object(4)\n",
      "memory usage: 113.3+ KB\n"
     ]
    }
   ],
   "source": [
    "nm_census_df.info() # the data have the same number of rows"
   ]
  },
  {
   "cell_type": "code",
   "execution_count": 66,
   "metadata": {},
   "outputs": [],
   "source": [
    "# Let's make a function to get the data and convert to data frame\n",
    "def get_census_data(endpoint_url, vars_list, key, state = \"*\"):\n",
    "    # First, convert vars_list to string\n",
    "    vars_query = ','.join(str(v) for v in vars_list)\n",
    "    \n",
    "    # Build the request URL\n",
    "    api_request_url = endpoint_url + \"?get=\" + vars_query + \"&for=state:\" + state + \"&key=\" + key\n",
    "    \n",
    "    # Request the data\n",
    "    api_request = requests.get(api_request_url)\n",
    "    api_json = api_request.json()\n",
    "    \n",
    "    # Convert returned JSON to dataframe\n",
    "    df = pd.read_json(json.dumps(api_json), typ = \"frame\", orient = \"values\")\n",
    "    \n",
    "    # Use first row values for col headers\n",
    "    df.columns = df.iloc[0]\n",
    "    \n",
    "    # Drop first row, which is still header info\n",
    "    df = df.drop(df.index[0])\n",
    "    \n",
    "    return df\n",
    "\n",
    "# While we're at it, create a function to get var defs\n",
    "# No key needed\n",
    "def get_census_vars(vars_list):\n",
    "    vars_dict = {}\n",
    "    for v in vars_list:\n",
    "        var_def_url = endpoint + \"/variables/\" + v\n",
    "        var_def_request = requests.get(var_def_url)\n",
    "        var_json = var_def_request.json()\n",
    "        vars_dict[v] = var_json\n",
    "    return vars_dict"
   ]
  },
  {
   "cell_type": "code",
   "execution_count": 71,
   "metadata": {},
   "outputs": [],
   "source": [
    "# Now we can make ad hoc requests\n",
    "# but we will redo our initial request\n",
    "\n",
    "vars_list = [\"A_HGA\", \"AGE1\", \"AGI\"]\n",
    "var_info = get_census_vars(vars_list)\n",
    "census_data = get_census_data(endpoint, vars_list, key) # use default * for all state data"
   ]
  },
  {
   "cell_type": "code",
   "execution_count": 72,
   "metadata": {},
   "outputs": [
    {
     "name": "stdout",
     "output_type": "stream",
     "text": [
      "<class 'pandas.core.frame.DataFrame'>\n",
      "Int64Index: 163543 entries, 1 to 163543\n",
      "Data columns (total 4 columns):\n",
      " #   Column  Non-Null Count   Dtype \n",
      "---  ------  --------------   ----- \n",
      " 0   A_HGA   163543 non-null  object\n",
      " 1   AGE1    163543 non-null  object\n",
      " 2   AGI     163543 non-null  object\n",
      " 3   state   163543 non-null  object\n",
      "dtypes: object(4)\n",
      "memory usage: 6.2+ MB\n"
     ]
    }
   ],
   "source": [
    "census_data.info()"
   ]
  },
  {
   "cell_type": "code",
   "execution_count": 69,
   "metadata": {},
   "outputs": [
    {
     "name": "stdout",
     "output_type": "stream",
     "text": [
      "<class 'pandas.core.frame.DataFrame'>\n",
      "Int64Index: 2900 entries, 1 to 2900\n",
      "Data columns (total 4 columns):\n",
      " #   Column  Non-Null Count  Dtype \n",
      "---  ------  --------------  ----- \n",
      " 0   A_HGA   2900 non-null   object\n",
      " 1   AGE1    2900 non-null   object\n",
      " 2   AGI     2900 non-null   object\n",
      " 3   state   2900 non-null   object\n",
      "dtypes: object(4)\n",
      "memory usage: 113.3+ KB\n"
     ]
    }
   ],
   "source": [
    "# try again with just NM\n",
    "# census_data = get_census_data(endpoint, vars_list, key, state = \"35\") # NM\n",
    "# census_data.info()"
   ]
  },
  {
   "cell_type": "code",
   "execution_count": 70,
   "metadata": {
    "collapsed": true
   },
   "outputs": [
    {
     "data": {
      "text/plain": [
       "{'A_HGA': {'name': 'A_HGA',\n",
       "  'label': 'Demographics, Educational attainment',\n",
       "  'predicateType': 'int',\n",
       "  'group': 'N/A',\n",
       "  'limit': 0,\n",
       "  'suggested-weight': 'MARSUPWT',\n",
       "  'values': {'item': {'35': '9th Grade',\n",
       "    '41': 'Assc degree-occupation/vocation',\n",
       "    '0': 'Children',\n",
       "    '31': 'Less Than 1st Grade',\n",
       "    '44': \"Master's degree (MA,MS,MENG,MED,MSW,MBA)\",\n",
       "    '43': \"Bachelor's degree (BA,AB,BS)\",\n",
       "    '34': '7th and 8th grade',\n",
       "    '38': '12th Grade No Diploma',\n",
       "    '37': '11th Grade',\n",
       "    '33': '5th Or 6th Grade',\n",
       "    '45': 'Professional school degree (MD,DDS,DVM,L',\n",
       "    '39': 'High school graduate-high school diploma',\n",
       "    '32': '1st,2nd,3rd,or 4th grade',\n",
       "    '40': 'Some College But No Degree',\n",
       "    '46': 'Doctorate degree (PHD,EDD)',\n",
       "    '36': '10th Grade',\n",
       "    '42': 'Assc degree-academic program'}}},\n",
       " 'AGE1': {'name': 'AGE1',\n",
       "  'label': 'Demographics, Age recode, persons 15+ years',\n",
       "  'predicateType': 'int',\n",
       "  'group': 'N/A',\n",
       "  'limit': 0,\n",
       "  'suggested-weight': 'MARSUPWT',\n",
       "  'values': {'item': {'9': '40 to 44 years',\n",
       "    '6': '25 to 29 years',\n",
       "    '5': '22 to 24 years',\n",
       "    '4': '20 and 21 years',\n",
       "    '8': '35 to 39 years',\n",
       "    '10': '45 to 49 years',\n",
       "    '2': '16 and 17 years',\n",
       "    '11': '50 to 54 years',\n",
       "    '7': '30 to 34 years',\n",
       "    '3': '18 and 19 years',\n",
       "    '16': '70 to 74 years',\n",
       "    '1': '15 years',\n",
       "    '0': 'Not In Universe',\n",
       "    '13': '60 to 61 years',\n",
       "    '12': '55 to 59 years',\n",
       "    '14': '62 to 64 years',\n",
       "    '15': '65 to 69 years',\n",
       "    '17': '75 years and over'}}},\n",
       " 'AGI': {'name': 'AGI',\n",
       "  'label': 'Federal adjusted gross income',\n",
       "  'predicateType': 'int',\n",
       "  'group': 'N/A',\n",
       "  'limit': 0,\n",
       "  'suggested-weight': 'MARSUPWT',\n",
       "  'values': {'range': [{'min': '-999999',\n",
       "     'max': '9999999',\n",
       "     'description': 'Range'}]}}}"
      ]
     },
     "execution_count": 70,
     "metadata": {},
     "output_type": "execute_result"
    }
   ],
   "source": [
    "# Things work - let's see about reproducing stats from the press release\n",
    "# Right now we have age and education attainment (and income) for 2021\n",
    "\n",
    "'''\n",
    "In 2021, the highest level of education of the population age 25 and older in the United States \n",
    "was distributed as follows: \n",
    "\n",
    "    8.9% had less than a high school diploma or equivalent.\n",
    "    27.9% had high school graduate as their highest level of school completed. \n",
    "    14.9% had completed some college but not a degree.\n",
    "    10.5% had an associate degree as their highest level of school completed.\n",
    "    23.5% had a bachelor’s degree as their highest degree.\n",
    "    14.4% had completed an advanced degree such as a master’s degree, professional degree or doctoral degree. \n",
    "'''\n",
    "\n",
    "var_info"
   ]
  },
  {
   "cell_type": "code",
   "execution_count": 76,
   "metadata": {},
   "outputs": [
    {
     "name": "stdout",
     "output_type": "stream",
     "text": [
      "<class 'pandas.core.frame.DataFrame'>\n",
      "Int64Index: 163543 entries, 1 to 163543\n",
      "Data columns (total 4 columns):\n",
      " #   Column  Non-Null Count   Dtype\n",
      "---  ------  --------------   -----\n",
      " 0   A_HGA   163543 non-null  int32\n",
      " 1   AGE1    163543 non-null  int32\n",
      " 2   AGI     163543 non-null  int32\n",
      " 3   state   163543 non-null  int32\n",
      "dtypes: int32(4)\n",
      "memory usage: 3.7 MB\n",
      "<class 'pandas.core.frame.DataFrame'>\n",
      "Int64Index: 108998 entries, 1 to 163543\n",
      "Data columns (total 4 columns):\n",
      " #   Column  Non-Null Count   Dtype\n",
      "---  ------  --------------   -----\n",
      " 0   A_HGA   108998 non-null  int32\n",
      " 1   AGE1    108998 non-null  int32\n",
      " 2   AGI     108998 non-null  int32\n",
      " 3   state   108998 non-null  int32\n",
      "dtypes: int32(4)\n",
      "memory usage: 2.5 MB\n"
     ]
    }
   ],
   "source": [
    "# First subset to AGE1 values >= 6 (25 and older)\n",
    "\n",
    "# convert cols to int\n",
    "census_data = census_data.astype(int)\n",
    "census_data.info()\n",
    "age_gte25 = census_data[census_data[\"AGE1\"] >= 6].copy()\n",
    "age_gte25.info()"
   ]
  },
  {
   "cell_type": "code",
   "execution_count": 78,
   "metadata": {},
   "outputs": [
    {
     "data": {
      "text/html": [
       "<div>\n",
       "<style scoped>\n",
       "    .dataframe tbody tr th:only-of-type {\n",
       "        vertical-align: middle;\n",
       "    }\n",
       "\n",
       "    .dataframe tbody tr th {\n",
       "        vertical-align: top;\n",
       "    }\n",
       "\n",
       "    .dataframe thead th {\n",
       "        text-align: right;\n",
       "    }\n",
       "</style>\n",
       "<table border=\"1\" class=\"dataframe\">\n",
       "  <thead>\n",
       "    <tr style=\"text-align: right;\">\n",
       "      <th></th>\n",
       "      <th>A_HGA</th>\n",
       "      <th>AGE1</th>\n",
       "      <th>AGI</th>\n",
       "      <th>state</th>\n",
       "    </tr>\n",
       "  </thead>\n",
       "  <tbody>\n",
       "    <tr>\n",
       "      <th>1</th>\n",
       "      <td>39</td>\n",
       "      <td>12</td>\n",
       "      <td>10000</td>\n",
       "      <td>23</td>\n",
       "    </tr>\n",
       "    <tr>\n",
       "      <th>2</th>\n",
       "      <td>39</td>\n",
       "      <td>12</td>\n",
       "      <td>0</td>\n",
       "      <td>23</td>\n",
       "    </tr>\n",
       "    <tr>\n",
       "      <th>3</th>\n",
       "      <td>39</td>\n",
       "      <td>17</td>\n",
       "      <td>0</td>\n",
       "      <td>23</td>\n",
       "    </tr>\n",
       "    <tr>\n",
       "      <th>4</th>\n",
       "      <td>43</td>\n",
       "      <td>15</td>\n",
       "      <td>80819</td>\n",
       "      <td>23</td>\n",
       "    </tr>\n",
       "    <tr>\n",
       "      <th>5</th>\n",
       "      <td>39</td>\n",
       "      <td>15</td>\n",
       "      <td>0</td>\n",
       "      <td>23</td>\n",
       "    </tr>\n",
       "  </tbody>\n",
       "</table>\n",
       "</div>"
      ],
      "text/plain": [
       "0  A_HGA  AGE1    AGI  state\n",
       "1     39    12  10000     23\n",
       "2     39    12      0     23\n",
       "3     39    17      0     23\n",
       "4     43    15  80819     23\n",
       "5     39    15      0     23"
      ]
     },
     "execution_count": 78,
     "metadata": {},
     "output_type": "execute_result"
    }
   ],
   "source": [
    "age_gte25.head()"
   ]
  },
  {
   "cell_type": "code",
   "execution_count": 91,
   "metadata": {
    "scrolled": true
   },
   "outputs": [
    {
     "data": {
      "text/plain": [
       "{'A_HGA': {'name': 'A_HGA',\n",
       "  'label': 'Demographics, Educational attainment',\n",
       "  'predicateType': 'int',\n",
       "  'group': 'N/A',\n",
       "  'limit': 0,\n",
       "  'suggested-weight': 'MARSUPWT',\n",
       "  'values': {'item': {'35': '9th Grade',\n",
       "    '41': 'Assc degree-occupation/vocation',\n",
       "    '0': 'Children',\n",
       "    '31': 'Less Than 1st Grade',\n",
       "    '44': \"Master's degree (MA,MS,MENG,MED,MSW,MBA)\",\n",
       "    '43': \"Bachelor's degree (BA,AB,BS)\",\n",
       "    '34': '7th and 8th grade',\n",
       "    '38': '12th Grade No Diploma',\n",
       "    '37': '11th Grade',\n",
       "    '33': '5th Or 6th Grade',\n",
       "    '45': 'Professional school degree (MD,DDS,DVM,L',\n",
       "    '39': 'High school graduate-high school diploma',\n",
       "    '32': '1st,2nd,3rd,or 4th grade',\n",
       "    '40': 'Some College But No Degree',\n",
       "    '46': 'Doctorate degree (PHD,EDD)',\n",
       "    '36': '10th Grade',\n",
       "    '42': 'Assc degree-academic program'}}},\n",
       " 'AGE1': {'name': 'AGE1',\n",
       "  'label': 'Demographics, Age recode, persons 15+ years',\n",
       "  'predicateType': 'int',\n",
       "  'group': 'N/A',\n",
       "  'limit': 0,\n",
       "  'suggested-weight': 'MARSUPWT',\n",
       "  'values': {'item': {'9': '40 to 44 years',\n",
       "    '6': '25 to 29 years',\n",
       "    '5': '22 to 24 years',\n",
       "    '4': '20 and 21 years',\n",
       "    '8': '35 to 39 years',\n",
       "    '10': '45 to 49 years',\n",
       "    '2': '16 and 17 years',\n",
       "    '11': '50 to 54 years',\n",
       "    '7': '30 to 34 years',\n",
       "    '3': '18 and 19 years',\n",
       "    '16': '70 to 74 years',\n",
       "    '1': '15 years',\n",
       "    '0': 'Not In Universe',\n",
       "    '13': '60 to 61 years',\n",
       "    '12': '55 to 59 years',\n",
       "    '14': '62 to 64 years',\n",
       "    '15': '65 to 69 years',\n",
       "    '17': '75 years and over'}}},\n",
       " 'AGI': {'name': 'AGI',\n",
       "  'label': 'Federal adjusted gross income',\n",
       "  'predicateType': 'int',\n",
       "  'group': 'N/A',\n",
       "  'limit': 0,\n",
       "  'suggested-weight': 'MARSUPWT',\n",
       "  'values': {'range': [{'min': '-999999',\n",
       "     'max': '9999999',\n",
       "     'description': 'Range'}]}}}"
      ]
     },
     "execution_count": 91,
     "metadata": {},
     "output_type": "execute_result"
    }
   ],
   "source": [
    "var_info"
   ]
  },
  {
   "cell_type": "code",
   "execution_count": 84,
   "metadata": {},
   "outputs": [],
   "source": [
    "# convert A_HGA, AGE1, and state to categories\n",
    "age_gte25.A_HGA = age_gte25.A_HGA.astype(\"category\")\n",
    "age_gte25.AGE1 = age_gte25.AGE1.astype(\"category\")\n",
    "age_gte25.state = age_gte25.state.astype(\"category\")"
   ]
  },
  {
   "cell_type": "code",
   "execution_count": 85,
   "metadata": {},
   "outputs": [
    {
     "name": "stdout",
     "output_type": "stream",
     "text": [
      "<class 'pandas.core.frame.DataFrame'>\n",
      "Int64Index: 108998 entries, 1 to 163543\n",
      "Data columns (total 4 columns):\n",
      " #   Column  Non-Null Count   Dtype   \n",
      "---  ------  --------------   -----   \n",
      " 0   A_HGA   108998 non-null  category\n",
      " 1   AGE1    108998 non-null  category\n",
      " 2   AGI     108998 non-null  int32   \n",
      " 3   state   108998 non-null  category\n",
      "dtypes: category(3), int32(1)\n",
      "memory usage: 1.6 MB\n"
     ]
    }
   ],
   "source": [
    "age_gte25.info()"
   ]
  },
  {
   "cell_type": "code",
   "execution_count": 89,
   "metadata": {},
   "outputs": [
    {
     "data": {
      "text/plain": [
       "numpy.int64"
      ]
     },
     "execution_count": 89,
     "metadata": {},
     "output_type": "execute_result"
    }
   ],
   "source": [
    "type(age_gte25.iloc[0, 0])"
   ]
  },
  {
   "cell_type": "code",
   "execution_count": 90,
   "metadata": {},
   "outputs": [
    {
     "data": {
      "text/plain": [
       "39"
      ]
     },
     "execution_count": 90,
     "metadata": {},
     "output_type": "execute_result"
    }
   ],
   "source": [
    "age_gte25.iloc[0, 0]"
   ]
  },
  {
   "cell_type": "code",
   "execution_count": 93,
   "metadata": {},
   "outputs": [],
   "source": [
    "# so cols are categories but cell values are still int (?)\n",
    "\n",
    "# Educational attainment: <= 38 less than HS diploma or eq\n",
    "# 39 == HS diploma, 40 == some college ND, 41 & 42 == assoc Deg, 43 == Bachelor's, \n",
    "# 44 & 45 Masters or professional degree, 46 == doctorate\n",
    "\n",
    "# there is probably a faster way to do this\n",
    "ed_groups = age_gte25.groupby(\"A_HGA\")"
   ]
  },
  {
   "cell_type": "code",
   "execution_count": 109,
   "metadata": {},
   "outputs": [],
   "source": [
    "#ed_groups.groups"
   ]
  },
  {
   "cell_type": "code",
   "execution_count": 97,
   "metadata": {},
   "outputs": [],
   "source": [
    "# 27.9% HS grads per press release\n",
    "hs_grads = ed_groups.get_group(39)"
   ]
  },
  {
   "cell_type": "code",
   "execution_count": 102,
   "metadata": {},
   "outputs": [
    {
     "data": {
      "text/plain": [
       "30656"
      ]
     },
     "execution_count": 102,
     "metadata": {},
     "output_type": "execute_result"
    }
   ],
   "source": [
    "len(hs_grads)"
   ]
  },
  {
   "cell_type": "code",
   "execution_count": 103,
   "metadata": {},
   "outputs": [
    {
     "data": {
      "text/plain": [
       "28.1252867025083"
      ]
     },
     "execution_count": 103,
     "metadata": {},
     "output_type": "execute_result"
    }
   ],
   "source": [
    "(30656 / 108998) * 100"
   ]
  },
  {
   "cell_type": "code",
   "execution_count": 104,
   "metadata": {},
   "outputs": [],
   "source": [
    "# 14.9% had some college\n",
    "\n",
    "some_college_nd = ed_groups.get_group(40)"
   ]
  },
  {
   "cell_type": "code",
   "execution_count": 106,
   "metadata": {},
   "outputs": [
    {
     "data": {
      "text/plain": [
       "16369"
      ]
     },
     "execution_count": 106,
     "metadata": {},
     "output_type": "execute_result"
    }
   ],
   "source": [
    "len(some_college_nd)"
   ]
  },
  {
   "cell_type": "code",
   "execution_count": 107,
   "metadata": {},
   "outputs": [
    {
     "data": {
      "text/plain": [
       "15.017706746912788"
      ]
     },
     "execution_count": 107,
     "metadata": {},
     "output_type": "execute_result"
    }
   ],
   "source": [
    "(16369/108998) * 100"
   ]
  },
  {
   "cell_type": "code",
   "execution_count": 112,
   "metadata": {},
   "outputs": [],
   "source": [
    "# 31-38 for no HS\n",
    "# 8.9% report less than HS diploma or eq\n",
    "\n",
    "no_diploma = 0\n",
    "for i in range(31, 39):\n",
    "    g = ed_groups.get_group(i)\n",
    "    no_diploma += len(g)"
   ]
  },
  {
   "cell_type": "code",
   "execution_count": 113,
   "metadata": {},
   "outputs": [
    {
     "data": {
      "text/plain": [
       "10289"
      ]
     },
     "execution_count": 113,
     "metadata": {},
     "output_type": "execute_result"
    }
   ],
   "source": [
    "no_diploma"
   ]
  },
  {
   "cell_type": "code",
   "execution_count": 114,
   "metadata": {},
   "outputs": [
    {
     "data": {
      "text/plain": [
       "9.439622745371475"
      ]
     },
     "execution_count": 114,
     "metadata": {},
     "output_type": "execute_result"
    }
   ],
   "source": [
    "(10289/108998) * 100"
   ]
  },
  {
   "cell_type": "code",
   "execution_count": null,
   "metadata": {},
   "outputs": [],
   "source": []
  }
 ],
 "metadata": {
  "kernelspec": {
   "display_name": "Python 3",
   "language": "python",
   "name": "python3"
  },
  "language_info": {
   "codemirror_mode": {
    "name": "ipython",
    "version": 3
   },
   "file_extension": ".py",
   "mimetype": "text/x-python",
   "name": "python",
   "nbconvert_exporter": "python",
   "pygments_lexer": "ipython3",
   "version": "3.8.3"
  }
 },
 "nbformat": 4,
 "nbformat_minor": 4
}

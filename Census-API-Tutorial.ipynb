{
 "cells": [
  {
   "cell_type": "code",
   "execution_count": 7,
   "metadata": {},
   "outputs": [],
   "source": [
    "# Load API key\n",
    "\n",
    "# Note the file with the API key is not in the GitHub repo.\n",
    "# Keys need to be read from a local directory\n",
    "with open(\"jwCensusApi\", \"r\") as i:\n",
    "    key = i.read()"
   ]
  },
  {
   "cell_type": "code",
   "execution_count": 10,
   "metadata": {},
   "outputs": [],
   "source": [
    "import json\n",
    "import requests\n",
    "import pandas as pd\n",
    "import matplotlib as plt"
   ]
  },
  {
   "cell_type": "code",
   "execution_count": 24,
   "metadata": {},
   "outputs": [],
   "source": [
    "'''\n",
    "Current Population Survey Annual Social and Economic Supplement\n",
    "https://api.census.gov/data.html\n",
    "\n",
    "Vars: https://api.census.gov/data/2021/cps/asec/mar/variables.html\n",
    "'''\n",
    "\n",
    "endpoint = \"http://api.census.gov/data/2021/cps/asec/mar\" # state geographies\n",
    "ex1_url = \"https://api.census.gov/data/2021/cps/asec/mar?get=NOW_COV,MARSUPWT,A_MARITL&for=state:35&A_HGA=39\"\n",
    "ex2_url = \"https://api.census.gov/data/2021/cps/asec/mar?tabulate=weight(MARSUPWT)&col+NOW_COV&row+A_MARITL&for=state:35&A_HGA=39\""
   ]
  },
  {
   "cell_type": "code",
   "execution_count": 25,
   "metadata": {},
   "outputs": [],
   "source": [
    "api_request_url = ex1_url + \"&key=\" + key\n",
    "api_request = requests.get(api_request_url)"
   ]
  },
  {
   "cell_type": "code",
   "execution_count": 26,
   "metadata": {},
   "outputs": [],
   "source": [
    "api_json = api_request.json()"
   ]
  },
  {
   "cell_type": "code",
   "execution_count": 34,
   "metadata": {},
   "outputs": [],
   "source": [
    "# print(json.dumps(api_json, indent=4)) # long output"
   ]
  },
  {
   "cell_type": "markdown",
   "metadata": {},
   "source": [
    "### Q: How to get info on variables via API?\n",
    "\n",
    "We can look it up online, but we may also get this info dynamically."
   ]
  },
  {
   "cell_type": "code",
   "execution_count": 35,
   "metadata": {},
   "outputs": [],
   "source": [
    "var = \"NOW_COV\"\n",
    "var_def_url = endpoint + \"/variables/\" + var"
   ]
  },
  {
   "cell_type": "code",
   "execution_count": 36,
   "metadata": {},
   "outputs": [],
   "source": [
    "var_def_request = requests.get(var_def_url)"
   ]
  },
  {
   "cell_type": "code",
   "execution_count": 37,
   "metadata": {},
   "outputs": [],
   "source": [
    "var_json = var_def_request.json()"
   ]
  },
  {
   "cell_type": "code",
   "execution_count": 38,
   "metadata": {},
   "outputs": [
    {
     "name": "stdout",
     "output_type": "stream",
     "text": [
      "{\n",
      "    \"name\": \"NOW_COV\",\n",
      "    \"label\": \"Currently covered by health insurance coverage\",\n",
      "    \"predicateType\": \"int\",\n",
      "    \"group\": \"N/A\",\n",
      "    \"limit\": 0,\n",
      "    \"suggested-weight\": \"MARSUPWT\",\n",
      "    \"values\": {\n",
      "        \"item\": {\n",
      "            \"2\": \"No\",\n",
      "            \"1\": \"Yes\"\n",
      "        }\n",
      "    }\n",
      "}\n"
     ]
    }
   ],
   "source": [
    "print(json.dumps(var_json, indent=4))"
   ]
  },
  {
   "cell_type": "code",
   "execution_count": null,
   "metadata": {},
   "outputs": [],
   "source": [
    "'''\n",
    "Variables of interest\n",
    "\n",
    "A_HGA - educational attainment\n",
    "AGE1 - age\n",
    "AGI - federal adjusted gross income\n",
    "\n",
    "NM FIPS ID = 35\n",
    "'''"
   ]
  }
 ],
 "metadata": {
  "kernelspec": {
   "display_name": "Python 3",
   "language": "python",
   "name": "python3"
  },
  "language_info": {
   "codemirror_mode": {
    "name": "ipython",
    "version": 3
   },
   "file_extension": ".py",
   "mimetype": "text/x-python",
   "name": "python",
   "nbconvert_exporter": "python",
   "pygments_lexer": "ipython3",
   "version": "3.8.3"
  }
 },
 "nbformat": 4,
 "nbformat_minor": 4
}

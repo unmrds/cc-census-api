{
 "cells": [
  {
   "cell_type": "code",
   "execution_count": 7,
   "metadata": {},
   "outputs": [],
   "source": [
    "# Load API key\n",
    "\n",
    "# Note the file with the API key is not in the GitHub repo.\n",
    "# Keys need to be read from a local directory\n",
    "with open(\"jwCensusApi\", \"r\") as i:\n",
    "    key = i.read()"
   ]
  },
  {
   "cell_type": "code",
   "execution_count": 10,
   "metadata": {},
   "outputs": [],
   "source": [
    "import json\n",
    "import requests\n",
    "import pandas as pd\n",
    "import matplotlib as plt"
   ]
  },
  {
   "cell_type": "code",
   "execution_count": 24,
   "metadata": {},
   "outputs": [],
   "source": [
    "'''\n",
    "Current Population Survey Annual Social and Economic Supplement\n",
    "https://api.census.gov/data.html\n",
    "\n",
    "Vars: https://api.census.gov/data/2021/cps/asec/mar/variables.html\n",
    "'''\n",
    "\n",
    "endpoint = \"http://api.census.gov/data/2021/cps/asec/mar\" # state geographies\n",
    "ex1_url = \"https://api.census.gov/data/2021/cps/asec/mar?get=NOW_COV,MARSUPWT,A_MARITL&for=state:35&A_HGA=39\"\n",
    "ex2_url = \"https://api.census.gov/data/2021/cps/asec/mar?tabulate=weight(MARSUPWT)&col+NOW_COV&row+A_MARITL&for=state:35&A_HGA=39\""
   ]
  },
  {
   "cell_type": "code",
   "execution_count": 25,
   "metadata": {},
   "outputs": [],
   "source": [
    "api_request_url = ex1_url + \"&key=\" + key\n",
    "api_request = requests.get(api_request_url)"
   ]
  },
  {
   "cell_type": "code",
   "execution_count": 26,
   "metadata": {},
   "outputs": [],
   "source": [
    "api_json = api_request.json()"
   ]
  },
  {
   "cell_type": "code",
   "execution_count": 34,
   "metadata": {},
   "outputs": [],
   "source": [
    "# print(json.dumps(api_json, indent=4)) # long output"
   ]
  },
  {
   "cell_type": "markdown",
   "metadata": {},
   "source": [
    "### Q: How to get info on variables via API?\n",
    "\n",
    "We can look it up online, but we may also get this info dynamically."
   ]
  },
  {
   "cell_type": "code",
   "execution_count": 35,
   "metadata": {},
   "outputs": [],
   "source": [
    "# Maybe create dictionaries of vars:defs\n",
    "# populate via iteration\n",
    "\n",
    "var = \"NOW_COV\"\n",
    "var_def_url = endpoint + \"/variables/\" + var"
   ]
  },
  {
   "cell_type": "code",
   "execution_count": 36,
   "metadata": {},
   "outputs": [],
   "source": [
    "var_def_request = requests.get(var_def_url)"
   ]
  },
  {
   "cell_type": "code",
   "execution_count": 37,
   "metadata": {},
   "outputs": [],
   "source": [
    "var_json = var_def_request.json()"
   ]
  },
  {
   "cell_type": "code",
   "execution_count": 38,
   "metadata": {},
   "outputs": [
    {
     "name": "stdout",
     "output_type": "stream",
     "text": [
      "{\n",
      "    \"name\": \"NOW_COV\",\n",
      "    \"label\": \"Currently covered by health insurance coverage\",\n",
      "    \"predicateType\": \"int\",\n",
      "    \"group\": \"N/A\",\n",
      "    \"limit\": 0,\n",
      "    \"suggested-weight\": \"MARSUPWT\",\n",
      "    \"values\": {\n",
      "        \"item\": {\n",
      "            \"2\": \"No\",\n",
      "            \"1\": \"Yes\"\n",
      "        }\n",
      "    }\n",
      "}\n"
     ]
    }
   ],
   "source": [
    "print(json.dumps(var_json, indent=4))"
   ]
  },
  {
   "cell_type": "code",
   "execution_count": 39,
   "metadata": {},
   "outputs": [],
   "source": [
    "'''\n",
    "Variables of interest\n",
    "\n",
    "A_HGA - educational attainment\n",
    "AGE1 - age\n",
    "AGI - federal adjusted gross income\n",
    "\n",
    "NM FIPS ID = 35\n",
    "'''\n",
    "\n",
    "vars_list = [\"A_HGA\", \"AGE1\", \"AGI\"]\n",
    "vars_dict = {}\n",
    "\n",
    "for v in vars_list:\n",
    "    var_def_url = endpoint + \"/variables/\" + v\n",
    "    var_def_request = requests.get(var_def_url)\n",
    "    var_json = var_def_request.json()\n",
    "    vars_dict[v] = var_json"
   ]
  },
  {
   "cell_type": "code",
   "execution_count": 40,
   "metadata": {},
   "outputs": [
    {
     "data": {
      "text/plain": [
       "{'A_HGA': {'name': 'A_HGA',\n",
       "  'label': 'Demographics, Educational attainment',\n",
       "  'predicateType': 'int',\n",
       "  'group': 'N/A',\n",
       "  'limit': 0,\n",
       "  'suggested-weight': 'MARSUPWT',\n",
       "  'values': {'item': {'35': '9th Grade',\n",
       "    '41': 'Assc degree-occupation/vocation',\n",
       "    '0': 'Children',\n",
       "    '31': 'Less Than 1st Grade',\n",
       "    '44': \"Master's degree (MA,MS,MENG,MED,MSW,MBA)\",\n",
       "    '43': \"Bachelor's degree (BA,AB,BS)\",\n",
       "    '34': '7th and 8th grade',\n",
       "    '38': '12th Grade No Diploma',\n",
       "    '37': '11th Grade',\n",
       "    '33': '5th Or 6th Grade',\n",
       "    '45': 'Professional school degree (MD,DDS,DVM,L',\n",
       "    '39': 'High school graduate-high school diploma',\n",
       "    '32': '1st,2nd,3rd,or 4th grade',\n",
       "    '40': 'Some College But No Degree',\n",
       "    '46': 'Doctorate degree (PHD,EDD)',\n",
       "    '36': '10th Grade',\n",
       "    '42': 'Assc degree-academic program'}}},\n",
       " 'AGE1': {'name': 'AGE1',\n",
       "  'label': 'Demographics, Age recode, persons 15+ years',\n",
       "  'predicateType': 'int',\n",
       "  'group': 'N/A',\n",
       "  'limit': 0,\n",
       "  'suggested-weight': 'MARSUPWT',\n",
       "  'values': {'item': {'9': '40 to 44 years',\n",
       "    '6': '25 to 29 years',\n",
       "    '5': '22 to 24 years',\n",
       "    '4': '20 and 21 years',\n",
       "    '8': '35 to 39 years',\n",
       "    '10': '45 to 49 years',\n",
       "    '2': '16 and 17 years',\n",
       "    '11': '50 to 54 years',\n",
       "    '7': '30 to 34 years',\n",
       "    '3': '18 and 19 years',\n",
       "    '16': '70 to 74 years',\n",
       "    '1': '15 years',\n",
       "    '0': 'Not In Universe',\n",
       "    '13': '60 to 61 years',\n",
       "    '12': '55 to 59 years',\n",
       "    '14': '62 to 64 years',\n",
       "    '15': '65 to 69 years',\n",
       "    '17': '75 years and over'}}},\n",
       " 'AGI': {'name': 'AGI',\n",
       "  'label': 'Federal adjusted gross income',\n",
       "  'predicateType': 'int',\n",
       "  'group': 'N/A',\n",
       "  'limit': 0,\n",
       "  'suggested-weight': 'MARSUPWT',\n",
       "  'values': {'range': [{'min': '-999999',\n",
       "     'max': '9999999',\n",
       "     'description': 'Range'}]}}}"
      ]
     },
     "execution_count": 40,
     "metadata": {},
     "output_type": "execute_result"
    }
   ],
   "source": [
    "vars_dict"
   ]
  },
  {
   "cell_type": "code",
   "execution_count": null,
   "metadata": {},
   "outputs": [],
   "source": []
  }
 ],
 "metadata": {
  "kernelspec": {
   "display_name": "Python 3",
   "language": "python",
   "name": "python3"
  },
  "language_info": {
   "codemirror_mode": {
    "name": "ipython",
    "version": 3
   },
   "file_extension": ".py",
   "mimetype": "text/x-python",
   "name": "python",
   "nbconvert_exporter": "python",
   "pygments_lexer": "ipython3",
   "version": "3.8.3"
  }
 },
 "nbformat": 4,
 "nbformat_minor": 4
}

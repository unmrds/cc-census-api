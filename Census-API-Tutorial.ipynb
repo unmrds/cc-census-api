{
 "cells": [
  {
   "cell_type": "markdown",
   "metadata": {},
   "source": [
    "# Census APIs\n",
    "\n",
    "Request a key at <https://api.census.gov/data/key_signup.html>\n",
    "\n",
    "An email will be sent to the addres you provide. The email will include a link to activate the key. It may take a few minutes before the key can be activated."
   ]
  },
  {
   "cell_type": "code",
   "execution_count": 1,
   "metadata": {},
   "outputs": [],
   "source": [
    "# Load API key\n",
    "\n",
    "# Note the file with the API key is not in the GitHub repo.\n",
    "# Keys need to be read from a local directory\n",
    "with open(\"jwCensusApi\", \"r\") as i:\n",
    "    key = i.read()"
   ]
  },
  {
   "cell_type": "code",
   "execution_count": 2,
   "metadata": {},
   "outputs": [],
   "source": [
    "import json\n",
    "import requests\n",
    "import pandas as pd\n",
    "import matplotlib as plt"
   ]
  },
  {
   "cell_type": "code",
   "execution_count": 3,
   "metadata": {},
   "outputs": [],
   "source": [
    "'''\n",
    "Current Population Survey Annual Social and Economic Supplement\n",
    "https://api.census.gov/data.html\n",
    "\n",
    "Vars: https://api.census.gov/data/2021/cps/asec/mar/variables.html\n",
    "'''\n",
    "\n",
    "endpoint = \"http://api.census.gov/data/2021/cps/asec/mar\" # state geographies\n",
    "ex1_url = \"https://api.census.gov/data/2021/cps/asec/mar?get=NOW_COV,MARSUPWT,A_MARITL&for=state:35&A_HGA=39\"\n",
    "ex2_url = \"https://api.census.gov/data/2021/cps/asec/mar?tabulate=weight(MARSUPWT)&col+NOW_COV&row+A_MARITL&for=state:35&A_HGA=39\""
   ]
  },
  {
   "cell_type": "code",
   "execution_count": 4,
   "metadata": {},
   "outputs": [],
   "source": [
    "api_request_url = ex1_url + \"&key=\" + key\n",
    "api_request = requests.get(api_request_url)"
   ]
  },
  {
   "cell_type": "code",
   "execution_count": 5,
   "metadata": {},
   "outputs": [],
   "source": [
    "api_json = api_request.json()"
   ]
  },
  {
   "cell_type": "code",
   "execution_count": 6,
   "metadata": {},
   "outputs": [],
   "source": [
    "# print(json.dumps(api_json, indent=4)) # long output"
   ]
  },
  {
   "cell_type": "markdown",
   "metadata": {},
   "source": [
    "## Identifying the Data Source\n",
    "\n",
    "We are going to use the Census API to retrieve data to reproduce some of the statistics from the Feb 24, 2022, press release and infographic *A Higher Degree.*\n",
    "\n",
    "**Press release:** <https://www.census.gov/newsroom/press-releases/2022/educational-attainment.html>\n",
    "\n",
    "**Infographic:** <https://www.census.gov/library/visualizations/2022/comm/a-higher-degree.html>\n",
    "\n",
    "Below is the infographic. Note that for today's workshop we are using only 2021 data.\n",
    "\n",
    "<a class=\"embeddable-image__embedLink\" href=\"https://www.census.gov/library/visualizations/2022/comm/a-higher-degree.html?cid=higher-degree\" target=\"_blank\"><img class=\"embeddable-image__embedImage\" data-src=\"/library/visualizations/2022/comm/a-higher-degree/_jcr_content/root/responsivegrid/embeddableimage1119.coreimg.jpeg/1645624284211/educational-attainment-2022.jpeg\" alt=\"A Higher Degree\" title=\"A Higher Degree\" src=\"https://www.census.gov/library/visualizations/2022/comm/a-higher-degree/_jcr_content/root/responsivegrid/embeddableimage1119.coreimg.jpeg/1645624284211/educational-attainment-2022.jpeg\" width=\"1080\" height=\"1080\"></a>[Source: U.S. Census Bureau]"
   ]
  },
  {
   "cell_type": "markdown",
   "metadata": {},
   "source": [
    "According to the press release, the data are from the *2000–2002 March Current Population Survey and 2003–2021 Annual Social and Economic Supplement to the Current Population Survey.*"
   ]
  },
  {
   "cell_type": "markdown",
   "metadata": {},
   "source": [
    "### Q: How to get info on variables via API?\n",
    "\n",
    "We can look it up online, but we may also get this info dynamically. \n",
    "\n",
    "#### Steps:\n",
    "\n",
    "1. Go to the *Census Data API Discovery Tool*: <https://www.census.gov/data/developers/updates/new-discovery-tool.html>\n",
    "1. Preview the datasets and available information using the HTML format: <https://api.census.gov/data.html>\n",
    "1. Using a process similar to the above, we can also retrieve the information in JSON format."
   ]
  },
  {
   "cell_type": "code",
   "execution_count": 51,
   "metadata": {},
   "outputs": [],
   "source": [
    "# Request the JSON information about available datasets\n",
    "\n",
    "datasets_url = \"https://api.census.gov/data.json\"\n",
    "datasets_request = requests.get(datasets_url)\n",
    "datasets_json = datasets_request.json()"
   ]
  },
  {
   "cell_type": "code",
   "execution_count": 63,
   "metadata": {
    "scrolled": false
   },
   "outputs": [
    {
     "name": "stdout",
     "output_type": "stream",
     "text": [
      "[\n",
      "    {\n",
      "        \"c_vintage\": 2021,\n",
      "        \"c_dataset\": [\n",
      "            \"cps\",\n",
      "            \"asec\",\n",
      "            \"mar\"\n",
      "        ],\n",
      "        \"c_geographyLink\": \"http://api.census.gov/data/2021/cps/asec/mar/geography.json\",\n",
      "        \"c_variablesLink\": \"http://api.census.gov/data/2021/cps/asec/mar/variables.json\",\n",
      "        \"c_tagsLink\": \"http://api.census.gov/data/2021/cps/asec/mar/tags.json\",\n",
      "        \"c_examplesLink\": \"http://api.census.gov/data/2021/cps/asec/mar/examples.json\",\n",
      "        \"c_groupsLink\": \"http://api.census.gov/data/2021/cps/asec/mar/groups.json\",\n",
      "        \"c_sorts_url\": \"http://api.census.gov/data/2021/cps/asec/mar/sorts.json\",\n",
      "        \"c_valuesLink\": \"http://api.census.gov/data/2021/cps/asec/mar/values.json\",\n",
      "        \"c_documentationLink\": \"https://www.census.gov/developer/\",\n",
      "        \"c_isMicrodata\": true,\n",
      "        \"c_isCube\": true,\n",
      "        \"c_isAvailable\": true,\n",
      "        \"@type\": \"dcat:Dataset\",\n",
      "        \"title\": \"Current Population Survey Annual Social and Economic Supplement\",\n",
      "        \"accessLevel\": \"public\",\n",
      "        \"bureauCode\": [\n",
      "            \"006:07\"\n",
      "        ],\n",
      "        \"description\": \"The Annual Social and Economic Supplement or March CPS supplement is the primary source of detailed information on income and work experience in the United States. Numerous publications based on this survey are issued each year by the Bureaus of Labor Statistics and Census. A public-use microdata file is available for private researchers, who also produce many academic and policy-related documents based on these data. The Annual Social and Economic Supplement is used to generate the annual Population Profile of the United States, reports on geographical mobility and educational attainment, and detailed analysis of money income and poverty status. The labor force and work experience data from this survey are used to profile the U.S. labor market and to make employment projections. To allow for the same type of in-depth analysis of hispanics, additional hispanic sample units are added to the basic CPS sample in March each year. Additional weighting is also performed so that estimates can be made for households and families, in addition to persons.\",\n",
      "        \"distribution\": [\n",
      "            {\n",
      "                \"@type\": \"dcat:Distribution\",\n",
      "                \"accessURL\": \"http://api.census.gov/data/2021/cps/asec/mar\",\n",
      "                \"description\": \"API endpoint\",\n",
      "                \"format\": \"API\",\n",
      "                \"mediaType\": \"application/json\",\n",
      "                \"title\": \"API endpoint\"\n",
      "            }\n",
      "        ],\n",
      "        \"contactPoint\": {\n",
      "            \"fn\": \"Current Population Survey Office\",\n",
      "            \"hasEmail\": \"mailto:dsd.cps@census.gov\"\n",
      "        },\n",
      "        \"identifier\": \"https://api.census.gov/data/id/CPSASEC2021\",\n",
      "        \"keyword\": [],\n",
      "        \"license\": \"https://creativecommons.org/publicdomain/zero/1.0/\",\n",
      "        \"modified\": \"2021-08-10 00:00:00.0\",\n",
      "        \"programCode\": [\n",
      "            \"006:004\"\n",
      "        ],\n",
      "        \"references\": [\n",
      "            \"https://www.census.gov/developers/\"\n",
      "        ],\n",
      "        \"temporal\": \"unidentified\",\n",
      "        \"publisher\": {\n",
      "            \"@type\": \"org:Organization\",\n",
      "            \"name\": \"U.S. Census Bureau\",\n",
      "            \"subOrganizationOf\": {\n",
      "                \"@type\": \"org:Organization\",\n",
      "                \"name\": \"U.S. Department Of Commerce\",\n",
      "                \"subOrganizationOf\": {\n",
      "                    \"@type\": \"org:Organization\",\n",
      "                    \"name\": \"U.S. Government\"\n",
      "                }\n",
      "            }\n",
      "        }\n",
      "    }\n",
      "]\n"
     ]
    }
   ],
   "source": [
    "# this took a little sleuthing...\n",
    "\n",
    "# Get the titles of the datasets\n",
    "dataset_list = datasets_json[\"dataset\"]\n",
    "\n",
    "# title: Current Population Survey Annual Social and Economic Supplement\n",
    "# c_vintage: 2021\n",
    "# id: https://api.census.gov/data/id/CPSASEC2021\n",
    "\n",
    "cpd_asec_mar = [d for d in dataset_list if d[\"identifier\"] == \"https://api.census.gov/data/id/CPSASEC2021\"]\n",
    "print(json.dumps(cpd_asec_mar, indent=4)) # long output"
   ]
  },
  {
   "cell_type": "code",
   "execution_count": 74,
   "metadata": {
    "scrolled": false
   },
   "outputs": [
    {
     "name": "stdout",
     "output_type": "stream",
     "text": [
      "ACTC_CRD : additional chld tax credit\n",
      "AGE1 : Demographics, Age recode, persons 15+ years\n",
      "AGI : Federal adjusted gross income\n",
      "ANN_VAL : Retirement income, annuities amount\n",
      "ANN_YN : Retirement income, annuities, y/n\n",
      "AXAGE : Allocation flag for A_AGE\n",
      "AXCLSWKR : Allocation flag for A_CLSWKR\n",
      "AXENRLW : Allocation flag for A_ENRLW\n",
      "AXFTPT : Allocation flag for A_FTPT\n",
      "AXHGA : Allocation flag for A_HGA\n"
     ]
    }
   ],
   "source": [
    "# Get info on variables\n",
    "\n",
    "dataset_vars_url = cpd_asec_mar[0][\"c_variablesLink\"]\n",
    "dataset_vars_request = requests.get(dataset_vars_url)\n",
    "datasets_vars_json = dataset_vars_request.json()\n",
    "# print(json.dumps(datasets_vars_json, indent=4)) # long output - many variables\n",
    "# just print the variable and the label\n",
    "dataset_vars = datasets_vars_json[\"variables\"]\n",
    "# sort variable names\n",
    "sorted_vars = sorted(dataset_vars.keys())\n",
    "for k in sorted_vars[:10]:\n",
    "    var_info = dataset_vars[k]\n",
    "    print(k, \":\", var_info[\"label\"])"
   ]
  },
  {
   "cell_type": "code",
   "execution_count": 75,
   "metadata": {},
   "outputs": [],
   "source": [
    "# Maybe create dictionaries of vars:defs\n",
    "# populate via iteration\n",
    "\n",
    "var = \"NOW_COV\"\n",
    "var_def_url = endpoint + \"/variables/\" + var"
   ]
  },
  {
   "cell_type": "code",
   "execution_count": 76,
   "metadata": {},
   "outputs": [],
   "source": [
    "var_def_request = requests.get(var_def_url)"
   ]
  },
  {
   "cell_type": "code",
   "execution_count": 77,
   "metadata": {},
   "outputs": [],
   "source": [
    "var_json = var_def_request.json()"
   ]
  },
  {
   "cell_type": "code",
   "execution_count": 78,
   "metadata": {
    "scrolled": true
   },
   "outputs": [
    {
     "name": "stdout",
     "output_type": "stream",
     "text": [
      "{\n",
      "    \"name\": \"NOW_COV\",\n",
      "    \"label\": \"Currently covered by health insurance coverage\",\n",
      "    \"predicateType\": \"int\",\n",
      "    \"group\": \"N/A\",\n",
      "    \"limit\": 0,\n",
      "    \"suggested-weight\": \"MARSUPWT\",\n",
      "    \"values\": {\n",
      "        \"item\": {\n",
      "            \"2\": \"No\",\n",
      "            \"1\": \"Yes\"\n",
      "        }\n",
      "    }\n",
      "}\n"
     ]
    }
   ],
   "source": [
    "print(json.dumps(var_json, indent=4))"
   ]
  },
  {
   "cell_type": "code",
   "execution_count": 79,
   "metadata": {},
   "outputs": [],
   "source": [
    "'''\n",
    "Variables of interest\n",
    "\n",
    "A_HGA - educational attainment\n",
    "AGE1 - age\n",
    "AGI - federal adjusted gross income\n",
    "\n",
    "NM FIPS ID = 35\n",
    "'''\n",
    "\n",
    "vars_list = [\"A_HGA\", \"AGE1\", \"AGI\"]\n",
    "vars_dict = {}\n",
    "\n",
    "for v in vars_list:\n",
    "    var_def_url = endpoint + \"/variables/\" + v\n",
    "    var_def_request = requests.get(var_def_url)\n",
    "    var_json = var_def_request.json()\n",
    "    vars_dict[v] = var_json"
   ]
  },
  {
   "cell_type": "code",
   "execution_count": 80,
   "metadata": {},
   "outputs": [
    {
     "data": {
      "text/plain": [
       "{'A_HGA': {'name': 'A_HGA',\n",
       "  'label': 'Demographics, Educational attainment',\n",
       "  'predicateType': 'int',\n",
       "  'group': 'N/A',\n",
       "  'limit': 0,\n",
       "  'suggested-weight': 'MARSUPWT',\n",
       "  'values': {'item': {'35': '9th Grade',\n",
       "    '41': 'Assc degree-occupation/vocation',\n",
       "    '0': 'Children',\n",
       "    '31': 'Less Than 1st Grade',\n",
       "    '44': \"Master's degree (MA,MS,MENG,MED,MSW,MBA)\",\n",
       "    '43': \"Bachelor's degree (BA,AB,BS)\",\n",
       "    '34': '7th and 8th grade',\n",
       "    '38': '12th Grade No Diploma',\n",
       "    '37': '11th Grade',\n",
       "    '33': '5th Or 6th Grade',\n",
       "    '45': 'Professional school degree (MD,DDS,DVM,L',\n",
       "    '39': 'High school graduate-high school diploma',\n",
       "    '32': '1st,2nd,3rd,or 4th grade',\n",
       "    '40': 'Some College But No Degree',\n",
       "    '46': 'Doctorate degree (PHD,EDD)',\n",
       "    '36': '10th Grade',\n",
       "    '42': 'Assc degree-academic program'}}},\n",
       " 'AGE1': {'name': 'AGE1',\n",
       "  'label': 'Demographics, Age recode, persons 15+ years',\n",
       "  'predicateType': 'int',\n",
       "  'group': 'N/A',\n",
       "  'limit': 0,\n",
       "  'suggested-weight': 'MARSUPWT',\n",
       "  'values': {'item': {'9': '40 to 44 years',\n",
       "    '6': '25 to 29 years',\n",
       "    '5': '22 to 24 years',\n",
       "    '4': '20 and 21 years',\n",
       "    '8': '35 to 39 years',\n",
       "    '10': '45 to 49 years',\n",
       "    '2': '16 and 17 years',\n",
       "    '11': '50 to 54 years',\n",
       "    '7': '30 to 34 years',\n",
       "    '3': '18 and 19 years',\n",
       "    '16': '70 to 74 years',\n",
       "    '1': '15 years',\n",
       "    '0': 'Not In Universe',\n",
       "    '13': '60 to 61 years',\n",
       "    '12': '55 to 59 years',\n",
       "    '14': '62 to 64 years',\n",
       "    '15': '65 to 69 years',\n",
       "    '17': '75 years and over'}}},\n",
       " 'AGI': {'name': 'AGI',\n",
       "  'label': 'Federal adjusted gross income',\n",
       "  'predicateType': 'int',\n",
       "  'group': 'N/A',\n",
       "  'limit': 0,\n",
       "  'suggested-weight': 'MARSUPWT',\n",
       "  'values': {'range': [{'min': '-999999',\n",
       "     'max': '9999999',\n",
       "     'description': 'Range'}]}}}"
      ]
     },
     "execution_count": 80,
     "metadata": {},
     "output_type": "execute_result"
    }
   ],
   "source": [
    "vars_dict"
   ]
  },
  {
   "cell_type": "code",
   "execution_count": 13,
   "metadata": {},
   "outputs": [
    {
     "name": "stdout",
     "output_type": "stream",
     "text": [
      "A_HGA,AGE1,AGI\n"
     ]
    }
   ],
   "source": [
    "# API expects vars to be comma separated, no spaces\n",
    "\n",
    "vars_query = ','.join(str(v) for v in vars_list)\n",
    "print(vars_query)"
   ]
  },
  {
   "cell_type": "code",
   "execution_count": 14,
   "metadata": {},
   "outputs": [],
   "source": [
    "# request non-tabulated data\n",
    "# URL format: \"https://api.census.gov/data/2021/cps/asec/mar?get=NOW_COV,MARSUPWT,A_MARITL&for=state:35\"\n",
    "\n",
    "# We can parameterize the state but for now we will hard code all and NM (35)\n",
    "api_request_url = endpoint + \"?get=\" + vars_query + \"&for=state:*&key=\" + key\n",
    "api_request = requests.get(api_request_url)\n",
    "api_json = api_request.json()"
   ]
  },
  {
   "cell_type": "code",
   "execution_count": 15,
   "metadata": {},
   "outputs": [
    {
     "data": {
      "text/plain": [
       "list"
      ]
     },
     "execution_count": 15,
     "metadata": {},
     "output_type": "execute_result"
    }
   ],
   "source": [
    "type(api_json) # results seem to generally be lists, but check in case a dictionary is returned"
   ]
  },
  {
   "cell_type": "code",
   "execution_count": 16,
   "metadata": {},
   "outputs": [],
   "source": [
    "census_df = pd.read_json(json.dumps(api_json), typ = \"frame\", orient = \"values\")"
   ]
  },
  {
   "cell_type": "code",
   "execution_count": 17,
   "metadata": {},
   "outputs": [
    {
     "data": {
      "text/html": [
       "<div>\n",
       "<style scoped>\n",
       "    .dataframe tbody tr th:only-of-type {\n",
       "        vertical-align: middle;\n",
       "    }\n",
       "\n",
       "    .dataframe tbody tr th {\n",
       "        vertical-align: top;\n",
       "    }\n",
       "\n",
       "    .dataframe thead th {\n",
       "        text-align: right;\n",
       "    }\n",
       "</style>\n",
       "<table border=\"1\" class=\"dataframe\">\n",
       "  <thead>\n",
       "    <tr style=\"text-align: right;\">\n",
       "      <th></th>\n",
       "      <th>0</th>\n",
       "      <th>1</th>\n",
       "      <th>2</th>\n",
       "      <th>3</th>\n",
       "    </tr>\n",
       "  </thead>\n",
       "  <tbody>\n",
       "    <tr>\n",
       "      <th>0</th>\n",
       "      <td>A_HGA</td>\n",
       "      <td>AGE1</td>\n",
       "      <td>AGI</td>\n",
       "      <td>state</td>\n",
       "    </tr>\n",
       "    <tr>\n",
       "      <th>1</th>\n",
       "      <td>39</td>\n",
       "      <td>12</td>\n",
       "      <td>10000</td>\n",
       "      <td>23</td>\n",
       "    </tr>\n",
       "    <tr>\n",
       "      <th>2</th>\n",
       "      <td>39</td>\n",
       "      <td>12</td>\n",
       "      <td>0</td>\n",
       "      <td>23</td>\n",
       "    </tr>\n",
       "    <tr>\n",
       "      <th>3</th>\n",
       "      <td>39</td>\n",
       "      <td>17</td>\n",
       "      <td>0</td>\n",
       "      <td>23</td>\n",
       "    </tr>\n",
       "    <tr>\n",
       "      <th>4</th>\n",
       "      <td>43</td>\n",
       "      <td>15</td>\n",
       "      <td>80819</td>\n",
       "      <td>23</td>\n",
       "    </tr>\n",
       "  </tbody>\n",
       "</table>\n",
       "</div>"
      ],
      "text/plain": [
       "       0     1      2      3\n",
       "0  A_HGA  AGE1    AGI  state\n",
       "1     39    12  10000     23\n",
       "2     39    12      0     23\n",
       "3     39    17      0     23\n",
       "4     43    15  80819     23"
      ]
     },
     "execution_count": 17,
     "metadata": {},
     "output_type": "execute_result"
    }
   ],
   "source": [
    "census_df.head()"
   ]
  },
  {
   "cell_type": "code",
   "execution_count": 18,
   "metadata": {},
   "outputs": [],
   "source": [
    "census_df.columns = census_df.iloc[0]"
   ]
  },
  {
   "cell_type": "code",
   "execution_count": 19,
   "metadata": {},
   "outputs": [
    {
     "data": {
      "text/html": [
       "<div>\n",
       "<style scoped>\n",
       "    .dataframe tbody tr th:only-of-type {\n",
       "        vertical-align: middle;\n",
       "    }\n",
       "\n",
       "    .dataframe tbody tr th {\n",
       "        vertical-align: top;\n",
       "    }\n",
       "\n",
       "    .dataframe thead th {\n",
       "        text-align: right;\n",
       "    }\n",
       "</style>\n",
       "<table border=\"1\" class=\"dataframe\">\n",
       "  <thead>\n",
       "    <tr style=\"text-align: right;\">\n",
       "      <th></th>\n",
       "      <th>A_HGA</th>\n",
       "      <th>AGE1</th>\n",
       "      <th>AGI</th>\n",
       "      <th>state</th>\n",
       "    </tr>\n",
       "  </thead>\n",
       "  <tbody>\n",
       "    <tr>\n",
       "      <th>0</th>\n",
       "      <td>A_HGA</td>\n",
       "      <td>AGE1</td>\n",
       "      <td>AGI</td>\n",
       "      <td>state</td>\n",
       "    </tr>\n",
       "    <tr>\n",
       "      <th>1</th>\n",
       "      <td>39</td>\n",
       "      <td>12</td>\n",
       "      <td>10000</td>\n",
       "      <td>23</td>\n",
       "    </tr>\n",
       "    <tr>\n",
       "      <th>2</th>\n",
       "      <td>39</td>\n",
       "      <td>12</td>\n",
       "      <td>0</td>\n",
       "      <td>23</td>\n",
       "    </tr>\n",
       "    <tr>\n",
       "      <th>3</th>\n",
       "      <td>39</td>\n",
       "      <td>17</td>\n",
       "      <td>0</td>\n",
       "      <td>23</td>\n",
       "    </tr>\n",
       "    <tr>\n",
       "      <th>4</th>\n",
       "      <td>43</td>\n",
       "      <td>15</td>\n",
       "      <td>80819</td>\n",
       "      <td>23</td>\n",
       "    </tr>\n",
       "  </tbody>\n",
       "</table>\n",
       "</div>"
      ],
      "text/plain": [
       "0  A_HGA  AGE1    AGI  state\n",
       "0  A_HGA  AGE1    AGI  state\n",
       "1     39    12  10000     23\n",
       "2     39    12      0     23\n",
       "3     39    17      0     23\n",
       "4     43    15  80819     23"
      ]
     },
     "execution_count": 19,
     "metadata": {},
     "output_type": "execute_result"
    }
   ],
   "source": [
    "census_df.head()"
   ]
  },
  {
   "cell_type": "code",
   "execution_count": 20,
   "metadata": {},
   "outputs": [],
   "source": [
    "census_df = census_df.drop(census_df.index[0])"
   ]
  },
  {
   "cell_type": "code",
   "execution_count": 21,
   "metadata": {},
   "outputs": [
    {
     "data": {
      "text/html": [
       "<div>\n",
       "<style scoped>\n",
       "    .dataframe tbody tr th:only-of-type {\n",
       "        vertical-align: middle;\n",
       "    }\n",
       "\n",
       "    .dataframe tbody tr th {\n",
       "        vertical-align: top;\n",
       "    }\n",
       "\n",
       "    .dataframe thead th {\n",
       "        text-align: right;\n",
       "    }\n",
       "</style>\n",
       "<table border=\"1\" class=\"dataframe\">\n",
       "  <thead>\n",
       "    <tr style=\"text-align: right;\">\n",
       "      <th></th>\n",
       "      <th>A_HGA</th>\n",
       "      <th>AGE1</th>\n",
       "      <th>AGI</th>\n",
       "      <th>state</th>\n",
       "    </tr>\n",
       "  </thead>\n",
       "  <tbody>\n",
       "    <tr>\n",
       "      <th>1</th>\n",
       "      <td>39</td>\n",
       "      <td>12</td>\n",
       "      <td>10000</td>\n",
       "      <td>23</td>\n",
       "    </tr>\n",
       "    <tr>\n",
       "      <th>2</th>\n",
       "      <td>39</td>\n",
       "      <td>12</td>\n",
       "      <td>0</td>\n",
       "      <td>23</td>\n",
       "    </tr>\n",
       "    <tr>\n",
       "      <th>3</th>\n",
       "      <td>39</td>\n",
       "      <td>17</td>\n",
       "      <td>0</td>\n",
       "      <td>23</td>\n",
       "    </tr>\n",
       "    <tr>\n",
       "      <th>4</th>\n",
       "      <td>43</td>\n",
       "      <td>15</td>\n",
       "      <td>80819</td>\n",
       "      <td>23</td>\n",
       "    </tr>\n",
       "    <tr>\n",
       "      <th>5</th>\n",
       "      <td>39</td>\n",
       "      <td>15</td>\n",
       "      <td>0</td>\n",
       "      <td>23</td>\n",
       "    </tr>\n",
       "  </tbody>\n",
       "</table>\n",
       "</div>"
      ],
      "text/plain": [
       "0 A_HGA AGE1    AGI state\n",
       "1    39   12  10000    23\n",
       "2    39   12      0    23\n",
       "3    39   17      0    23\n",
       "4    43   15  80819    23\n",
       "5    39   15      0    23"
      ]
     },
     "execution_count": 21,
     "metadata": {},
     "output_type": "execute_result"
    }
   ],
   "source": [
    "census_df.head()"
   ]
  },
  {
   "cell_type": "code",
   "execution_count": 22,
   "metadata": {},
   "outputs": [
    {
     "name": "stdout",
     "output_type": "stream",
     "text": [
      "<class 'pandas.core.frame.DataFrame'>\n",
      "Int64Index: 163543 entries, 1 to 163543\n",
      "Data columns (total 4 columns):\n",
      " #   Column  Non-Null Count   Dtype \n",
      "---  ------  --------------   ----- \n",
      " 0   A_HGA   163543 non-null  object\n",
      " 1   AGE1    163543 non-null  object\n",
      " 2   AGI     163543 non-null  object\n",
      " 3   state   163543 non-null  object\n",
      "dtypes: object(4)\n",
      "memory usage: 6.2+ MB\n"
     ]
    }
   ],
   "source": [
    "census_df.info()"
   ]
  },
  {
   "cell_type": "code",
   "execution_count": 23,
   "metadata": {},
   "outputs": [],
   "source": [
    "# We can separately request data for just NM, or we can subset\n",
    "# recall that the FIPS code for NM is 35\n",
    "\n",
    "nm_census_data = census_df[census_df[\"state\"] == \"35\"].copy() # quotes around \"35\" b/c it is an object not an int"
   ]
  },
  {
   "cell_type": "code",
   "execution_count": 24,
   "metadata": {},
   "outputs": [
    {
     "name": "stdout",
     "output_type": "stream",
     "text": [
      "<class 'pandas.core.frame.DataFrame'>\n",
      "Int64Index: 2900 entries, 126038 to 128937\n",
      "Data columns (total 4 columns):\n",
      " #   Column  Non-Null Count  Dtype \n",
      "---  ------  --------------  ----- \n",
      " 0   A_HGA   2900 non-null   object\n",
      " 1   AGE1    2900 non-null   object\n",
      " 2   AGI     2900 non-null   object\n",
      " 3   state   2900 non-null   object\n",
      "dtypes: object(4)\n",
      "memory usage: 113.3+ KB\n"
     ]
    }
   ],
   "source": [
    "nm_census_data.info()"
   ]
  },
  {
   "cell_type": "code",
   "execution_count": 25,
   "metadata": {},
   "outputs": [],
   "source": [
    "# out of curiosity let's get the NM data via API\n",
    "# same as before with one different parameter\n",
    "\n",
    "api_request_url = endpoint + \"?get=\" + vars_query + \"&for=state:35&key=\" + key\n",
    "api_request = requests.get(api_request_url)\n",
    "api_json = api_request.json()\n",
    "\n",
    "nm_census_df = pd.read_json(json.dumps(api_json), typ = \"frame\", orient = \"values\")\n",
    "nm_census_df.columns = nm_census_df.iloc[0]\n",
    "nm_census_df = nm_census_df.drop(nm_census_df.index[0])"
   ]
  },
  {
   "cell_type": "code",
   "execution_count": 26,
   "metadata": {},
   "outputs": [
    {
     "name": "stdout",
     "output_type": "stream",
     "text": [
      "<class 'pandas.core.frame.DataFrame'>\n",
      "Int64Index: 2900 entries, 1 to 2900\n",
      "Data columns (total 4 columns):\n",
      " #   Column  Non-Null Count  Dtype \n",
      "---  ------  --------------  ----- \n",
      " 0   A_HGA   2900 non-null   object\n",
      " 1   AGE1    2900 non-null   object\n",
      " 2   AGI     2900 non-null   object\n",
      " 3   state   2900 non-null   object\n",
      "dtypes: object(4)\n",
      "memory usage: 113.3+ KB\n"
     ]
    }
   ],
   "source": [
    "nm_census_df.info() # the data have the same number of rows"
   ]
  },
  {
   "cell_type": "code",
   "execution_count": 27,
   "metadata": {},
   "outputs": [],
   "source": [
    "# Let's make a function to get the data and convert to data frame\n",
    "# \"https://api.census.gov/data/2021/cps/asec/mar?tabulate=weight(MARSUPWT)&col+NOW_COV&row+A_MARITL&for=state:35&A_HGA=39\"\n",
    "def get_census_data(endpoint_url, vars_list, key, state = \"*\"):\n",
    "    # First, convert vars_list to string\n",
    "    vars_query = ','.join(str(v) for v in vars_list)\n",
    "    \n",
    "    # Build the request URL\n",
    "    api_request_url = endpoint_url + \"?get=\" + vars_query + \"&for=state:\" + state + \"&key=\" + key\n",
    "    \n",
    "    # Request the data\n",
    "    api_request = requests.get(api_request_url)\n",
    "    api_json = api_request.json()\n",
    "    \n",
    "    # Convert returned JSON to dataframe\n",
    "    df = pd.read_json(json.dumps(api_json), typ = \"frame\", orient = \"values\")\n",
    "    \n",
    "    # Use first row values for col headers\n",
    "    df.columns = df.iloc[0]\n",
    "    \n",
    "    # Drop first row, which is still header info\n",
    "    df = df.drop(df.index[0])\n",
    "    \n",
    "    return df\n",
    "\n",
    "# While we're at it, create a function to get var defs\n",
    "# No key needed\n",
    "def get_census_vars(vars_list):\n",
    "    vars_dict = {}\n",
    "    for v in vars_list:\n",
    "        var_def_url = endpoint + \"/variables/\" + v\n",
    "        var_def_request = requests.get(var_def_url)\n",
    "        var_json = var_def_request.json()\n",
    "        vars_dict[v] = var_json\n",
    "    return vars_dict"
   ]
  },
  {
   "cell_type": "code",
   "execution_count": 28,
   "metadata": {},
   "outputs": [],
   "source": [
    "# Now we can make ad hoc requests\n",
    "# but we will redo our initial request\n",
    "\n",
    "vars_list = [\"A_HGA\", \"AGE1\", \"AGI\"]\n",
    "var_info = get_census_vars(vars_list)\n",
    "census_data = get_census_data(endpoint, vars_list, key) # use default * for all state data"
   ]
  },
  {
   "cell_type": "code",
   "execution_count": 29,
   "metadata": {},
   "outputs": [
    {
     "name": "stdout",
     "output_type": "stream",
     "text": [
      "<class 'pandas.core.frame.DataFrame'>\n",
      "Int64Index: 163543 entries, 1 to 163543\n",
      "Data columns (total 4 columns):\n",
      " #   Column  Non-Null Count   Dtype \n",
      "---  ------  --------------   ----- \n",
      " 0   A_HGA   163543 non-null  object\n",
      " 1   AGE1    163543 non-null  object\n",
      " 2   AGI     163543 non-null  object\n",
      " 3   state   163543 non-null  object\n",
      "dtypes: object(4)\n",
      "memory usage: 6.2+ MB\n"
     ]
    }
   ],
   "source": [
    "census_data.info()"
   ]
  },
  {
   "cell_type": "code",
   "execution_count": 30,
   "metadata": {},
   "outputs": [],
   "source": [
    "# try again with just NM\n",
    "# census_data = get_census_data(endpoint, vars_list, key, state = \"35\") # NM\n",
    "# census_data.info()"
   ]
  },
  {
   "cell_type": "code",
   "execution_count": 31,
   "metadata": {},
   "outputs": [
    {
     "data": {
      "text/plain": [
       "{'A_HGA': {'name': 'A_HGA',\n",
       "  'label': 'Demographics, Educational attainment',\n",
       "  'predicateType': 'int',\n",
       "  'group': 'N/A',\n",
       "  'limit': 0,\n",
       "  'suggested-weight': 'MARSUPWT',\n",
       "  'values': {'item': {'35': '9th Grade',\n",
       "    '41': 'Assc degree-occupation/vocation',\n",
       "    '0': 'Children',\n",
       "    '31': 'Less Than 1st Grade',\n",
       "    '44': \"Master's degree (MA,MS,MENG,MED,MSW,MBA)\",\n",
       "    '43': \"Bachelor's degree (BA,AB,BS)\",\n",
       "    '34': '7th and 8th grade',\n",
       "    '38': '12th Grade No Diploma',\n",
       "    '37': '11th Grade',\n",
       "    '33': '5th Or 6th Grade',\n",
       "    '45': 'Professional school degree (MD,DDS,DVM,L',\n",
       "    '39': 'High school graduate-high school diploma',\n",
       "    '32': '1st,2nd,3rd,or 4th grade',\n",
       "    '40': 'Some College But No Degree',\n",
       "    '46': 'Doctorate degree (PHD,EDD)',\n",
       "    '36': '10th Grade',\n",
       "    '42': 'Assc degree-academic program'}}},\n",
       " 'AGE1': {'name': 'AGE1',\n",
       "  'label': 'Demographics, Age recode, persons 15+ years',\n",
       "  'predicateType': 'int',\n",
       "  'group': 'N/A',\n",
       "  'limit': 0,\n",
       "  'suggested-weight': 'MARSUPWT',\n",
       "  'values': {'item': {'9': '40 to 44 years',\n",
       "    '6': '25 to 29 years',\n",
       "    '5': '22 to 24 years',\n",
       "    '4': '20 and 21 years',\n",
       "    '8': '35 to 39 years',\n",
       "    '10': '45 to 49 years',\n",
       "    '2': '16 and 17 years',\n",
       "    '11': '50 to 54 years',\n",
       "    '7': '30 to 34 years',\n",
       "    '3': '18 and 19 years',\n",
       "    '16': '70 to 74 years',\n",
       "    '1': '15 years',\n",
       "    '0': 'Not In Universe',\n",
       "    '13': '60 to 61 years',\n",
       "    '12': '55 to 59 years',\n",
       "    '14': '62 to 64 years',\n",
       "    '15': '65 to 69 years',\n",
       "    '17': '75 years and over'}}},\n",
       " 'AGI': {'name': 'AGI',\n",
       "  'label': 'Federal adjusted gross income',\n",
       "  'predicateType': 'int',\n",
       "  'group': 'N/A',\n",
       "  'limit': 0,\n",
       "  'suggested-weight': 'MARSUPWT',\n",
       "  'values': {'range': [{'min': '-999999',\n",
       "     'max': '9999999',\n",
       "     'description': 'Range'}]}}}"
      ]
     },
     "execution_count": 31,
     "metadata": {},
     "output_type": "execute_result"
    }
   ],
   "source": [
    "# Things work - let's see about reproducing stats from the press release\n",
    "# Right now we have age and education attainment (and income) for 2021\n",
    "\n",
    "'''\n",
    "In 2021, the highest level of education of the population age 25 and older in the United States \n",
    "was distributed as follows: \n",
    "\n",
    "    8.9% had less than a high school diploma or equivalent.\n",
    "    27.9% had high school graduate as their highest level of school completed. \n",
    "    14.9% had completed some college but not a degree.\n",
    "    10.5% had an associate degree as their highest level of school completed.\n",
    "    23.5% had a bachelor’s degree as their highest degree.\n",
    "    14.4% had completed an advanced degree such as a master’s degree, professional degree or doctoral degree. \n",
    "'''\n",
    "\n",
    "var_info"
   ]
  },
  {
   "cell_type": "code",
   "execution_count": 32,
   "metadata": {},
   "outputs": [
    {
     "name": "stdout",
     "output_type": "stream",
     "text": [
      "<class 'pandas.core.frame.DataFrame'>\n",
      "Int64Index: 163543 entries, 1 to 163543\n",
      "Data columns (total 4 columns):\n",
      " #   Column  Non-Null Count   Dtype\n",
      "---  ------  --------------   -----\n",
      " 0   A_HGA   163543 non-null  int32\n",
      " 1   AGE1    163543 non-null  int32\n",
      " 2   AGI     163543 non-null  int32\n",
      " 3   state   163543 non-null  int32\n",
      "dtypes: int32(4)\n",
      "memory usage: 3.7 MB\n",
      "<class 'pandas.core.frame.DataFrame'>\n",
      "Int64Index: 108998 entries, 1 to 163543\n",
      "Data columns (total 4 columns):\n",
      " #   Column  Non-Null Count   Dtype\n",
      "---  ------  --------------   -----\n",
      " 0   A_HGA   108998 non-null  int32\n",
      " 1   AGE1    108998 non-null  int32\n",
      " 2   AGI     108998 non-null  int32\n",
      " 3   state   108998 non-null  int32\n",
      "dtypes: int32(4)\n",
      "memory usage: 2.5 MB\n"
     ]
    }
   ],
   "source": [
    "# First subset to AGE1 values >= 6 (25 and older)\n",
    "\n",
    "# convert cols to int\n",
    "census_data = census_data.astype(int)\n",
    "census_data.info()\n",
    "age_gte25 = census_data[census_data[\"AGE1\"] >= 6].copy()\n",
    "age_gte25.info()"
   ]
  },
  {
   "cell_type": "code",
   "execution_count": 33,
   "metadata": {},
   "outputs": [
    {
     "data": {
      "text/html": [
       "<div>\n",
       "<style scoped>\n",
       "    .dataframe tbody tr th:only-of-type {\n",
       "        vertical-align: middle;\n",
       "    }\n",
       "\n",
       "    .dataframe tbody tr th {\n",
       "        vertical-align: top;\n",
       "    }\n",
       "\n",
       "    .dataframe thead th {\n",
       "        text-align: right;\n",
       "    }\n",
       "</style>\n",
       "<table border=\"1\" class=\"dataframe\">\n",
       "  <thead>\n",
       "    <tr style=\"text-align: right;\">\n",
       "      <th></th>\n",
       "      <th>A_HGA</th>\n",
       "      <th>AGE1</th>\n",
       "      <th>AGI</th>\n",
       "      <th>state</th>\n",
       "    </tr>\n",
       "  </thead>\n",
       "  <tbody>\n",
       "    <tr>\n",
       "      <th>1</th>\n",
       "      <td>39</td>\n",
       "      <td>12</td>\n",
       "      <td>10000</td>\n",
       "      <td>23</td>\n",
       "    </tr>\n",
       "    <tr>\n",
       "      <th>2</th>\n",
       "      <td>39</td>\n",
       "      <td>12</td>\n",
       "      <td>0</td>\n",
       "      <td>23</td>\n",
       "    </tr>\n",
       "    <tr>\n",
       "      <th>3</th>\n",
       "      <td>39</td>\n",
       "      <td>17</td>\n",
       "      <td>0</td>\n",
       "      <td>23</td>\n",
       "    </tr>\n",
       "    <tr>\n",
       "      <th>4</th>\n",
       "      <td>43</td>\n",
       "      <td>15</td>\n",
       "      <td>80819</td>\n",
       "      <td>23</td>\n",
       "    </tr>\n",
       "    <tr>\n",
       "      <th>5</th>\n",
       "      <td>39</td>\n",
       "      <td>15</td>\n",
       "      <td>0</td>\n",
       "      <td>23</td>\n",
       "    </tr>\n",
       "  </tbody>\n",
       "</table>\n",
       "</div>"
      ],
      "text/plain": [
       "0  A_HGA  AGE1    AGI  state\n",
       "1     39    12  10000     23\n",
       "2     39    12      0     23\n",
       "3     39    17      0     23\n",
       "4     43    15  80819     23\n",
       "5     39    15      0     23"
      ]
     },
     "execution_count": 33,
     "metadata": {},
     "output_type": "execute_result"
    }
   ],
   "source": [
    "age_gte25.head()"
   ]
  },
  {
   "cell_type": "code",
   "execution_count": 34,
   "metadata": {
    "collapsed": true
   },
   "outputs": [
    {
     "data": {
      "text/plain": [
       "{'A_HGA': {'name': 'A_HGA',\n",
       "  'label': 'Demographics, Educational attainment',\n",
       "  'predicateType': 'int',\n",
       "  'group': 'N/A',\n",
       "  'limit': 0,\n",
       "  'suggested-weight': 'MARSUPWT',\n",
       "  'values': {'item': {'35': '9th Grade',\n",
       "    '41': 'Assc degree-occupation/vocation',\n",
       "    '0': 'Children',\n",
       "    '31': 'Less Than 1st Grade',\n",
       "    '44': \"Master's degree (MA,MS,MENG,MED,MSW,MBA)\",\n",
       "    '43': \"Bachelor's degree (BA,AB,BS)\",\n",
       "    '34': '7th and 8th grade',\n",
       "    '38': '12th Grade No Diploma',\n",
       "    '37': '11th Grade',\n",
       "    '33': '5th Or 6th Grade',\n",
       "    '45': 'Professional school degree (MD,DDS,DVM,L',\n",
       "    '39': 'High school graduate-high school diploma',\n",
       "    '32': '1st,2nd,3rd,or 4th grade',\n",
       "    '40': 'Some College But No Degree',\n",
       "    '46': 'Doctorate degree (PHD,EDD)',\n",
       "    '36': '10th Grade',\n",
       "    '42': 'Assc degree-academic program'}}},\n",
       " 'AGE1': {'name': 'AGE1',\n",
       "  'label': 'Demographics, Age recode, persons 15+ years',\n",
       "  'predicateType': 'int',\n",
       "  'group': 'N/A',\n",
       "  'limit': 0,\n",
       "  'suggested-weight': 'MARSUPWT',\n",
       "  'values': {'item': {'9': '40 to 44 years',\n",
       "    '6': '25 to 29 years',\n",
       "    '5': '22 to 24 years',\n",
       "    '4': '20 and 21 years',\n",
       "    '8': '35 to 39 years',\n",
       "    '10': '45 to 49 years',\n",
       "    '2': '16 and 17 years',\n",
       "    '11': '50 to 54 years',\n",
       "    '7': '30 to 34 years',\n",
       "    '3': '18 and 19 years',\n",
       "    '16': '70 to 74 years',\n",
       "    '1': '15 years',\n",
       "    '0': 'Not In Universe',\n",
       "    '13': '60 to 61 years',\n",
       "    '12': '55 to 59 years',\n",
       "    '14': '62 to 64 years',\n",
       "    '15': '65 to 69 years',\n",
       "    '17': '75 years and over'}}},\n",
       " 'AGI': {'name': 'AGI',\n",
       "  'label': 'Federal adjusted gross income',\n",
       "  'predicateType': 'int',\n",
       "  'group': 'N/A',\n",
       "  'limit': 0,\n",
       "  'suggested-weight': 'MARSUPWT',\n",
       "  'values': {'range': [{'min': '-999999',\n",
       "     'max': '9999999',\n",
       "     'description': 'Range'}]}}}"
      ]
     },
     "execution_count": 34,
     "metadata": {},
     "output_type": "execute_result"
    }
   ],
   "source": [
    "var_info"
   ]
  },
  {
   "cell_type": "code",
   "execution_count": 35,
   "metadata": {},
   "outputs": [],
   "source": [
    "# convert A_HGA, AGE1, and state to categories\n",
    "age_gte25.A_HGA = age_gte25.A_HGA.astype(\"category\")\n",
    "age_gte25.AGE1 = age_gte25.AGE1.astype(\"category\")\n",
    "age_gte25.state = age_gte25.state.astype(\"category\")"
   ]
  },
  {
   "cell_type": "code",
   "execution_count": 36,
   "metadata": {},
   "outputs": [
    {
     "name": "stdout",
     "output_type": "stream",
     "text": [
      "<class 'pandas.core.frame.DataFrame'>\n",
      "Int64Index: 108998 entries, 1 to 163543\n",
      "Data columns (total 4 columns):\n",
      " #   Column  Non-Null Count   Dtype   \n",
      "---  ------  --------------   -----   \n",
      " 0   A_HGA   108998 non-null  category\n",
      " 1   AGE1    108998 non-null  category\n",
      " 2   AGI     108998 non-null  int32   \n",
      " 3   state   108998 non-null  category\n",
      "dtypes: category(3), int32(1)\n",
      "memory usage: 1.6 MB\n"
     ]
    }
   ],
   "source": [
    "age_gte25.info()"
   ]
  },
  {
   "cell_type": "code",
   "execution_count": 37,
   "metadata": {},
   "outputs": [
    {
     "data": {
      "text/plain": [
       "numpy.int64"
      ]
     },
     "execution_count": 37,
     "metadata": {},
     "output_type": "execute_result"
    }
   ],
   "source": [
    "type(age_gte25.iloc[0, 0])"
   ]
  },
  {
   "cell_type": "code",
   "execution_count": 38,
   "metadata": {},
   "outputs": [
    {
     "data": {
      "text/plain": [
       "39"
      ]
     },
     "execution_count": 38,
     "metadata": {},
     "output_type": "execute_result"
    }
   ],
   "source": [
    "age_gte25.iloc[0, 0]"
   ]
  },
  {
   "cell_type": "code",
   "execution_count": 39,
   "metadata": {},
   "outputs": [],
   "source": [
    "# so cols are categories but cell values are still int (?)\n",
    "\n",
    "# Educational attainment: <= 38 less than HS diploma or eq\n",
    "# 39 == HS diploma, 40 == some college ND, 41 & 42 == assoc Deg, 43 == Bachelor's, \n",
    "# 44 & 45 Masters or professional degree, 46 == doctorate\n",
    "\n",
    "# there is probably a faster way to do this\n",
    "ed_groups = age_gte25.groupby(\"A_HGA\")"
   ]
  },
  {
   "cell_type": "code",
   "execution_count": 40,
   "metadata": {},
   "outputs": [],
   "source": [
    "#ed_groups.groups"
   ]
  },
  {
   "cell_type": "code",
   "execution_count": 41,
   "metadata": {},
   "outputs": [],
   "source": [
    "# 27.9% HS grads per press release\n",
    "hs_grads = ed_groups.get_group(39)"
   ]
  },
  {
   "cell_type": "code",
   "execution_count": 42,
   "metadata": {},
   "outputs": [
    {
     "data": {
      "text/plain": [
       "30656"
      ]
     },
     "execution_count": 42,
     "metadata": {},
     "output_type": "execute_result"
    }
   ],
   "source": [
    "len(hs_grads)"
   ]
  },
  {
   "cell_type": "code",
   "execution_count": 43,
   "metadata": {},
   "outputs": [
    {
     "data": {
      "text/plain": [
       "28.1252867025083"
      ]
     },
     "execution_count": 43,
     "metadata": {},
     "output_type": "execute_result"
    }
   ],
   "source": [
    "(30656 / 108998) * 100"
   ]
  },
  {
   "cell_type": "code",
   "execution_count": 44,
   "metadata": {},
   "outputs": [],
   "source": [
    "# 14.9% had some college\n",
    "\n",
    "some_college_nd = ed_groups.get_group(40)"
   ]
  },
  {
   "cell_type": "code",
   "execution_count": 45,
   "metadata": {},
   "outputs": [
    {
     "data": {
      "text/plain": [
       "16369"
      ]
     },
     "execution_count": 45,
     "metadata": {},
     "output_type": "execute_result"
    }
   ],
   "source": [
    "len(some_college_nd)"
   ]
  },
  {
   "cell_type": "code",
   "execution_count": 46,
   "metadata": {},
   "outputs": [
    {
     "data": {
      "text/plain": [
       "15.017706746912788"
      ]
     },
     "execution_count": 46,
     "metadata": {},
     "output_type": "execute_result"
    }
   ],
   "source": [
    "(16369/108998) * 100"
   ]
  },
  {
   "cell_type": "code",
   "execution_count": 47,
   "metadata": {},
   "outputs": [],
   "source": [
    "# 31-38 for no HS\n",
    "# 8.9% report less than HS diploma or eq\n",
    "\n",
    "no_diploma = 0\n",
    "for i in range(31, 39):\n",
    "    g = ed_groups.get_group(i)\n",
    "    no_diploma += len(g)"
   ]
  },
  {
   "cell_type": "code",
   "execution_count": 48,
   "metadata": {},
   "outputs": [
    {
     "data": {
      "text/plain": [
       "10289"
      ]
     },
     "execution_count": 48,
     "metadata": {},
     "output_type": "execute_result"
    }
   ],
   "source": [
    "no_diploma"
   ]
  },
  {
   "cell_type": "code",
   "execution_count": 49,
   "metadata": {},
   "outputs": [
    {
     "data": {
      "text/plain": [
       "9.439622745371475"
      ]
     },
     "execution_count": 49,
     "metadata": {},
     "output_type": "execute_result"
    }
   ],
   "source": [
    "(10289/108998) * 100"
   ]
  },
  {
   "cell_type": "code",
   "execution_count": 152,
   "metadata": {},
   "outputs": [],
   "source": [
    "# Values are different from press release - try weighted data\n",
    "\n",
    "census_wtd_url = \"https://api.census.gov/data/2021/cps/asec/mar?tabulate=weight(MARSUPWT)&col+A_HGA&row+AGE1&for=state:*\""
   ]
  },
  {
   "cell_type": "code",
   "execution_count": 153,
   "metadata": {},
   "outputs": [],
   "source": [
    "census_wtd_request = requests.get(census_wtd_url)"
   ]
  },
  {
   "cell_type": "code",
   "execution_count": 154,
   "metadata": {},
   "outputs": [],
   "source": [
    "census_wtd_json = census_wtd_request.json()"
   ]
  },
  {
   "cell_type": "code",
   "execution_count": 155,
   "metadata": {
    "collapsed": true
   },
   "outputs": [
    {
     "name": "stdout",
     "output_type": "stream",
     "text": [
      "[\n",
      "    [\n",
      "        {\n",
      "            \"A_HGA\": \"35\"\n",
      "        },\n",
      "        {\n",
      "            \"A_HGA\": \"41\"\n",
      "        },\n",
      "        {\n",
      "            \"A_HGA\": \"0\"\n",
      "        },\n",
      "        {\n",
      "            \"A_HGA\": \"31\"\n",
      "        },\n",
      "        {\n",
      "            \"A_HGA\": \"44\"\n",
      "        },\n",
      "        {\n",
      "            \"A_HGA\": \"43\"\n",
      "        },\n",
      "        {\n",
      "            \"A_HGA\": \"34\"\n",
      "        },\n",
      "        {\n",
      "            \"A_HGA\": \"38\"\n",
      "        },\n",
      "        {\n",
      "            \"A_HGA\": \"37\"\n",
      "        },\n",
      "        {\n",
      "            \"A_HGA\": \"33\"\n",
      "        },\n",
      "        {\n",
      "            \"A_HGA\": \"45\"\n",
      "        },\n",
      "        {\n",
      "            \"A_HGA\": \"39\"\n",
      "        },\n",
      "        {\n",
      "            \"A_HGA\": \"32\"\n",
      "        },\n",
      "        {\n",
      "            \"A_HGA\": \"40\"\n",
      "        },\n",
      "        {\n",
      "            \"A_HGA\": \"46\"\n",
      "        },\n",
      "        {\n",
      "            \"A_HGA\": \"36\"\n",
      "        },\n",
      "        {\n",
      "            \"A_HGA\": \"42\"\n",
      "        },\n",
      "        \"AGE1\"\n",
      "    ],\n",
      "    [\n",
      "        314869,\n",
      "        914820,\n",
      "        0,\n",
      "        34124,\n",
      "        2658149,\n",
      "        5036686,\n",
      "        298526,\n",
      "        283375,\n",
      "        282743,\n",
      "        307977,\n",
      "        394458,\n",
      "        5039375,\n",
      "        112508,\n",
      "        2743662,\n",
      "        468306,\n",
      "        269929,\n",
      "        1237130,\n",
      "        \"9\"\n",
      "    ],\n",
      "    [\n",
      "        186793,\n",
      "        903353,\n",
      "        0,\n",
      "        35343,\n",
      "        1752186,\n",
      "        6668554,\n",
      "        127343,\n",
      "        285213,\n",
      "        354979,\n",
      "        91872,\n",
      "        200201,\n",
      "        6304709,\n",
      "        23674,\n",
      "        3891482,\n",
      "        185560,\n",
      "        175782,\n",
      "        1405260,\n",
      "        \"6\"\n",
      "    ],\n",
      "    [\n",
      "        92577,\n",
      "        389627,\n",
      "        0,\n",
      "        15990,\n",
      "        211669,\n",
      "        3181597,\n",
      "        67912,\n",
      "        177681,\n",
      "        233548,\n",
      "        43131,\n",
      "        10135,\n",
      "        3721697,\n",
      "        11315,\n",
      "        3494541,\n",
      "        7623,\n",
      "        139139,\n",
      "        744376,\n",
      "        \"5\"\n",
      "    ],\n",
      "    [\n",
      "        51054,\n",
      "        171027,\n",
      "        0,\n",
      "        15589,\n",
      "        16770,\n",
      "        222168,\n",
      "        57125,\n",
      "        202790,\n",
      "        206899,\n",
      "        7866,\n",
      "        0,\n",
      "        2919202,\n",
      "        6153,\n",
      "        4163847,\n",
      "        0,\n",
      "        85361,\n",
      "        353451,\n",
      "        \"4\"\n",
      "    ],\n",
      "    [\n",
      "        310629,\n",
      "        876556,\n",
      "        0,\n",
      "        47813,\n",
      "        2714555,\n",
      "        5746319,\n",
      "        279523,\n",
      "        270560,\n",
      "        300046,\n",
      "        277076,\n",
      "        379479,\n",
      "        5002109,\n",
      "        99229,\n",
      "        3083392,\n",
      "        544623,\n",
      "        292238,\n",
      "        1383291,\n",
      "        \"8\"\n",
      "    ],\n",
      "    [\n",
      "        236174,\n",
      "        926925,\n",
      "        0,\n",
      "        70614,\n",
      "        2426865,\n",
      "        4735305,\n",
      "        264782,\n",
      "        195381,\n",
      "        265097,\n",
      "        302186,\n",
      "        343381,\n",
      "        4910132,\n",
      "        102854,\n",
      "        2618376,\n",
      "        490813,\n",
      "        254245,\n",
      "        1263333,\n",
      "        \"10\"\n",
      "    ],\n",
      "    [\n",
      "        1848048,\n",
      "        7409,\n",
      "        0,\n",
      "        18881,\n",
      "        3715,\n",
      "        38273,\n",
      "        227935,\n",
      "        437006,\n",
      "        2372533,\n",
      "        23064,\n",
      "        0,\n",
      "        270160,\n",
      "        19653,\n",
      "        110498,\n",
      "        1077,\n",
      "        3282559,\n",
      "        5421,\n",
      "        \"2\"\n",
      "    ],\n",
      "    [\n",
      "        288878,\n",
      "        887994,\n",
      "        0,\n",
      "        79748,\n",
      "        2348562,\n",
      "        4986696,\n",
      "        292745,\n",
      "        226746,\n",
      "        264511,\n",
      "        243927,\n",
      "        283845,\n",
      "        5508656,\n",
      "        124581,\n",
      "        2772182,\n",
      "        488343,\n",
      "        222810,\n",
      "        1253221,\n",
      "        \"11\"\n",
      "    ],\n",
      "    [\n",
      "        265218,\n",
      "        973138,\n",
      "        0,\n",
      "        34359,\n",
      "        2555902,\n",
      "        6368638,\n",
      "        192550,\n",
      "        279557,\n",
      "        354031,\n",
      "        162482,\n",
      "        311814,\n",
      "        5627420,\n",
      "        51778,\n",
      "        3437538,\n",
      "        454176,\n",
      "        230976,\n",
      "        1391684,\n",
      "        \"7\"\n",
      "    ],\n",
      "    [\n",
      "        92328,\n",
      "        40503,\n",
      "        0,\n",
      "        13448,\n",
      "        4965,\n",
      "        48576,\n",
      "        51529,\n",
      "        644884,\n",
      "        1782967,\n",
      "        10011,\n",
      "        0,\n",
      "        2553580,\n",
      "        5496,\n",
      "        2210180,\n",
      "        2563,\n",
      "        266806,\n",
      "        88093,\n",
      "        \"3\"\n",
      "    ],\n",
      "    [\n",
      "        198107,\n",
      "        698198,\n",
      "        0,\n",
      "        82122,\n",
      "        1645908,\n",
      "        2890380,\n",
      "        249640,\n",
      "        172100,\n",
      "        202719,\n",
      "        189243,\n",
      "        275325,\n",
      "        4205280,\n",
      "        118344,\n",
      "        2463509,\n",
      "        367121,\n",
      "        254220,\n",
      "        865869,\n",
      "        \"16\"\n",
      "    ],\n",
      "    [\n",
      "        1681838,\n",
      "        729,\n",
      "        0,\n",
      "        4907,\n",
      "        1979,\n",
      "        5403,\n",
      "        1588774,\n",
      "        18507,\n",
      "        89172,\n",
      "        16646,\n",
      "        0,\n",
      "        50480,\n",
      "        0,\n",
      "        34640,\n",
      "        0,\n",
      "        672541,\n",
      "        7567,\n",
      "        \"1\"\n",
      "    ],\n",
      "    [\n",
      "        0,\n",
      "        0,\n",
      "        59938081,\n",
      "        0,\n",
      "        0,\n",
      "        0,\n",
      "        0,\n",
      "        0,\n",
      "        0,\n",
      "        0,\n",
      "        0,\n",
      "        0,\n",
      "        0,\n",
      "        0,\n",
      "        0,\n",
      "        0,\n",
      "        0,\n",
      "        \"0\"\n",
      "    ],\n",
      "    [\n",
      "        86710,\n",
      "        455648,\n",
      "        0,\n",
      "        38175,\n",
      "        842147,\n",
      "        1739547,\n",
      "        114680,\n",
      "        102333,\n",
      "        186219,\n",
      "        115182,\n",
      "        101909,\n",
      "        2741130,\n",
      "        64194,\n",
      "        1301734,\n",
      "        143156,\n",
      "        120957,\n",
      "        523512,\n",
      "        \"13\"\n",
      "    ],\n",
      "    [\n",
      "        259796,\n",
      "        1083822,\n",
      "        0,\n",
      "        56009,\n",
      "        1978130,\n",
      "        4485108,\n",
      "        268934,\n",
      "        258558,\n",
      "        342008,\n",
      "        279915,\n",
      "        280215,\n",
      "        6146782,\n",
      "        168202,\n",
      "        2977981,\n",
      "        402983,\n",
      "        328561,\n",
      "        1365380,\n",
      "        \"12\"\n",
      "    ],\n",
      "    [\n",
      "        155248,\n",
      "        566989,\n",
      "        0,\n",
      "        57663,\n",
      "        1132473,\n",
      "        2643972,\n",
      "        148280,\n",
      "        141625,\n",
      "        207214,\n",
      "        176266,\n",
      "        154738,\n",
      "        3840281,\n",
      "        96105,\n",
      "        1894950,\n",
      "        257253,\n",
      "        154101,\n",
      "        789906,\n",
      "        \"14\"\n",
      "    ],\n",
      "    [\n",
      "        170366,\n",
      "        851500,\n",
      "        0,\n",
      "        66803,\n",
      "        1863505,\n",
      "        3638564,\n",
      "        228637,\n",
      "        203765,\n",
      "        291265,\n",
      "        228320,\n",
      "        305735,\n",
      "        5414577,\n",
      "        120953,\n",
      "        3016707,\n",
      "        380307,\n",
      "        229443,\n",
      "        1151221,\n",
      "        \"15\"\n",
      "    ],\n",
      "    [\n",
      "        354648,\n",
      "        749627,\n",
      "        0,\n",
      "        129630,\n",
      "        2140343,\n",
      "        3865409,\n",
      "        610105,\n",
      "        332414,\n",
      "        490180,\n",
      "        412111,\n",
      "        412125,\n",
      "        7806866,\n",
      "        259026,\n",
      "        3253613,\n",
      "        547229,\n",
      "        464720,\n",
      "        968127,\n",
      "        \"17\"\n",
      "    ]\n",
      "]\n"
     ]
    }
   ],
   "source": [
    "print(json.dumps(census_wtd_json, indent=4)) # long output"
   ]
  },
  {
   "cell_type": "code",
   "execution_count": 198,
   "metadata": {},
   "outputs": [
    {
     "name": "stdout",
     "output_type": "stream",
     "text": [
      "<class 'pandas.core.frame.DataFrame'>\n",
      "Int64Index: 18 entries, 9 to 17\n",
      "Data columns (total 17 columns):\n",
      " #   Column  Non-Null Count  Dtype\n",
      "---  ------  --------------  -----\n",
      " 0   35      18 non-null     int64\n",
      " 1   41      18 non-null     int64\n",
      " 2   0       18 non-null     int64\n",
      " 3   31      18 non-null     int64\n",
      " 4   44      18 non-null     int64\n",
      " 5   43      18 non-null     int64\n",
      " 6   34      18 non-null     int64\n",
      " 7   38      18 non-null     int64\n",
      " 8   37      18 non-null     int64\n",
      " 9   33      18 non-null     int64\n",
      " 10  45      18 non-null     int64\n",
      " 11  39      18 non-null     int64\n",
      " 12  32      18 non-null     int64\n",
      " 13  40      18 non-null     int64\n",
      " 14  46      18 non-null     int64\n",
      " 15  36      18 non-null     int64\n",
      " 16  42      18 non-null     int64\n",
      "dtypes: int64(17)\n",
      "memory usage: 2.5 KB\n",
      "None\n"
     ]
    }
   ],
   "source": [
    "# Convert returned JSON to dataframe\n",
    "drop_keys = census_wtd_json[1:]\n",
    "get_keys = census_wtd_json[0]\n",
    "w_df = pd.read_json(json.dumps(drop_keys), typ = \"frame\", orient = \"values\")\n",
    "cols = []\n",
    "for k in get_keys:\n",
    "    if isinstance(k, dict):\n",
    "        v = [e[:] for e in k.values()]\n",
    "        cols.append(v[0])\n",
    "    if isinstance(k, str):\n",
    "        cols.append(k)\n",
    "w_df.columns = cols\n",
    "w_df.set_index(\"AGE1\", inplace = True)\n",
    "print(w_df.info())"
   ]
  },
  {
   "cell_type": "code",
   "execution_count": 199,
   "metadata": {},
   "outputs": [
    {
     "data": {
      "text/html": [
       "<div>\n",
       "<style scoped>\n",
       "    .dataframe tbody tr th:only-of-type {\n",
       "        vertical-align: middle;\n",
       "    }\n",
       "\n",
       "    .dataframe tbody tr th {\n",
       "        vertical-align: top;\n",
       "    }\n",
       "\n",
       "    .dataframe thead th {\n",
       "        text-align: right;\n",
       "    }\n",
       "</style>\n",
       "<table border=\"1\" class=\"dataframe\">\n",
       "  <thead>\n",
       "    <tr style=\"text-align: right;\">\n",
       "      <th></th>\n",
       "      <th>35</th>\n",
       "      <th>41</th>\n",
       "      <th>0</th>\n",
       "      <th>31</th>\n",
       "      <th>44</th>\n",
       "      <th>43</th>\n",
       "      <th>34</th>\n",
       "      <th>38</th>\n",
       "      <th>37</th>\n",
       "      <th>33</th>\n",
       "      <th>45</th>\n",
       "      <th>39</th>\n",
       "      <th>32</th>\n",
       "      <th>40</th>\n",
       "      <th>46</th>\n",
       "      <th>36</th>\n",
       "      <th>42</th>\n",
       "    </tr>\n",
       "    <tr>\n",
       "      <th>AGE1</th>\n",
       "      <th></th>\n",
       "      <th></th>\n",
       "      <th></th>\n",
       "      <th></th>\n",
       "      <th></th>\n",
       "      <th></th>\n",
       "      <th></th>\n",
       "      <th></th>\n",
       "      <th></th>\n",
       "      <th></th>\n",
       "      <th></th>\n",
       "      <th></th>\n",
       "      <th></th>\n",
       "      <th></th>\n",
       "      <th></th>\n",
       "      <th></th>\n",
       "      <th></th>\n",
       "    </tr>\n",
       "  </thead>\n",
       "  <tbody>\n",
       "    <tr>\n",
       "      <th>9</th>\n",
       "      <td>314869</td>\n",
       "      <td>914820</td>\n",
       "      <td>0</td>\n",
       "      <td>34124</td>\n",
       "      <td>2658149</td>\n",
       "      <td>5036686</td>\n",
       "      <td>298526</td>\n",
       "      <td>283375</td>\n",
       "      <td>282743</td>\n",
       "      <td>307977</td>\n",
       "      <td>394458</td>\n",
       "      <td>5039375</td>\n",
       "      <td>112508</td>\n",
       "      <td>2743662</td>\n",
       "      <td>468306</td>\n",
       "      <td>269929</td>\n",
       "      <td>1237130</td>\n",
       "    </tr>\n",
       "    <tr>\n",
       "      <th>6</th>\n",
       "      <td>186793</td>\n",
       "      <td>903353</td>\n",
       "      <td>0</td>\n",
       "      <td>35343</td>\n",
       "      <td>1752186</td>\n",
       "      <td>6668554</td>\n",
       "      <td>127343</td>\n",
       "      <td>285213</td>\n",
       "      <td>354979</td>\n",
       "      <td>91872</td>\n",
       "      <td>200201</td>\n",
       "      <td>6304709</td>\n",
       "      <td>23674</td>\n",
       "      <td>3891482</td>\n",
       "      <td>185560</td>\n",
       "      <td>175782</td>\n",
       "      <td>1405260</td>\n",
       "    </tr>\n",
       "    <tr>\n",
       "      <th>5</th>\n",
       "      <td>92577</td>\n",
       "      <td>389627</td>\n",
       "      <td>0</td>\n",
       "      <td>15990</td>\n",
       "      <td>211669</td>\n",
       "      <td>3181597</td>\n",
       "      <td>67912</td>\n",
       "      <td>177681</td>\n",
       "      <td>233548</td>\n",
       "      <td>43131</td>\n",
       "      <td>10135</td>\n",
       "      <td>3721697</td>\n",
       "      <td>11315</td>\n",
       "      <td>3494541</td>\n",
       "      <td>7623</td>\n",
       "      <td>139139</td>\n",
       "      <td>744376</td>\n",
       "    </tr>\n",
       "    <tr>\n",
       "      <th>4</th>\n",
       "      <td>51054</td>\n",
       "      <td>171027</td>\n",
       "      <td>0</td>\n",
       "      <td>15589</td>\n",
       "      <td>16770</td>\n",
       "      <td>222168</td>\n",
       "      <td>57125</td>\n",
       "      <td>202790</td>\n",
       "      <td>206899</td>\n",
       "      <td>7866</td>\n",
       "      <td>0</td>\n",
       "      <td>2919202</td>\n",
       "      <td>6153</td>\n",
       "      <td>4163847</td>\n",
       "      <td>0</td>\n",
       "      <td>85361</td>\n",
       "      <td>353451</td>\n",
       "    </tr>\n",
       "    <tr>\n",
       "      <th>8</th>\n",
       "      <td>310629</td>\n",
       "      <td>876556</td>\n",
       "      <td>0</td>\n",
       "      <td>47813</td>\n",
       "      <td>2714555</td>\n",
       "      <td>5746319</td>\n",
       "      <td>279523</td>\n",
       "      <td>270560</td>\n",
       "      <td>300046</td>\n",
       "      <td>277076</td>\n",
       "      <td>379479</td>\n",
       "      <td>5002109</td>\n",
       "      <td>99229</td>\n",
       "      <td>3083392</td>\n",
       "      <td>544623</td>\n",
       "      <td>292238</td>\n",
       "      <td>1383291</td>\n",
       "    </tr>\n",
       "  </tbody>\n",
       "</table>\n",
       "</div>"
      ],
      "text/plain": [
       "          35      41  0     31       44       43      34      38      37  \\\n",
       "AGE1                                                                       \n",
       "9     314869  914820  0  34124  2658149  5036686  298526  283375  282743   \n",
       "6     186793  903353  0  35343  1752186  6668554  127343  285213  354979   \n",
       "5      92577  389627  0  15990   211669  3181597   67912  177681  233548   \n",
       "4      51054  171027  0  15589    16770   222168   57125  202790  206899   \n",
       "8     310629  876556  0  47813  2714555  5746319  279523  270560  300046   \n",
       "\n",
       "          33      45       39      32       40      46      36       42  \n",
       "AGE1                                                                     \n",
       "9     307977  394458  5039375  112508  2743662  468306  269929  1237130  \n",
       "6      91872  200201  6304709   23674  3891482  185560  175782  1405260  \n",
       "5      43131   10135  3721697   11315  3494541    7623  139139   744376  \n",
       "4       7866       0  2919202    6153  4163847       0   85361   353451  \n",
       "8     277076  379479  5002109   99229  3083392  544623  292238  1383291  "
      ]
     },
     "execution_count": 199,
     "metadata": {},
     "output_type": "execute_result"
    }
   ],
   "source": [
    "w_df.head()"
   ]
  }
 ],
 "metadata": {
  "kernelspec": {
   "display_name": "Python 3 (ipykernel)",
   "language": "python",
   "name": "python3"
  },
  "language_info": {
   "codemirror_mode": {
    "name": "ipython",
    "version": 3
   },
   "file_extension": ".py",
   "mimetype": "text/x-python",
   "name": "python",
   "nbconvert_exporter": "python",
   "pygments_lexer": "ipython3",
   "version": "3.9.7"
  }
 },
 "nbformat": 4,
 "nbformat_minor": 4
}
